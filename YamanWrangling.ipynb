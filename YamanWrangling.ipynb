{
 "cells": [
  {
   "cell_type": "code",
   "execution_count": 71,
   "metadata": {},
   "outputs": [],
   "source": [
    "#importing libraries \n",
    "import numpy as np\n",
    "import pandas as pd\n",
    "import matplotlib.pyplot as plt\n",
    "import seaborn as sns"
   ]
  },
  {
   "cell_type": "code",
   "execution_count": 72,
   "metadata": {},
   "outputs": [],
   "source": [
    "# We decided to configure out settings exactly like we did for A2\n",
    "\n",
    "# Configure libraries\n",
    "# The seaborn library makes plots look nicer\n",
    "sns.set()\n",
    "sns.set_context('talk')\n",
    "\n",
    "# Don't display too many rows/cols of DataFrames\n",
    "pd.options.display.max_rows = 7\n",
    "pd.options.display.max_columns = 8\n",
    "\n",
    "# Round decimals when displaying DataFrames\n",
    "pd.set_option('precision', 2)"
   ]
  },
  {
   "cell_type": "markdown",
   "metadata": {},
   "source": [
    "\n",
    "\n",
    "We have two main files in our data set: googleplaystore.csv and googleplaystore_user_reviews.csv\n",
    "\n",
    "For analysis of app names, we can focus on just the first data set.\n",
    "\n"
   ]
  },
  {
   "cell_type": "code",
   "execution_count": 73,
   "metadata": {},
   "outputs": [],
   "source": [
    "df = pd.read_csv(\"gpsa/googleplaystore.csv\")"
   ]
  },
  {
   "cell_type": "code",
   "execution_count": 74,
   "metadata": {},
   "outputs": [
    {
     "name": "stdout",
     "output_type": "stream",
     "text": [
      "['App', 'Category', 'Rating', 'Reviews', 'Size', 'Installs', 'Type', 'Price', 'Content Rating', 'Genres', 'Last Updated', 'Current Ver', 'Android Ver']\n"
     ]
    }
   ],
   "source": [
    "#show the headers of the different columns\n",
    "print(list(df.columns.values))"
   ]
  },
  {
   "cell_type": "code",
   "execution_count": null,
   "metadata": {},
   "outputs": [],
   "source": [
    "#A### HOW ABOUT REMAINING MORE COLUMNS IN ADDITION TO THE COLUMNS ALREADY SELECTED SUCH AS INSTALLS, TYPE, PRICE, CATEGORY??\n",
    "#A### i THINK THEY COULD BE HELPFUL IN FUTHER ANALYSIS \n",
    "#A###\n",
    "#A### df = df[['App', 'Rating', 'Reviews', 'Installs', 'Type', 'Price', 'Category']]\n",
    "\n",
    "#A### also the I think it is useful to remain dataset without duplicates in column 'App'\n",
    "#A### df.drop_duplicates(['App'], inplace = True)"
   ]
  },
  {
   "cell_type": "code",
   "execution_count": 75,
   "metadata": {},
   "outputs": [],
   "source": [
    "#We only need the app names, ratings, reviews (number of) , and rating. \n",
    "df = df[['App', 'Rating', 'Reviews']]"
   ]
  },
  {
   "cell_type": "code",
   "execution_count": 76,
   "metadata": {},
   "outputs": [
    {
     "data": {
      "text/plain": [
       "<bound method NDFrame.head of                                                      App  Rating Reviews\n",
       "0         Photo Editor & Candy Camera & Grid & ScrapBook     4.1     159\n",
       "1                                    Coloring book moana     3.9     967\n",
       "2      U Launcher Lite – FREE Live Cool Themes, Hide ...     4.7   87510\n",
       "...                                                  ...     ...     ...\n",
       "10838                             Parkinson Exercices FR     NaN       3\n",
       "10839                      The SCP Foundation DB fr nn5n     4.5     114\n",
       "10840      iHoroscope - 2018 Daily Horoscope & Astrology     4.5  398307\n",
       "\n",
       "[10841 rows x 3 columns]>"
      ]
     },
     "execution_count": 76,
     "metadata": {},
     "output_type": "execute_result"
    }
   ],
   "source": [
    "#preview the dataframe\n",
    "df.head"
   ]
  },
  {
   "cell_type": "code",
   "execution_count": 77,
   "metadata": {},
   "outputs": [],
   "source": [
    "#It turns out that the reviews (number of) column is a column of strings\n",
    "#Every time the number of reviews is in the millions, it is denoted with 'M'\n",
    "#We need to fix all occurences of this to properly typecast\n",
    "\n",
    "#We replace the instances of 'M' in the original column with E6\n",
    "df['Reviews'] = df['Reviews'].replace({'M': 'E6'}, regex=True)"
   ]
  },
  {
   "cell_type": "code",
   "execution_count": 78,
   "metadata": {},
   "outputs": [],
   "source": [
    "#The E6 allows us to convert the column of strings into a column of floats since\n",
    "        #E6 is evaluated as *1000000\n",
    "    \n",
    "df['Reviews'] = df['Reviews'].astype(float)"
   ]
  },
  {
   "cell_type": "code",
   "execution_count": 79,
   "metadata": {},
   "outputs": [],
   "source": [
    "#We drop everything outside 2 std\n",
    "\n",
    "df['Word Count'] = df['App'].str.split().str.len()"
   ]
  },
  {
   "cell_type": "code",
   "execution_count": 80,
   "metadata": {},
   "outputs": [],
   "source": [
    "df['Char Count'] = df['App'].str.len() - df['App'].str.count(' ')"
   ]
  },
  {
   "cell_type": "code",
   "execution_count": 82,
   "metadata": {},
   "outputs": [],
   "source": [
    "#Remove any rows with null values\n",
    "df = df.dropna(how='any')"
   ]
  },
  {
   "cell_type": "code",
   "execution_count": 83,
   "metadata": {},
   "outputs": [
    {
     "data": {
      "text/plain": [
       "<bound method NDFrame.head of                                                      App  Rating   Reviews  \\\n",
       "0         Photo Editor & Candy Camera & Grid & ScrapBook     4.1     159.0   \n",
       "1                                    Coloring book moana     3.9     967.0   \n",
       "2      U Launcher Lite – FREE Live Cool Themes, Hide ...     4.7   87510.0   \n",
       "...                                                  ...     ...       ...   \n",
       "10837                   Fr. Mike Schmitz Audio Teachings     5.0       4.0   \n",
       "10839                      The SCP Foundation DB fr nn5n     4.5     114.0   \n",
       "10840      iHoroscope - 2018 Daily Horoscope & Astrology     4.5  398307.0   \n",
       "\n",
       "       Word Count  Char Count  \n",
       "0               9          38  \n",
       "1               3          17  \n",
       "2              10          41  \n",
       "...           ...         ...  \n",
       "10837           5          28  \n",
       "10839           6          24  \n",
       "10840           7          39  \n",
       "\n",
       "[9367 rows x 5 columns]>"
      ]
     },
     "execution_count": 83,
     "metadata": {},
     "output_type": "execute_result"
    }
   ],
   "source": [
    "#preview table again\n",
    "df.head"
   ]
  },
  {
   "cell_type": "code",
   "execution_count": null,
   "metadata": {},
   "outputs": [],
   "source": [
    "#A### the code below creates many columns with binary variable\n",
    "#A### e.g. values in column 'a' are equal to 1 if 'a' is contained in apps name and 0 otherwise\n",
    "#A### or values in column 'wq' are equal to 1 if 'wq' is contained in apps name and 0 otherwise\n",
    "\n",
    "#A### Then we count how many ones are in each of the created columns to assess if the column is useful\n",
    "#A### If there are not a lot of ones in a column (less than 0.025 * (# of rows) for example)\n",
    "#A### or too many (more than 0.975 * (# of rows) for example) we remove such a column\n",
    "\n",
    "#A### it is done because, for example there are not a lot of titles with 'wq' inside them\n",
    "#A### so 'wq' column is not useful for our analysis\n",
    "\n",
    "'''\n",
    "import string\n",
    "alphabet = list(string.ascii_lowercase)\n",
    "\n",
    "for k in alphabet:\n",
    "    q1 = []\n",
    "    for i in df['App']:\n",
    "        if k in i:\n",
    "            q1.append(1)\n",
    "        else:\n",
    "            q1.append(0)\n",
    "    df[k] = q1\n",
    "\n",
    "alphabet1 = []\n",
    "for i in alphabet:\n",
    "    for k in alphabet:\n",
    "        alphabet1.append(i + k)\n",
    "        \n",
    "for k in alphabet1:\n",
    "    q2 = []\n",
    "    for i in df['App']:\n",
    "        if k in i:\n",
    "            q2.append(1)\n",
    "        else:\n",
    "            q2.append(0)\n",
    "    df[k] = q2\n",
    "\n",
    "\n",
    "rem_list = []                           ##here 13 and 715 are indexes of first and last created columns  \n",
    "for i in range(13,715):                 ##it is possible when you will try to execute code you will need to insert proper values \n",
    "    if sum(df[df.columns[i]]) < 0.025*df.shape[0] or sum(df[df.columns[i]]) > 0.975*df.shape[0]:\n",
    "        rem_list.append(i)\n",
    "\n",
    "\n",
    "s = 0\n",
    "for i in rem_list:\n",
    "    i = i - s\n",
    "    del df[df.columns[i]]\n",
    "    s += 1\n",
    "'''\n"
   ]
  }
 ],
 "metadata": {
  "kernelspec": {
   "display_name": "Python 3",
   "language": "python",
   "name": "python3"
  },
  "language_info": {
   "codemirror_mode": {
    "name": "ipython",
    "version": 3
   },
   "file_extension": ".py",
   "mimetype": "text/x-python",
   "name": "python",
   "nbconvert_exporter": "python",
   "pygments_lexer": "ipython3",
   "version": "3.7.0"
  }
 },
 "nbformat": 4,
 "nbformat_minor": 2
}
