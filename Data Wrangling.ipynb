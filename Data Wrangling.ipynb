{
 "cells": [
  {
   "cell_type": "markdown",
   "metadata": {},
   "source": [
    "## Setting up"
   ]
  },
  {
   "cell_type": "code",
   "execution_count": 1,
   "metadata": {},
   "outputs": [],
   "source": [
    "#importing libraries \n",
    "import numpy as np\n",
    "import pandas as pd\n",
    "import matplotlib.pyplot as plt\n",
    "import seaborn as sns"
   ]
  },
  {
   "cell_type": "code",
   "execution_count": 2,
   "metadata": {},
   "outputs": [],
   "source": [
    "# We decided to configure out settings exactly like we did for A2\n",
    "\n",
    "# Configure libraries\n",
    "# The seaborn library makes plots look nicer\n",
    "sns.set()\n",
    "sns.set_context('talk')\n",
    "\n",
    "# Don't display too many rows/cols of DataFrames\n",
    "pd.options.display.max_rows = 7\n",
    "pd.options.display.max_columns = 8\n",
    "\n",
    "# Round decimals when displaying DataFrames\n",
    "pd.set_option('precision', 2)"
   ]
  },
  {
   "cell_type": "markdown",
   "metadata": {},
   "source": [
    "# Data Wrangling"
   ]
  },
  {
   "cell_type": "markdown",
   "metadata": {},
   "source": [
    "We have two main files in our data set: googleplaystore.csv and googleplaystore_user_reviews.csv.\n",
    "\n",
    "For an analysis of app names, we can focus on just the first data set. The second data set gives us reviews of each app, which is not needed for this project."
   ]
  },
  {
   "cell_type": "code",
   "execution_count": 3,
   "metadata": {},
   "outputs": [],
   "source": [
    "df = pd.read_csv(\"gpsa/googleplaystore.csv\")"
   ]
  },
  {
   "cell_type": "code",
   "execution_count": 4,
   "metadata": {},
   "outputs": [
    {
     "name": "stdout",
     "output_type": "stream",
     "text": [
      "['App', 'Category', 'Rating', 'Reviews', 'Size', 'Installs', 'Type', 'Price', 'Content Rating', 'Genres', 'Last Updated', 'Current Ver', 'Android Ver']\n"
     ]
    }
   ],
   "source": [
    "# Show the headers of the different columns\n",
    "print(list(df.columns.values))"
   ]
  },
  {
   "cell_type": "code",
   "execution_count": 5,
   "metadata": {},
   "outputs": [],
   "source": [
    "# Remove any duplicate applications\n",
    "df.drop_duplicates(['App'], inplace = True)"
   ]
  },
  {
   "cell_type": "code",
   "execution_count": 6,
   "metadata": {},
   "outputs": [],
   "source": [
    "# We decided that we only need the app names, ratings, number of installations, and category. \n",
    "df = df[['App', 'Rating', 'Installs','Category']]"
   ]
  },
  {
   "cell_type": "markdown",
   "metadata": {},
   "source": [
    "The 'size' of apps, the 'type' (either free or paid), 'price', 'content rating' (as in rating for suggested age group), the date of when they were 'last updated', and the versions ('current ver' and 'android ver') have little to do with our analysis of title length, so those columns were dropped. We also decided to drop the 'genre' column since it is a less reliable variant of the 'category' column; apps can only belong in one category, but they can belong in multiple genres."
   ]
  },
  {
   "cell_type": "code",
   "execution_count": 7,
   "metadata": {},
   "outputs": [
    {
     "name": "stdout",
     "output_type": "stream",
     "text": [
      "0 1463 0 0\n"
     ]
    }
   ],
   "source": [
    "# Count amount of missing values in the dataset\n",
    "app_nans = df['App'].isna().sum()\n",
    "rating_nans = df['Rating'].isna().sum()\n",
    "installs_nans = df['Installs'].isna().sum()\n",
    "category_nans = df['Category'].isna().sum()\n",
    "print(app_nans, rating_nans, installs_nans, category_nans)"
   ]
  },
  {
   "cell_type": "code",
   "execution_count": 8,
   "metadata": {},
   "outputs": [],
   "source": [
    "# The only column in our current dataset that has missing values is 'Ratings'.\n",
    "# Since we absolutely need ratings values for every observation we have, we will drop all of the rows without them.\n",
    "df = df.dropna()"
   ]
  },
  {
   "cell_type": "code",
   "execution_count": 9,
   "metadata": {},
   "outputs": [
    {
     "data": {
      "text/plain": [
       "<bound method NDFrame.head of                                                      App  Rating     Installs  \\\n",
       "0         Photo Editor & Candy Camera & Grid & ScrapBook     4.1      10,000+   \n",
       "1                                    Coloring book moana     3.9     500,000+   \n",
       "2      U Launcher Lite – FREE Live Cool Themes, Hide ...     4.7   5,000,000+   \n",
       "...                                                  ...     ...          ...   \n",
       "10837                   Fr. Mike Schmitz Audio Teachings     5.0         100+   \n",
       "10839                      The SCP Foundation DB fr nn5n     4.5       1,000+   \n",
       "10840      iHoroscope - 2018 Daily Horoscope & Astrology     4.5  10,000,000+   \n",
       "\n",
       "                  Category  \n",
       "0           ART_AND_DESIGN  \n",
       "1           ART_AND_DESIGN  \n",
       "2           ART_AND_DESIGN  \n",
       "...                    ...  \n",
       "10837               FAMILY  \n",
       "10839  BOOKS_AND_REFERENCE  \n",
       "10840            LIFESTYLE  \n",
       "\n",
       "[8197 rows x 4 columns]>"
      ]
     },
     "execution_count": 9,
     "metadata": {},
     "output_type": "execute_result"
    }
   ],
   "source": [
    "# Preview the dataframe\n",
    "df.head"
   ]
  },
  {
   "cell_type": "code",
   "execution_count": 10,
   "metadata": {},
   "outputs": [
    {
     "data": {
      "text/plain": [
       "\"\\n#It turns out that the reviews (number of) column is a column of strings\\n#Every time the number of reviews is in the millions, it is denoted with 'M'\\n#We need to fix all occurences of this to properly typecast\\n\\n#We replace the instances of 'M' in the original column with E6\\ndf['Reviews'] = df['Reviews'].replace({'M': 'E6'}, regex=True)\\n\""
      ]
     },
     "execution_count": 10,
     "metadata": {},
     "output_type": "execute_result"
    }
   ],
   "source": [
    "\"\"\"\n",
    "#It turns out that the reviews (number of) column is a column of strings\n",
    "#Every time the number of reviews is in the millions, it is denoted with 'M'\n",
    "#We need to fix all occurences of this to properly typecast\n",
    "\n",
    "#We replace the instances of 'M' in the original column with E6\n",
    "df['Reviews'] = df['Reviews'].replace({'M': 'E6'}, regex=True)\n",
    "\"\"\""
   ]
  },
  {
   "cell_type": "code",
   "execution_count": 11,
   "metadata": {},
   "outputs": [
    {
     "data": {
      "text/plain": [
       "<bound method NDFrame.head of                                                      App  Rating  Installs  \\\n",
       "0         Photo Editor & Candy Camera & Grid & ScrapBook     4.1  1.00e+04   \n",
       "1                                    Coloring book moana     3.9  5.00e+05   \n",
       "2      U Launcher Lite – FREE Live Cool Themes, Hide ...     4.7  5.00e+06   \n",
       "...                                                  ...     ...       ...   \n",
       "10837                   Fr. Mike Schmitz Audio Teachings     5.0  1.00e+02   \n",
       "10839                      The SCP Foundation DB fr nn5n     4.5  1.00e+03   \n",
       "10840      iHoroscope - 2018 Daily Horoscope & Astrology     4.5  1.00e+07   \n",
       "\n",
       "                  Category  \n",
       "0           ART_AND_DESIGN  \n",
       "1           ART_AND_DESIGN  \n",
       "2           ART_AND_DESIGN  \n",
       "...                    ...  \n",
       "10837               FAMILY  \n",
       "10839  BOOKS_AND_REFERENCE  \n",
       "10840            LIFESTYLE  \n",
       "\n",
       "[8197 rows x 4 columns]>"
      ]
     },
     "execution_count": 11,
     "metadata": {},
     "output_type": "execute_result"
    }
   ],
   "source": [
    "# It turns out that the 'Installs' column is a column of strings instead of integers\n",
    "\n",
    "# Delete the '+' chars that are in these strings in 'Installs'\n",
    "df['Installs'] = df['Installs'].str.replace('+', '')\n",
    "# Delete the ',' chars that are in these strings in 'Installs'\n",
    "df['Installs'] = df['Installs'].str.replace(',', '')\n",
    "\n",
    "# Type cast these strings into integers\n",
    "df['Installs'] = pd.to_numeric(df['Installs'], errors='coerce')\n",
    "\n",
    "df.head"
   ]
  },
  {
   "cell_type": "code",
   "execution_count": 12,
   "metadata": {},
   "outputs": [],
   "source": [
    "#The E6 allows us to convert the column of strings into a column of floats since\n",
    "        #E6 is evaluated as *1000000\n",
    "    \n",
    "#df['Reviews'] = df['Reviews'].astype(float)"
   ]
  },
  {
   "cell_type": "code",
   "execution_count": 13,
   "metadata": {},
   "outputs": [],
   "source": [
    "# Create a word count column \n",
    "df['Word Count'] = df['App'].str.split().str.len()\n",
    "\n",
    "# TODO - We drop everything outside 2 standard deviations (after histograms)"
   ]
  },
  {
   "cell_type": "code",
   "execution_count": 14,
   "metadata": {},
   "outputs": [],
   "source": [
    "df['Char Count'] = df['App'].str.len() - df['App'].str.count(' ')"
   ]
  },
  {
   "cell_type": "code",
   "execution_count": 15,
   "metadata": {},
   "outputs": [
    {
     "data": {
      "text/plain": [
       "<bound method NDFrame.head of                                                      App  Rating  Installs  \\\n",
       "0         Photo Editor & Candy Camera & Grid & ScrapBook     4.1  1.00e+04   \n",
       "1                                    Coloring book moana     3.9  5.00e+05   \n",
       "2      U Launcher Lite – FREE Live Cool Themes, Hide ...     4.7  5.00e+06   \n",
       "...                                                  ...     ...       ...   \n",
       "10837                   Fr. Mike Schmitz Audio Teachings     5.0  1.00e+02   \n",
       "10839                      The SCP Foundation DB fr nn5n     4.5  1.00e+03   \n",
       "10840      iHoroscope - 2018 Daily Horoscope & Astrology     4.5  1.00e+07   \n",
       "\n",
       "                  Category  Word Count  Char Count  \n",
       "0           ART_AND_DESIGN           9          38  \n",
       "1           ART_AND_DESIGN           3          17  \n",
       "2           ART_AND_DESIGN          10          41  \n",
       "...                    ...         ...         ...  \n",
       "10837               FAMILY           5          28  \n",
       "10839  BOOKS_AND_REFERENCE           6          24  \n",
       "10840            LIFESTYLE           7          39  \n",
       "\n",
       "[8197 rows x 6 columns]>"
      ]
     },
     "execution_count": 15,
     "metadata": {},
     "output_type": "execute_result"
    }
   ],
   "source": [
    "#preview table again\n",
    "df.head"
   ]
  },
  {
   "cell_type": "code",
   "execution_count": 16,
   "metadata": {},
   "outputs": [
    {
     "data": {
      "text/plain": [
       "\"\\nimport string\\nalphabet = list(string.ascii_lowercase)\\n\\nfor k in alphabet:\\n    q1 = []\\n    for i in df['App']:\\n        if k in i:\\n            q1.append(1)\\n        else:\\n            q1.append(0)\\n    df[k] = q1\\n\\nalphabet1 = []\\nfor i in alphabet:\\n    for k in alphabet:\\n        alphabet1.append(i + k)\\n        \\nfor k in alphabet1:\\n    q2 = []\\n    for i in df['App']:\\n        if k in i:\\n            q2.append(1)\\n        else:\\n            q2.append(0)\\n    df[k] = q2\\n\\n\\nrem_list = []                           ##here 13 and 715 are indexes of first and last created columns  \\nfor i in range(13,715):                 ##it is possible when you will try to execute code you will need to insert proper values \\n    if sum(df[df.columns[i]]) < 0.025*df.shape[0] or sum(df[df.columns[i]]) > 0.975*df.shape[0]:\\n        rem_list.append(i)\\n\\n\\ns = 0\\nfor i in rem_list:\\n    i = i - s\\n    del df[df.columns[i]]\\n    s += 1\\n\""
      ]
     },
     "execution_count": 16,
     "metadata": {},
     "output_type": "execute_result"
    }
   ],
   "source": [
    "#A### the code below creates many columns with binary variable\n",
    "#A### e.g. values in column 'a' are equal to 1 if 'a' is contained in apps name and 0 otherwise\n",
    "#A### or values in column 'wq' are equal to 1 if 'wq' is contained in apps name and 0 otherwise\n",
    "\n",
    "#A### Then we count how many ones are in each of the created columns to assess if the column is useful\n",
    "#A### If there are not a lot of ones in a column (less than 0.025 * (# of rows) for example)\n",
    "#A### or too many (more than 0.975 * (# of rows) for example) we remove such a column\n",
    "\n",
    "#A### it is done because, for example there are not a lot of titles with 'wq' inside them\n",
    "#A### so 'wq' column is not useful for our analysis\n",
    "\n",
    "'''\n",
    "import string\n",
    "alphabet = list(string.ascii_lowercase)\n",
    "\n",
    "for k in alphabet:\n",
    "    q1 = []\n",
    "    for i in df['App']:\n",
    "        if k in i:\n",
    "            q1.append(1)\n",
    "        else:\n",
    "            q1.append(0)\n",
    "    df[k] = q1\n",
    "\n",
    "alphabet1 = []\n",
    "for i in alphabet:\n",
    "    for k in alphabet:\n",
    "        alphabet1.append(i + k)\n",
    "        \n",
    "for k in alphabet1:\n",
    "    q2 = []\n",
    "    for i in df['App']:\n",
    "        if k in i:\n",
    "            q2.append(1)\n",
    "        else:\n",
    "            q2.append(0)\n",
    "    df[k] = q2\n",
    "\n",
    "\n",
    "rem_list = []                           ##here 13 and 715 are indexes of first and last created columns  \n",
    "for i in range(13,715):                 ##it is possible when you will try to execute code you will need to insert proper values \n",
    "    if sum(df[df.columns[i]]) < 0.025*df.shape[0] or sum(df[df.columns[i]]) > 0.975*df.shape[0]:\n",
    "        rem_list.append(i)\n",
    "\n",
    "\n",
    "s = 0\n",
    "for i in rem_list:\n",
    "    i = i - s\n",
    "    del df[df.columns[i]]\n",
    "    s += 1\n",
    "'''\n"
   ]
  }
 ],
 "metadata": {
  "kernelspec": {
   "display_name": "Python 3",
   "language": "python",
   "name": "python3"
  },
  "language_info": {
   "codemirror_mode": {
    "name": "ipython",
    "version": 3
   },
   "file_extension": ".py",
   "mimetype": "text/x-python",
   "name": "python",
   "nbconvert_exporter": "python",
   "pygments_lexer": "ipython3",
   "version": "3.7.1"
  }
 },
 "nbformat": 4,
 "nbformat_minor": 2
}
