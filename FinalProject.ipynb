{
 "cells": [
  {
   "cell_type": "markdown",
   "metadata": {},
   "source": [
    "# COGS 108 - Final Project "
   ]
  },
  {
   "cell_type": "markdown",
   "metadata": {},
   "source": [
    "# Overview"
   ]
  },
  {
   "cell_type": "markdown",
   "metadata": {},
   "source": [
    "Nowadays, due to the huge variety of moblie applications, the competition inside the market is extremely high. Every application that wants to be successful has to utilize all available data in order to improve its quality and to avoid possible decisions that could detriment its success. Thus, correct analysis of different phenomena related to applications and discovery of any hidden patterns inside relevant data are essential in helping applications achieve these goals.\n",
    "\n",
    "Our team came up with the idea that an application's name could be an influential indicator of its success, and we hope to explore upon this idea in our project."
   ]
  },
  {
   "cell_type": "markdown",
   "metadata": {},
   "source": [
    "## Names\n",
    "\n",
    "- Aliaksandr Samushchyk\n",
    "- Jiayi Zhang\n",
    "- Soumya Agrawal\n",
    "- Richard Duong\n",
    "- Titan Ngo\n",
    "- Yaman El-Jandali\n",
    "\n",
    "## Group Members IDs\n",
    "\n",
    "- A15672156\n",
    "- A14533542\n",
    "- A14402679\n",
    "- A15196673\n",
    "- A15525832\n",
    "- A15753076"
   ]
  },
  {
   "cell_type": "markdown",
   "metadata": {},
   "source": [
    "# Hypothesis"
   ]
  },
  {
   "cell_type": "markdown",
   "metadata": {},
   "source": [
    "The main hypothesis is the following:\n",
    "   \n",
    "    - Does the title of an application influence its success? (1)\n",
    "\n",
    "We came up to this hypothesis because of several reasons. Sometimes it happens that we think about an application, we know it, but we are unable to remember its title. It makes it difficult to find and install this app or to suggest this app to another person. It could also happen that the title is so long to read that we become less interested in it. These ideas gave a rise to the hypothesis (1).  \n",
    "We will measure the success of an application using a few metrics such as the number of installations, the rating of an application, and the number of reviews for the app combined with sentiment analysis of the content of these reviews.\n",
    "We expect that the title has an influence on the applications’ success. In particular, we expect the length of titles to be a significant explanatory variable; from our point of view, the more time you spend to read the names of anything the less interest you keep. \n",
    "\n",
    "__TODO: add hypothesis about letters__"
   ]
  },
  {
   "cell_type": "markdown",
   "metadata": {},
   "source": [
    "# Research Questions"
   ]
  },
  {
   "cell_type": "markdown",
   "metadata": {},
   "source": [
    "There are several specific data science questions that we formulated. We expect that the answers to these questions will enable us to approve or disprove our hypothesis.\n",
    "\n",
    "__1) Is the length of an app’s name significant in explaining its success?__\n",
    "\n",
    "__2) Are there any letters/combinations of letters that tend to be present in more/less successful applications?__\n",
    "\n",
    "__3) What are the other variables that are significant?__"
   ]
  },
  {
   "cell_type": "markdown",
   "metadata": {},
   "source": [
    "# Methodology"
   ]
  },
  {
   "cell_type": "markdown",
   "metadata": {},
   "source": [
    "We will try to answer previously stated questions in our analysis.\n",
    "First of all, we will introduce our dependent variable (measure of success). In futher text it will be denoted as Y.\n",
    "Our main goal is to estimate a model (using OLS regression) of the form:\n",
    "\n",
    "$Y_{i}$ = $β^{T}·$$x_{i}$ + $e_{i}$\n",
    "\n",
    "Where:\n",
    "- $β$ is a vector of coefficients, \n",
    "- $x_{i}$ - vector of regressors,\n",
    "- $e_{i}$ - disturbance term;\n",
    "\n",
    "Remember the OLS assumptions:\n",
    "\n",
    "1) Linear form\n",
    "\n",
    "2) Homoscedasticity in errors\n",
    "\n",
    "3) No multicollinearity\n",
    "\n",
    "Since there will be a lot of  binary independent variables in out set of regressors(e.g. a column 'z', taking value 1 if an application's name contains 'z' inside it, and zero otherwise), we expect our matrix of regressors suffer from severe multicollinearity. In order to address this issue we will perform __Wilcoxon rank sum test__ on each of these binary variables separetely to determine the most relevant and significant ones. Once we determine such variables, we will keep them in our set of regressors. With the help of this procedure our attempt to satisfy third OLS assumption will have high chances to succeed.\n",
    "\n",
    "Then, we will run our OLS regression(__simple OLS__). Immideately after that, we will be able to perform __Breusch-Pagan test__ to see whether the errors of regression satisfy the second assumption. If they do not satisfy, we will run new regression. It will be still __OLS regression__, but this time it will be __robust to heteroscedasticity__ in errors.\n",
    "The reason why simple OLS(without robustness check) first is that if the errors of that regression satisfy the second assumption, the standard errors of estimated coefficients will be lower but still valid and correct. Thus, the p-values will also be lower and more accurate."
   ]
  },
  {
   "cell_type": "markdown",
   "metadata": {},
   "source": [
    "# Background and Prior Work"
   ]
  },
  {
   "cell_type": "markdown",
   "metadata": {},
   "source": [
    "The dataset that we found presents a lot of interesting insights about user\n",
    "preferences, and we want to explore the effects of certain user preferences on app\n",
    "rating and popularity.\n",
    "There is not a lot of background knowledge that we know about user preferences\n",
    "affecting app popularity other than the obvious correlations between app\n",
    "rating/popularity, so we would like to use the data to try and find more subtle biases\n",
    "that might affect it such as title/title length, etc.\n",
    "\n",
    "References:\n",
    "- 1)\n",
    "“A Statistical Analysis of the Apple App Store” by Colin Eberhardt\n",
    "Did a statistical analysis of prices of apps in the Apple App store. Did not do much\n",
    "other than basic statistical analysis, such as looking at the genre distribution of apps\n",
    "and the price differences across genres. Found a positive correlation between price\n",
    "and app rating.\n",
    "Source: https://blog.scottlogic.com/2014/03/20/app-store-analysis.html\n",
    "- 2)\n",
    "Did a statistical analysis of various factors that contribute to the success of an app in\n",
    "the Google Play Store. Found that most free apps are monetized by advertisements.\n",
    "Learned that ~80% of apps on the playstore have been downloaded less than 50k\n",
    "times. Found that a small amount of users who install actually take the time to write\n",
    "a review.\n",
    "Source:\n",
    "https://nycdatascience.com/blog/student-works/web-scraping/analysis-of-apps-in-the-google-play-store/\n",
    "\n",
    "The scope of our project is a bit beyond the analysis that these projects present, but\n",
    "in a similar vein. While these projects analyzed the more basic factors that weigh in\n",
    "the success of an app, we will be focusing more on subtle user preferences that are\n",
    "not as obvious to correlate to success."
   ]
  },
  {
   "cell_type": "markdown",
   "metadata": {},
   "source": [
    "# Dataset"
   ]
  },
  {
   "cell_type": "markdown",
   "metadata": {},
   "source": [
    "- Dataset Name: Google Play Store Apps\n",
    "- Link to the dataset: https://www.kaggle.com/lava18/google-play-store-apps?fbclid=IwAR0I6EIgxdnc3LWhwVVg85gZ9RokprTW6xDo47EQxwDu5Qkce24ZC2MbIBs#googleplaystore_user_reviews.csv\n",
    "- Number of observations: 64.3k\n",
    "\n",
    "__TODO - take out sentiment, also talk about combos of letters__\n",
    "\n",
    "This dataset provides up with a zipped folder containing two files. The first file has around 64.3k observations, with 5 variables. These include the app name, translated review, sentiment, sentiment polarity, and sentiment subject. Most of these variables have been preprocessed already, such as the translated review and sentiment. Many observations in this file (or the reviews), are for the same app. As for the second file, there are around 10.8k observations with 13 variables. The variables include app name, category of the app, the overall user rating, number of reviews, size of the app, number of installs, whether the app is paid or free, the price of the app, the content rating, the genres, when the data was last updated, the current version of the app available on the app store, and the minimum required Android version for the app. With these different features of the app, we will be able to ask our main question, which centers around the popularity of an app, and what makes it popular. Using the sentiment analysis on the reviews and analysis on the title (popular keywords in titles, length of the titles), we can determine factors other than the rating or number of installs to determine an app's popularity."
   ]
  },
  {
   "cell_type": "markdown",
   "metadata": {},
   "source": [
    "# Setup"
   ]
  },
  {
   "cell_type": "code",
   "execution_count": 124,
   "metadata": {},
   "outputs": [],
   "source": [
    "#importing libraries \n",
    "import numpy as np\n",
    "import pandas as pd\n",
    "import matplotlib.pyplot as plt\n",
    "import seaborn as sns\\\n",
    "\n",
    "# Display plots directly in the notebook instead of in a new window\n",
    "%matplotlib inline"
   ]
  },
  {
   "cell_type": "code",
   "execution_count": 125,
   "metadata": {},
   "outputs": [],
   "source": [
    "# We decided to configure out settings exactly like we did for A2\n",
    "\n",
    "# Configure libraries\n",
    "# The seaborn library makes plots look nicer\n",
    "sns.set()\n",
    "sns.set_context('talk')\n",
    "\n",
    "# Don't display too many rows/cols of DataFrames\n",
    "pd.options.display.max_rows = 7\n",
    "pd.options.display.max_columns = 8\n",
    "\n",
    "# Round decimals when displaying DataFrames\n",
    "pd.set_option('precision', 2)"
   ]
  },
  {
   "cell_type": "markdown",
   "metadata": {},
   "source": [
    "# Data Wrangling"
   ]
  },
  {
   "cell_type": "markdown",
   "metadata": {},
   "source": [
    "We have two main files in our data set: googleplaystore.csv and googleplaystore_user_reviews.csv.\n",
    "\n",
    "For an analysis of app names, we can focus on just the first data set. The second data set gives us reviews of each app, which is not needed for this project."
   ]
  },
  {
   "cell_type": "code",
   "execution_count": 183,
   "metadata": {},
   "outputs": [],
   "source": [
    "df = pd.read_csv(\"google_play_dataset/googleplaystore.csv\")"
   ]
  },
  {
   "cell_type": "code",
   "execution_count": 184,
   "metadata": {},
   "outputs": [
    {
     "data": {
      "text/html": [
       "<div>\n",
       "<style scoped>\n",
       "    .dataframe tbody tr th:only-of-type {\n",
       "        vertical-align: middle;\n",
       "    }\n",
       "\n",
       "    .dataframe tbody tr th {\n",
       "        vertical-align: top;\n",
       "    }\n",
       "\n",
       "    .dataframe thead th {\n",
       "        text-align: right;\n",
       "    }\n",
       "</style>\n",
       "<table border=\"1\" class=\"dataframe\">\n",
       "  <thead>\n",
       "    <tr style=\"text-align: right;\">\n",
       "      <th></th>\n",
       "      <th>App</th>\n",
       "      <th>Category</th>\n",
       "      <th>Rating</th>\n",
       "      <th>Reviews</th>\n",
       "      <th>...</th>\n",
       "      <th>Genres</th>\n",
       "      <th>Last Updated</th>\n",
       "      <th>Current Ver</th>\n",
       "      <th>Android Ver</th>\n",
       "    </tr>\n",
       "  </thead>\n",
       "  <tbody>\n",
       "    <tr>\n",
       "      <th>0</th>\n",
       "      <td>Photo Editor &amp; Candy Camera &amp; Grid &amp; ScrapBook</td>\n",
       "      <td>ART_AND_DESIGN</td>\n",
       "      <td>4.1</td>\n",
       "      <td>159</td>\n",
       "      <td>...</td>\n",
       "      <td>Art &amp; Design</td>\n",
       "      <td>January 7, 2018</td>\n",
       "      <td>1.0.0</td>\n",
       "      <td>4.0.3 and up</td>\n",
       "    </tr>\n",
       "    <tr>\n",
       "      <th>1</th>\n",
       "      <td>Coloring book moana</td>\n",
       "      <td>ART_AND_DESIGN</td>\n",
       "      <td>3.9</td>\n",
       "      <td>967</td>\n",
       "      <td>...</td>\n",
       "      <td>Art &amp; Design;Pretend Play</td>\n",
       "      <td>January 15, 2018</td>\n",
       "      <td>2.0.0</td>\n",
       "      <td>4.0.3 and up</td>\n",
       "    </tr>\n",
       "    <tr>\n",
       "      <th>2</th>\n",
       "      <td>U Launcher Lite – FREE Live Cool Themes, Hide ...</td>\n",
       "      <td>ART_AND_DESIGN</td>\n",
       "      <td>4.7</td>\n",
       "      <td>87510</td>\n",
       "      <td>...</td>\n",
       "      <td>Art &amp; Design</td>\n",
       "      <td>August 1, 2018</td>\n",
       "      <td>1.2.4</td>\n",
       "      <td>4.0.3 and up</td>\n",
       "    </tr>\n",
       "    <tr>\n",
       "      <th>...</th>\n",
       "      <td>...</td>\n",
       "      <td>...</td>\n",
       "      <td>...</td>\n",
       "      <td>...</td>\n",
       "      <td>...</td>\n",
       "      <td>...</td>\n",
       "      <td>...</td>\n",
       "      <td>...</td>\n",
       "      <td>...</td>\n",
       "    </tr>\n",
       "    <tr>\n",
       "      <th>10838</th>\n",
       "      <td>Parkinson Exercices FR</td>\n",
       "      <td>MEDICAL</td>\n",
       "      <td>NaN</td>\n",
       "      <td>3</td>\n",
       "      <td>...</td>\n",
       "      <td>Medical</td>\n",
       "      <td>January 20, 2017</td>\n",
       "      <td>1.0</td>\n",
       "      <td>2.2 and up</td>\n",
       "    </tr>\n",
       "    <tr>\n",
       "      <th>10839</th>\n",
       "      <td>The SCP Foundation DB fr nn5n</td>\n",
       "      <td>BOOKS_AND_REFERENCE</td>\n",
       "      <td>4.5</td>\n",
       "      <td>114</td>\n",
       "      <td>...</td>\n",
       "      <td>Books &amp; Reference</td>\n",
       "      <td>January 19, 2015</td>\n",
       "      <td>Varies with device</td>\n",
       "      <td>Varies with device</td>\n",
       "    </tr>\n",
       "    <tr>\n",
       "      <th>10840</th>\n",
       "      <td>iHoroscope - 2018 Daily Horoscope &amp; Astrology</td>\n",
       "      <td>LIFESTYLE</td>\n",
       "      <td>4.5</td>\n",
       "      <td>398307</td>\n",
       "      <td>...</td>\n",
       "      <td>Lifestyle</td>\n",
       "      <td>July 25, 2018</td>\n",
       "      <td>Varies with device</td>\n",
       "      <td>Varies with device</td>\n",
       "    </tr>\n",
       "  </tbody>\n",
       "</table>\n",
       "<p>10841 rows × 13 columns</p>\n",
       "</div>"
      ],
      "text/plain": [
       "                                                     App             Category  \\\n",
       "0         Photo Editor & Candy Camera & Grid & ScrapBook       ART_AND_DESIGN   \n",
       "1                                    Coloring book moana       ART_AND_DESIGN   \n",
       "2      U Launcher Lite – FREE Live Cool Themes, Hide ...       ART_AND_DESIGN   \n",
       "...                                                  ...                  ...   \n",
       "10838                             Parkinson Exercices FR              MEDICAL   \n",
       "10839                      The SCP Foundation DB fr nn5n  BOOKS_AND_REFERENCE   \n",
       "10840      iHoroscope - 2018 Daily Horoscope & Astrology            LIFESTYLE   \n",
       "\n",
       "       Rating Reviews         ...                             Genres  \\\n",
       "0         4.1     159         ...                       Art & Design   \n",
       "1         3.9     967         ...          Art & Design;Pretend Play   \n",
       "2         4.7   87510         ...                       Art & Design   \n",
       "...       ...     ...         ...                                ...   \n",
       "10838     NaN       3         ...                            Medical   \n",
       "10839     4.5     114         ...                  Books & Reference   \n",
       "10840     4.5  398307         ...                          Lifestyle   \n",
       "\n",
       "           Last Updated         Current Ver         Android Ver  \n",
       "0       January 7, 2018               1.0.0        4.0.3 and up  \n",
       "1      January 15, 2018               2.0.0        4.0.3 and up  \n",
       "2        August 1, 2018               1.2.4        4.0.3 and up  \n",
       "...                 ...                 ...                 ...  \n",
       "10838  January 20, 2017                 1.0          2.2 and up  \n",
       "10839  January 19, 2015  Varies with device  Varies with device  \n",
       "10840     July 25, 2018  Varies with device  Varies with device  \n",
       "\n",
       "[10841 rows x 13 columns]"
      ]
     },
     "execution_count": 184,
     "metadata": {},
     "output_type": "execute_result"
    }
   ],
   "source": [
    "# Preview dataset and get a grasp on its size\n",
    "df"
   ]
  },
  {
   "cell_type": "code",
   "execution_count": 185,
   "metadata": {},
   "outputs": [
    {
     "name": "stdout",
     "output_type": "stream",
     "text": [
      "['App', 'Category', 'Rating', 'Reviews', 'Size', 'Installs', 'Type', 'Price', 'Content Rating', 'Genres', 'Last Updated', 'Current Ver', 'Android Ver']\n"
     ]
    }
   ],
   "source": [
    "# Show the headers of the different columns\n",
    "print(list(df.columns.values))"
   ]
  },
  {
   "cell_type": "code",
   "execution_count": 186,
   "metadata": {},
   "outputs": [],
   "source": [
    "# Remove any duplicate applications\n",
    "# We only want to account for each app once \n",
    "df.drop_duplicates(['App'], inplace = True)"
   ]
  },
  {
   "cell_type": "code",
   "execution_count": 187,
   "metadata": {},
   "outputs": [],
   "source": [
    "# We decided that we only need the app names, ratings, and number of installations. \n",
    "df = df[['App', 'Rating', 'Installs', 'Price', 'Size', 'Reviews', 'Category']]"
   ]
  },
  {
   "cell_type": "markdown",
   "metadata": {},
   "source": [
    "After previewing our dataset, with 10841 observations and 13 variables, we realized that it has a lot of data we do not need.\n",
    "\n",
    "The __'Size'__ of apps, the __'Type'__ (either free or paid), __'Price'__, __'Content Rating'__ (as in the rating for the suggested age group), the date of when they were __'Last Updated'__, the __'Genres'__ and __'Category'__, and the versions (__'Current Ver'__ and __'Android Ver'__) have little to do with our analysis of specific characterisitcs of the length of title strings, so those columns were dropped.\n",
    "\n",
    "Our project seeks to see any relationship between characteristics of apps' titles with their success. However, we do not have any direct measure of this ___\"Success\"___. We decided to keep the __'Rating'__ and __'Installs'__ columns to determine ___\"Success\"___, but we still want to look at the distributions/correlations of these variables before committing to a specific method of calculation."
   ]
  },
  {
   "cell_type": "code",
   "execution_count": 188,
   "metadata": {},
   "outputs": [
    {
     "name": "stdout",
     "output_type": "stream",
     "text": [
      "app_nans: 0 \n",
      "rating_nans: 1463 \n",
      "installs_nans: 0\n"
     ]
    }
   ],
   "source": [
    "# Count amount of missing values in the dataset \n",
    "app_nans = df['App'].isna().sum()\n",
    "rating_nans = df['Rating'].isna().sum()\n",
    "installs_nans = df['Installs'].isna().sum()\n",
    "print(\"app_nans:\", app_nans,\"\\nrating_nans:\", rating_nans,\"\\ninstalls_nans:\", installs_nans)"
   ]
  },
  {
   "cell_type": "markdown",
   "metadata": {},
   "source": [
    "There seems to be a considerable amount of observations with missing values. However, the only column in our current dataset that has missing values is __'Ratings'__. Since we absolutely need ratings values for every observation that we have, we will drop all of the observations without them."
   ]
  },
  {
   "cell_type": "code",
   "execution_count": 189,
   "metadata": {},
   "outputs": [
    {
     "data": {
      "text/html": [
       "<div>\n",
       "<style scoped>\n",
       "    .dataframe tbody tr th:only-of-type {\n",
       "        vertical-align: middle;\n",
       "    }\n",
       "\n",
       "    .dataframe tbody tr th {\n",
       "        vertical-align: top;\n",
       "    }\n",
       "\n",
       "    .dataframe thead th {\n",
       "        text-align: right;\n",
       "    }\n",
       "</style>\n",
       "<table border=\"1\" class=\"dataframe\">\n",
       "  <thead>\n",
       "    <tr style=\"text-align: right;\">\n",
       "      <th></th>\n",
       "      <th>App</th>\n",
       "      <th>Rating</th>\n",
       "      <th>Installs</th>\n",
       "      <th>Price</th>\n",
       "      <th>Size</th>\n",
       "      <th>Reviews</th>\n",
       "      <th>Category</th>\n",
       "    </tr>\n",
       "  </thead>\n",
       "  <tbody>\n",
       "    <tr>\n",
       "      <th>0</th>\n",
       "      <td>Photo Editor &amp; Candy Camera &amp; Grid &amp; ScrapBook</td>\n",
       "      <td>4.1</td>\n",
       "      <td>10,000+</td>\n",
       "      <td>0</td>\n",
       "      <td>19M</td>\n",
       "      <td>159</td>\n",
       "      <td>ART_AND_DESIGN</td>\n",
       "    </tr>\n",
       "    <tr>\n",
       "      <th>1</th>\n",
       "      <td>Coloring book moana</td>\n",
       "      <td>3.9</td>\n",
       "      <td>500,000+</td>\n",
       "      <td>0</td>\n",
       "      <td>14M</td>\n",
       "      <td>967</td>\n",
       "      <td>ART_AND_DESIGN</td>\n",
       "    </tr>\n",
       "    <tr>\n",
       "      <th>2</th>\n",
       "      <td>U Launcher Lite – FREE Live Cool Themes, Hide ...</td>\n",
       "      <td>4.7</td>\n",
       "      <td>5,000,000+</td>\n",
       "      <td>0</td>\n",
       "      <td>8.7M</td>\n",
       "      <td>87510</td>\n",
       "      <td>ART_AND_DESIGN</td>\n",
       "    </tr>\n",
       "    <tr>\n",
       "      <th>...</th>\n",
       "      <td>...</td>\n",
       "      <td>...</td>\n",
       "      <td>...</td>\n",
       "      <td>...</td>\n",
       "      <td>...</td>\n",
       "      <td>...</td>\n",
       "      <td>...</td>\n",
       "    </tr>\n",
       "    <tr>\n",
       "      <th>10837</th>\n",
       "      <td>Fr. Mike Schmitz Audio Teachings</td>\n",
       "      <td>5.0</td>\n",
       "      <td>100+</td>\n",
       "      <td>0</td>\n",
       "      <td>3.6M</td>\n",
       "      <td>4</td>\n",
       "      <td>FAMILY</td>\n",
       "    </tr>\n",
       "    <tr>\n",
       "      <th>10839</th>\n",
       "      <td>The SCP Foundation DB fr nn5n</td>\n",
       "      <td>4.5</td>\n",
       "      <td>1,000+</td>\n",
       "      <td>0</td>\n",
       "      <td>Varies with device</td>\n",
       "      <td>114</td>\n",
       "      <td>BOOKS_AND_REFERENCE</td>\n",
       "    </tr>\n",
       "    <tr>\n",
       "      <th>10840</th>\n",
       "      <td>iHoroscope - 2018 Daily Horoscope &amp; Astrology</td>\n",
       "      <td>4.5</td>\n",
       "      <td>10,000,000+</td>\n",
       "      <td>0</td>\n",
       "      <td>19M</td>\n",
       "      <td>398307</td>\n",
       "      <td>LIFESTYLE</td>\n",
       "    </tr>\n",
       "  </tbody>\n",
       "</table>\n",
       "<p>8197 rows × 7 columns</p>\n",
       "</div>"
      ],
      "text/plain": [
       "                                                     App  Rating     Installs  \\\n",
       "0         Photo Editor & Candy Camera & Grid & ScrapBook     4.1      10,000+   \n",
       "1                                    Coloring book moana     3.9     500,000+   \n",
       "2      U Launcher Lite – FREE Live Cool Themes, Hide ...     4.7   5,000,000+   \n",
       "...                                                  ...     ...          ...   \n",
       "10837                   Fr. Mike Schmitz Audio Teachings     5.0         100+   \n",
       "10839                      The SCP Foundation DB fr nn5n     4.5       1,000+   \n",
       "10840      iHoroscope - 2018 Daily Horoscope & Astrology     4.5  10,000,000+   \n",
       "\n",
       "      Price                Size Reviews             Category  \n",
       "0         0                 19M     159       ART_AND_DESIGN  \n",
       "1         0                 14M     967       ART_AND_DESIGN  \n",
       "2         0                8.7M   87510       ART_AND_DESIGN  \n",
       "...     ...                 ...     ...                  ...  \n",
       "10837     0                3.6M       4               FAMILY  \n",
       "10839     0  Varies with device     114  BOOKS_AND_REFERENCE  \n",
       "10840     0                 19M  398307            LIFESTYLE  \n",
       "\n",
       "[8197 rows x 7 columns]"
      ]
     },
     "execution_count": 189,
     "metadata": {},
     "output_type": "execute_result"
    }
   ],
   "source": [
    "# Drops observations missing 'Ratings' data\n",
    "df = df.dropna()\n",
    "\n",
    "# Preview the dataframe\n",
    "df"
   ]
  },
  {
   "cell_type": "markdown",
   "metadata": {},
   "source": [
    "# Data Pre-Processing & Exploratory Data Analysis"
   ]
  },
  {
   "cell_type": "markdown",
   "metadata": {},
   "source": [
    "It turns out that the 'Installs' column is a column of strings instead of numbers. We want to convert these strings into numeric values so that we can plot them."
   ]
  },
  {
   "cell_type": "code",
   "execution_count": 190,
   "metadata": {},
   "outputs": [
    {
     "data": {
      "text/html": [
       "<div>\n",
       "<style scoped>\n",
       "    .dataframe tbody tr th:only-of-type {\n",
       "        vertical-align: middle;\n",
       "    }\n",
       "\n",
       "    .dataframe tbody tr th {\n",
       "        vertical-align: top;\n",
       "    }\n",
       "\n",
       "    .dataframe thead th {\n",
       "        text-align: right;\n",
       "    }\n",
       "</style>\n",
       "<table border=\"1\" class=\"dataframe\">\n",
       "  <thead>\n",
       "    <tr style=\"text-align: right;\">\n",
       "      <th></th>\n",
       "      <th>App</th>\n",
       "      <th>Rating</th>\n",
       "      <th>Installs</th>\n",
       "      <th>Price</th>\n",
       "      <th>Size</th>\n",
       "      <th>Reviews</th>\n",
       "      <th>Category</th>\n",
       "    </tr>\n",
       "  </thead>\n",
       "  <tbody>\n",
       "    <tr>\n",
       "      <th>0</th>\n",
       "      <td>Photo Editor &amp; Candy Camera &amp; Grid &amp; ScrapBook</td>\n",
       "      <td>4.1</td>\n",
       "      <td>1.00e+04</td>\n",
       "      <td>0.0</td>\n",
       "      <td>19000.0</td>\n",
       "      <td>159.0</td>\n",
       "      <td>ART_AND_DESIGN</td>\n",
       "    </tr>\n",
       "    <tr>\n",
       "      <th>1</th>\n",
       "      <td>Coloring book moana</td>\n",
       "      <td>3.9</td>\n",
       "      <td>5.00e+05</td>\n",
       "      <td>0.0</td>\n",
       "      <td>14000.0</td>\n",
       "      <td>967.0</td>\n",
       "      <td>ART_AND_DESIGN</td>\n",
       "    </tr>\n",
       "    <tr>\n",
       "      <th>2</th>\n",
       "      <td>U Launcher Lite – FREE Live Cool Themes, Hide ...</td>\n",
       "      <td>4.7</td>\n",
       "      <td>5.00e+06</td>\n",
       "      <td>0.0</td>\n",
       "      <td>8700.0</td>\n",
       "      <td>87510.0</td>\n",
       "      <td>ART_AND_DESIGN</td>\n",
       "    </tr>\n",
       "    <tr>\n",
       "      <th>...</th>\n",
       "      <td>...</td>\n",
       "      <td>...</td>\n",
       "      <td>...</td>\n",
       "      <td>...</td>\n",
       "      <td>...</td>\n",
       "      <td>...</td>\n",
       "      <td>...</td>\n",
       "    </tr>\n",
       "    <tr>\n",
       "      <th>10836</th>\n",
       "      <td>Sya9a Maroc - FR</td>\n",
       "      <td>4.5</td>\n",
       "      <td>5.00e+03</td>\n",
       "      <td>0.0</td>\n",
       "      <td>53000.0</td>\n",
       "      <td>38.0</td>\n",
       "      <td>FAMILY</td>\n",
       "    </tr>\n",
       "    <tr>\n",
       "      <th>10837</th>\n",
       "      <td>Fr. Mike Schmitz Audio Teachings</td>\n",
       "      <td>5.0</td>\n",
       "      <td>1.00e+02</td>\n",
       "      <td>0.0</td>\n",
       "      <td>3600.0</td>\n",
       "      <td>4.0</td>\n",
       "      <td>FAMILY</td>\n",
       "    </tr>\n",
       "    <tr>\n",
       "      <th>10840</th>\n",
       "      <td>iHoroscope - 2018 Daily Horoscope &amp; Astrology</td>\n",
       "      <td>4.5</td>\n",
       "      <td>1.00e+07</td>\n",
       "      <td>0.0</td>\n",
       "      <td>19000.0</td>\n",
       "      <td>398307.0</td>\n",
       "      <td>LIFESTYLE</td>\n",
       "    </tr>\n",
       "  </tbody>\n",
       "</table>\n",
       "<p>7027 rows × 7 columns</p>\n",
       "</div>"
      ],
      "text/plain": [
       "                                                     App  Rating  Installs  \\\n",
       "0         Photo Editor & Candy Camera & Grid & ScrapBook     4.1  1.00e+04   \n",
       "1                                    Coloring book moana     3.9  5.00e+05   \n",
       "2      U Launcher Lite – FREE Live Cool Themes, Hide ...     4.7  5.00e+06   \n",
       "...                                                  ...     ...       ...   \n",
       "10836                                   Sya9a Maroc - FR     4.5  5.00e+03   \n",
       "10837                   Fr. Mike Schmitz Audio Teachings     5.0  1.00e+02   \n",
       "10840      iHoroscope - 2018 Daily Horoscope & Astrology     4.5  1.00e+07   \n",
       "\n",
       "       Price     Size   Reviews        Category  \n",
       "0        0.0  19000.0     159.0  ART_AND_DESIGN  \n",
       "1        0.0  14000.0     967.0  ART_AND_DESIGN  \n",
       "2        0.0   8700.0   87510.0  ART_AND_DESIGN  \n",
       "...      ...      ...       ...             ...  \n",
       "10836    0.0  53000.0      38.0          FAMILY  \n",
       "10837    0.0   3600.0       4.0          FAMILY  \n",
       "10840    0.0  19000.0  398307.0       LIFESTYLE  \n",
       "\n",
       "[7027 rows x 7 columns]"
      ]
     },
     "execution_count": 190,
     "metadata": {},
     "output_type": "execute_result"
    }
   ],
   "source": [
    "# Delete the '+' chars that are in these strings in 'Installs'\n",
    "df['Installs'] = df['Installs'].str.replace('+', '')\n",
    "# Delete the ',' chars that are in these strings in 'Installs'\n",
    "df['Installs'] = df['Installs'].str.replace(',', '')\n",
    "\n",
    "# Type cast these strings into integers\n",
    "df['Installs'] = pd.to_numeric(df['Installs'], errors='coerce')\n",
    "\n",
    "#TODO : Remove NaN produced here, explain why coerce is a valid method of removing values\n",
    "\n",
    "#change 'M' to E6 in the Reviews column so that millions can be properly converted numerically\n",
    "df['Reviews'] = df['Reviews'].str.replace('M', 'E6')\n",
    "df['Reviews'] = pd.to_numeric(df['Reviews'], errors='raise')\n",
    "\n",
    "#Remove the 'M' which signifies megabytes in the Size column, make everything in units of kilobytes\n",
    "df['Size'] = df['Size'].str.replace('M', 'E3')\n",
    "df['Size'] = df['Size'].str.replace('k', '')\n",
    "df['Size'] = df['Size'].str.replace(',', '')\n",
    "\n",
    "#We will also remove apps that have varying sizes since we won't be able to model these variations\n",
    "df['Size'] = df['Size'].replace({'Varies with device': '-1'}, regex=True)\n",
    "df['Size'] = df['Size'].str.replace('+', '')\n",
    "df['Size'] = pd.to_numeric(df['Size'], errors='raise')\n",
    "\n",
    "#Remove sizes that don't make any sense and ones we flagged to be removed earlier\n",
    "df = df.drop(df[df.Size <= 0].index)\n",
    "\n",
    "#Remove the money sign from app price\n",
    "df['Price'] = df['Price'].str.replace('$', '')\n",
    "\n",
    "#Set apps with the price of \"Everyone\" to be removed\n",
    "df['Price'] = df['Price'].str.replace('Everyone', '-1')\n",
    "\n",
    "#Change price to be a numeric column\n",
    "df['Price'] = pd.to_numeric(df['Price'], errors='raise')\n",
    "\n",
    "#Remove prices that don't make sense\n",
    "df = df.drop(df[df.Price < 0].index)\n",
    "# Preview the dataframe\n",
    "# Values in 'Installs' should be numeric\n",
    "df"
   ]
  },
  {
   "cell_type": "markdown",
   "metadata": {},
   "source": [
    "Since we need some measures of title length, we will create two columns: __'Word Count'__ (counts the number of words in the title) and __'Char Count'__ (counts the number of characters in the title)."
   ]
  },
  {
   "cell_type": "code",
   "execution_count": 191,
   "metadata": {},
   "outputs": [],
   "source": [
    "# Create the word count column \n",
    "df['Word Count'] = df['App'].str.split().str.len()"
   ]
  },
  {
   "cell_type": "code",
   "execution_count": 192,
   "metadata": {},
   "outputs": [],
   "source": [
    "# Create the char count column \n",
    "df['Char Count'] = df['App'].str.len() - df['App'].str.count(' ')"
   ]
  },
  {
   "cell_type": "code",
   "execution_count": 193,
   "metadata": {},
   "outputs": [
    {
     "data": {
      "text/html": [
       "<div>\n",
       "<style scoped>\n",
       "    .dataframe tbody tr th:only-of-type {\n",
       "        vertical-align: middle;\n",
       "    }\n",
       "\n",
       "    .dataframe tbody tr th {\n",
       "        vertical-align: top;\n",
       "    }\n",
       "\n",
       "    .dataframe thead th {\n",
       "        text-align: right;\n",
       "    }\n",
       "</style>\n",
       "<table border=\"1\" class=\"dataframe\">\n",
       "  <thead>\n",
       "    <tr style=\"text-align: right;\">\n",
       "      <th></th>\n",
       "      <th>App</th>\n",
       "      <th>Rating</th>\n",
       "      <th>Installs</th>\n",
       "      <th>Price</th>\n",
       "      <th>...</th>\n",
       "      <th>Reviews</th>\n",
       "      <th>Category</th>\n",
       "      <th>Word Count</th>\n",
       "      <th>Char Count</th>\n",
       "    </tr>\n",
       "  </thead>\n",
       "  <tbody>\n",
       "    <tr>\n",
       "      <th>0</th>\n",
       "      <td>Photo Editor &amp; Candy Camera &amp; Grid &amp; ScrapBook</td>\n",
       "      <td>4.1</td>\n",
       "      <td>1.00e+04</td>\n",
       "      <td>0.0</td>\n",
       "      <td>...</td>\n",
       "      <td>159.0</td>\n",
       "      <td>ART_AND_DESIGN</td>\n",
       "      <td>9</td>\n",
       "      <td>38</td>\n",
       "    </tr>\n",
       "    <tr>\n",
       "      <th>1</th>\n",
       "      <td>Coloring book moana</td>\n",
       "      <td>3.9</td>\n",
       "      <td>5.00e+05</td>\n",
       "      <td>0.0</td>\n",
       "      <td>...</td>\n",
       "      <td>967.0</td>\n",
       "      <td>ART_AND_DESIGN</td>\n",
       "      <td>3</td>\n",
       "      <td>17</td>\n",
       "    </tr>\n",
       "    <tr>\n",
       "      <th>2</th>\n",
       "      <td>U Launcher Lite – FREE Live Cool Themes, Hide ...</td>\n",
       "      <td>4.7</td>\n",
       "      <td>5.00e+06</td>\n",
       "      <td>0.0</td>\n",
       "      <td>...</td>\n",
       "      <td>87510.0</td>\n",
       "      <td>ART_AND_DESIGN</td>\n",
       "      <td>10</td>\n",
       "      <td>41</td>\n",
       "    </tr>\n",
       "    <tr>\n",
       "      <th>...</th>\n",
       "      <td>...</td>\n",
       "      <td>...</td>\n",
       "      <td>...</td>\n",
       "      <td>...</td>\n",
       "      <td>...</td>\n",
       "      <td>...</td>\n",
       "      <td>...</td>\n",
       "      <td>...</td>\n",
       "      <td>...</td>\n",
       "    </tr>\n",
       "    <tr>\n",
       "      <th>10836</th>\n",
       "      <td>Sya9a Maroc - FR</td>\n",
       "      <td>4.5</td>\n",
       "      <td>5.00e+03</td>\n",
       "      <td>0.0</td>\n",
       "      <td>...</td>\n",
       "      <td>38.0</td>\n",
       "      <td>FAMILY</td>\n",
       "      <td>4</td>\n",
       "      <td>13</td>\n",
       "    </tr>\n",
       "    <tr>\n",
       "      <th>10837</th>\n",
       "      <td>Fr. Mike Schmitz Audio Teachings</td>\n",
       "      <td>5.0</td>\n",
       "      <td>1.00e+02</td>\n",
       "      <td>0.0</td>\n",
       "      <td>...</td>\n",
       "      <td>4.0</td>\n",
       "      <td>FAMILY</td>\n",
       "      <td>5</td>\n",
       "      <td>28</td>\n",
       "    </tr>\n",
       "    <tr>\n",
       "      <th>10840</th>\n",
       "      <td>iHoroscope - 2018 Daily Horoscope &amp; Astrology</td>\n",
       "      <td>4.5</td>\n",
       "      <td>1.00e+07</td>\n",
       "      <td>0.0</td>\n",
       "      <td>...</td>\n",
       "      <td>398307.0</td>\n",
       "      <td>LIFESTYLE</td>\n",
       "      <td>7</td>\n",
       "      <td>39</td>\n",
       "    </tr>\n",
       "  </tbody>\n",
       "</table>\n",
       "<p>7027 rows × 9 columns</p>\n",
       "</div>"
      ],
      "text/plain": [
       "                                                     App  Rating  Installs  \\\n",
       "0         Photo Editor & Candy Camera & Grid & ScrapBook     4.1  1.00e+04   \n",
       "1                                    Coloring book moana     3.9  5.00e+05   \n",
       "2      U Launcher Lite – FREE Live Cool Themes, Hide ...     4.7  5.00e+06   \n",
       "...                                                  ...     ...       ...   \n",
       "10836                                   Sya9a Maroc - FR     4.5  5.00e+03   \n",
       "10837                   Fr. Mike Schmitz Audio Teachings     5.0  1.00e+02   \n",
       "10840      iHoroscope - 2018 Daily Horoscope & Astrology     4.5  1.00e+07   \n",
       "\n",
       "       Price     ...       Reviews        Category Word Count  Char Count  \n",
       "0        0.0     ...         159.0  ART_AND_DESIGN          9          38  \n",
       "1        0.0     ...         967.0  ART_AND_DESIGN          3          17  \n",
       "2        0.0     ...       87510.0  ART_AND_DESIGN         10          41  \n",
       "...      ...     ...           ...             ...        ...         ...  \n",
       "10836    0.0     ...          38.0          FAMILY          4          13  \n",
       "10837    0.0     ...           4.0          FAMILY          5          28  \n",
       "10840    0.0     ...      398307.0       LIFESTYLE          7          39  \n",
       "\n",
       "[7027 rows x 9 columns]"
      ]
     },
     "execution_count": 193,
     "metadata": {},
     "output_type": "execute_result"
    }
   ],
   "source": [
    "# Preview table again to check for these columns\n",
    "df"
   ]
  },
  {
   "cell_type": "markdown",
   "metadata": {},
   "source": [
    "We also want to add columns regarding the frequency of certain letters and letter pairs.\n",
    "\n",
    "The code below creates many columns with binary variables depending on the presence of letters and letter pairs. For example, values in column 'a' are equal to 1 if 'a' is contained in apps name and 0 otherwise, and values in column 'wq' are equal to 1 if 'wq' is contained in apps name and 0 otherwise.\n",
    "\n",
    "Then, we count how many ones are in each of the created columns to assess if the column is useful. If there are not a lot of ones in a column (less than 0.025 * (# of rows) for example) or too many (more than 0.975 * (# of rows) for example), we remove such columns. This is done because, for example, there are not a lot of titles with 'wq' inside them so 'wq' column is not useful for our analysis"
   ]
  },
  {
   "cell_type": "code",
   "execution_count": 194,
   "metadata": {},
   "outputs": [],
   "source": [
    "import string\n",
    "alphabet = list(string.ascii_lowercase)\n",
    "\n",
    "for k in alphabet:\n",
    "    q1 = []\n",
    "    for i in df['App']:\n",
    "        if k in i:\n",
    "            q1.append(1)\n",
    "        else:\n",
    "            q1.append(0)\n",
    "    df[k] = q1\n",
    "\n",
    "alphabet1 = []\n",
    "for i in alphabet:\n",
    "    for k in alphabet:\n",
    "        alphabet1.append(i + k)\n",
    "        \n",
    "for k in alphabet1:\n",
    "    q2 = []\n",
    "    for i in df['App']:\n",
    "        if k in i:\n",
    "            q2.append(1)\n",
    "        else:\n",
    "            q2.append(0)\n",
    "    df[k] = q2\n",
    "\n",
    "\n",
    "rem_list = []                           ##here 13 and 715 are indexes of first and last created columns  \n",
    "for i in range(13,707):                 ##it is possible when you will try to execute code you will need to insert proper values \n",
    "    if sum(df[df.columns[i]]) < 0.025*df.shape[0] or sum(df[df.columns[i]]) > 0.975*df.shape[0]:\n",
    "        rem_list.append(i)\n",
    "\n",
    "\n",
    "s = 0\n",
    "for i in rem_list:\n",
    "    i = i - s\n",
    "    del df[df.columns[i]]\n",
    "    s += 1"
   ]
  },
  {
   "cell_type": "code",
   "execution_count": 195,
   "metadata": {
    "scrolled": true
   },
   "outputs": [
    {
     "data": {
      "text/html": [
       "<div>\n",
       "<style scoped>\n",
       "    .dataframe tbody tr th:only-of-type {\n",
       "        vertical-align: middle;\n",
       "    }\n",
       "\n",
       "    .dataframe tbody tr th {\n",
       "        vertical-align: top;\n",
       "    }\n",
       "\n",
       "    .dataframe thead th {\n",
       "        text-align: right;\n",
       "    }\n",
       "</style>\n",
       "<table border=\"1\" class=\"dataframe\">\n",
       "  <thead>\n",
       "    <tr style=\"text-align: right;\">\n",
       "      <th></th>\n",
       "      <th>App</th>\n",
       "      <th>Rating</th>\n",
       "      <th>Installs</th>\n",
       "      <th>Price</th>\n",
       "      <th>...</th>\n",
       "      <th>zw</th>\n",
       "      <th>zx</th>\n",
       "      <th>zy</th>\n",
       "      <th>zz</th>\n",
       "    </tr>\n",
       "  </thead>\n",
       "  <tbody>\n",
       "    <tr>\n",
       "      <th>0</th>\n",
       "      <td>Photo Editor &amp; Candy Camera &amp; Grid &amp; ScrapBook</td>\n",
       "      <td>4.1</td>\n",
       "      <td>1.00e+04</td>\n",
       "      <td>0.0</td>\n",
       "      <td>...</td>\n",
       "      <td>0</td>\n",
       "      <td>0</td>\n",
       "      <td>0</td>\n",
       "      <td>0</td>\n",
       "    </tr>\n",
       "    <tr>\n",
       "      <th>1</th>\n",
       "      <td>Coloring book moana</td>\n",
       "      <td>3.9</td>\n",
       "      <td>5.00e+05</td>\n",
       "      <td>0.0</td>\n",
       "      <td>...</td>\n",
       "      <td>0</td>\n",
       "      <td>0</td>\n",
       "      <td>0</td>\n",
       "      <td>0</td>\n",
       "    </tr>\n",
       "    <tr>\n",
       "      <th>2</th>\n",
       "      <td>U Launcher Lite – FREE Live Cool Themes, Hide ...</td>\n",
       "      <td>4.7</td>\n",
       "      <td>5.00e+06</td>\n",
       "      <td>0.0</td>\n",
       "      <td>...</td>\n",
       "      <td>0</td>\n",
       "      <td>0</td>\n",
       "      <td>0</td>\n",
       "      <td>0</td>\n",
       "    </tr>\n",
       "    <tr>\n",
       "      <th>...</th>\n",
       "      <td>...</td>\n",
       "      <td>...</td>\n",
       "      <td>...</td>\n",
       "      <td>...</td>\n",
       "      <td>...</td>\n",
       "      <td>...</td>\n",
       "      <td>...</td>\n",
       "      <td>...</td>\n",
       "      <td>...</td>\n",
       "    </tr>\n",
       "    <tr>\n",
       "      <th>10836</th>\n",
       "      <td>Sya9a Maroc - FR</td>\n",
       "      <td>4.5</td>\n",
       "      <td>5.00e+03</td>\n",
       "      <td>0.0</td>\n",
       "      <td>...</td>\n",
       "      <td>0</td>\n",
       "      <td>0</td>\n",
       "      <td>0</td>\n",
       "      <td>0</td>\n",
       "    </tr>\n",
       "    <tr>\n",
       "      <th>10837</th>\n",
       "      <td>Fr. Mike Schmitz Audio Teachings</td>\n",
       "      <td>5.0</td>\n",
       "      <td>1.00e+02</td>\n",
       "      <td>0.0</td>\n",
       "      <td>...</td>\n",
       "      <td>0</td>\n",
       "      <td>0</td>\n",
       "      <td>0</td>\n",
       "      <td>0</td>\n",
       "    </tr>\n",
       "    <tr>\n",
       "      <th>10840</th>\n",
       "      <td>iHoroscope - 2018 Daily Horoscope &amp; Astrology</td>\n",
       "      <td>4.5</td>\n",
       "      <td>1.00e+07</td>\n",
       "      <td>0.0</td>\n",
       "      <td>...</td>\n",
       "      <td>0</td>\n",
       "      <td>0</td>\n",
       "      <td>0</td>\n",
       "      <td>0</td>\n",
       "    </tr>\n",
       "  </tbody>\n",
       "</table>\n",
       "<p>7027 rows × 159 columns</p>\n",
       "</div>"
      ],
      "text/plain": [
       "                                                     App  Rating  Installs  \\\n",
       "0         Photo Editor & Candy Camera & Grid & ScrapBook     4.1  1.00e+04   \n",
       "1                                    Coloring book moana     3.9  5.00e+05   \n",
       "2      U Launcher Lite – FREE Live Cool Themes, Hide ...     4.7  5.00e+06   \n",
       "...                                                  ...     ...       ...   \n",
       "10836                                   Sya9a Maroc - FR     4.5  5.00e+03   \n",
       "10837                   Fr. Mike Schmitz Audio Teachings     5.0  1.00e+02   \n",
       "10840      iHoroscope - 2018 Daily Horoscope & Astrology     4.5  1.00e+07   \n",
       "\n",
       "       Price ...  zw  zx zy  zz  \n",
       "0        0.0 ...   0   0  0   0  \n",
       "1        0.0 ...   0   0  0   0  \n",
       "2        0.0 ...   0   0  0   0  \n",
       "...      ... ...  ..  .. ..  ..  \n",
       "10836    0.0 ...   0   0  0   0  \n",
       "10837    0.0 ...   0   0  0   0  \n",
       "10840    0.0 ...   0   0  0   0  \n",
       "\n",
       "[7027 rows x 159 columns]"
      ]
     },
     "execution_count": 195,
     "metadata": {},
     "output_type": "execute_result"
    }
   ],
   "source": [
    "# Preview new dataset\n",
    "df"
   ]
  },
  {
   "cell_type": "code",
   "execution_count": 196,
   "metadata": {},
   "outputs": [
    {
     "data": {
      "text/html": [
       "<div>\n",
       "<style scoped>\n",
       "    .dataframe tbody tr th:only-of-type {\n",
       "        vertical-align: middle;\n",
       "    }\n",
       "\n",
       "    .dataframe tbody tr th {\n",
       "        vertical-align: top;\n",
       "    }\n",
       "\n",
       "    .dataframe thead th {\n",
       "        text-align: right;\n",
       "    }\n",
       "</style>\n",
       "<table border=\"1\" class=\"dataframe\">\n",
       "  <thead>\n",
       "    <tr style=\"text-align: right;\">\n",
       "      <th></th>\n",
       "      <th>a</th>\n",
       "      <th>b</th>\n",
       "      <th>c</th>\n",
       "    </tr>\n",
       "  </thead>\n",
       "  <tbody>\n",
       "    <tr>\n",
       "      <th>0</th>\n",
       "      <td>1</td>\n",
       "      <td>0</td>\n",
       "      <td>1</td>\n",
       "    </tr>\n",
       "    <tr>\n",
       "      <th>1</th>\n",
       "      <td>1</td>\n",
       "      <td>1</td>\n",
       "      <td>0</td>\n",
       "    </tr>\n",
       "    <tr>\n",
       "      <th>2</th>\n",
       "      <td>1</td>\n",
       "      <td>0</td>\n",
       "      <td>1</td>\n",
       "    </tr>\n",
       "    <tr>\n",
       "      <th>...</th>\n",
       "      <td>...</td>\n",
       "      <td>...</td>\n",
       "      <td>...</td>\n",
       "    </tr>\n",
       "    <tr>\n",
       "      <th>10836</th>\n",
       "      <td>1</td>\n",
       "      <td>0</td>\n",
       "      <td>1</td>\n",
       "    </tr>\n",
       "    <tr>\n",
       "      <th>10837</th>\n",
       "      <td>1</td>\n",
       "      <td>0</td>\n",
       "      <td>1</td>\n",
       "    </tr>\n",
       "    <tr>\n",
       "      <th>10840</th>\n",
       "      <td>1</td>\n",
       "      <td>0</td>\n",
       "      <td>1</td>\n",
       "    </tr>\n",
       "  </tbody>\n",
       "</table>\n",
       "<p>7027 rows × 3 columns</p>\n",
       "</div>"
      ],
      "text/plain": [
       "       a  b  c\n",
       "0      1  0  1\n",
       "1      1  1  0\n",
       "2      1  0  1\n",
       "...   .. .. ..\n",
       "10836  1  0  1\n",
       "10837  1  0  1\n",
       "10840  1  0  1\n",
       "\n",
       "[7027 rows x 3 columns]"
      ]
     },
     "execution_count": 196,
     "metadata": {},
     "output_type": "execute_result"
    }
   ],
   "source": [
    "# Preview the columns of some example letters\n",
    "df[['a','b','c']]"
   ]
  },
  {
   "cell_type": "code",
   "execution_count": 197,
   "metadata": {},
   "outputs": [
    {
     "data": {
      "text/html": [
       "<div>\n",
       "<style scoped>\n",
       "    .dataframe tbody tr th:only-of-type {\n",
       "        vertical-align: middle;\n",
       "    }\n",
       "\n",
       "    .dataframe tbody tr th {\n",
       "        vertical-align: top;\n",
       "    }\n",
       "\n",
       "    .dataframe thead th {\n",
       "        text-align: right;\n",
       "    }\n",
       "</style>\n",
       "<table border=\"1\" class=\"dataframe\">\n",
       "  <thead>\n",
       "    <tr style=\"text-align: right;\">\n",
       "      <th></th>\n",
       "      <th>Rating</th>\n",
       "      <th>Installs</th>\n",
       "      <th>Price</th>\n",
       "      <th>Size</th>\n",
       "      <th>...</th>\n",
       "      <th>zw</th>\n",
       "      <th>zx</th>\n",
       "      <th>zy</th>\n",
       "      <th>zz</th>\n",
       "    </tr>\n",
       "  </thead>\n",
       "  <tbody>\n",
       "    <tr>\n",
       "      <th>count</th>\n",
       "      <td>7027.00</td>\n",
       "      <td>7.03e+03</td>\n",
       "      <td>7027.00</td>\n",
       "      <td>7027.00</td>\n",
       "      <td>...</td>\n",
       "      <td>7027.0</td>\n",
       "      <td>7027.0</td>\n",
       "      <td>7.03e+03</td>\n",
       "      <td>7.03e+03</td>\n",
       "    </tr>\n",
       "    <tr>\n",
       "      <th>mean</th>\n",
       "      <td>4.16</td>\n",
       "      <td>4.47e+06</td>\n",
       "      <td>1.17</td>\n",
       "      <td>21754.43</td>\n",
       "      <td>...</td>\n",
       "      <td>0.0</td>\n",
       "      <td>0.0</td>\n",
       "      <td>2.28e-03</td>\n",
       "      <td>7.54e-03</td>\n",
       "    </tr>\n",
       "    <tr>\n",
       "      <th>std</th>\n",
       "      <td>0.56</td>\n",
       "      <td>2.71e+07</td>\n",
       "      <td>18.20</td>\n",
       "      <td>22726.50</td>\n",
       "      <td>...</td>\n",
       "      <td>0.0</td>\n",
       "      <td>0.0</td>\n",
       "      <td>4.77e-02</td>\n",
       "      <td>8.65e-02</td>\n",
       "    </tr>\n",
       "    <tr>\n",
       "      <th>...</th>\n",
       "      <td>...</td>\n",
       "      <td>...</td>\n",
       "      <td>...</td>\n",
       "      <td>...</td>\n",
       "      <td>...</td>\n",
       "      <td>...</td>\n",
       "      <td>...</td>\n",
       "      <td>...</td>\n",
       "      <td>...</td>\n",
       "    </tr>\n",
       "    <tr>\n",
       "      <th>50%</th>\n",
       "      <td>4.30</td>\n",
       "      <td>1.00e+05</td>\n",
       "      <td>0.00</td>\n",
       "      <td>13000.00</td>\n",
       "      <td>...</td>\n",
       "      <td>0.0</td>\n",
       "      <td>0.0</td>\n",
       "      <td>0.00e+00</td>\n",
       "      <td>0.00e+00</td>\n",
       "    </tr>\n",
       "    <tr>\n",
       "      <th>75%</th>\n",
       "      <td>4.50</td>\n",
       "      <td>1.00e+06</td>\n",
       "      <td>0.00</td>\n",
       "      <td>31000.00</td>\n",
       "      <td>...</td>\n",
       "      <td>0.0</td>\n",
       "      <td>0.0</td>\n",
       "      <td>0.00e+00</td>\n",
       "      <td>0.00e+00</td>\n",
       "    </tr>\n",
       "    <tr>\n",
       "      <th>max</th>\n",
       "      <td>5.00</td>\n",
       "      <td>1.00e+09</td>\n",
       "      <td>400.00</td>\n",
       "      <td>100000.00</td>\n",
       "      <td>...</td>\n",
       "      <td>0.0</td>\n",
       "      <td>0.0</td>\n",
       "      <td>1.00e+00</td>\n",
       "      <td>1.00e+00</td>\n",
       "    </tr>\n",
       "  </tbody>\n",
       "</table>\n",
       "<p>8 rows × 157 columns</p>\n",
       "</div>"
      ],
      "text/plain": [
       "        Rating  Installs    Price       Size    ...         zw      zx  \\\n",
       "count  7027.00  7.03e+03  7027.00    7027.00    ...     7027.0  7027.0   \n",
       "mean      4.16  4.47e+06     1.17   21754.43    ...        0.0     0.0   \n",
       "std       0.56  2.71e+07    18.20   22726.50    ...        0.0     0.0   \n",
       "...        ...       ...      ...        ...    ...        ...     ...   \n",
       "50%       4.30  1.00e+05     0.00   13000.00    ...        0.0     0.0   \n",
       "75%       4.50  1.00e+06     0.00   31000.00    ...        0.0     0.0   \n",
       "max       5.00  1.00e+09   400.00  100000.00    ...        0.0     0.0   \n",
       "\n",
       "             zy        zz  \n",
       "count  7.03e+03  7.03e+03  \n",
       "mean   2.28e-03  7.54e-03  \n",
       "std    4.77e-02  8.65e-02  \n",
       "...         ...       ...  \n",
       "50%    0.00e+00  0.00e+00  \n",
       "75%    0.00e+00  0.00e+00  \n",
       "max    1.00e+00  1.00e+00  \n",
       "\n",
       "[8 rows x 157 columns]"
      ]
     },
     "execution_count": 197,
     "metadata": {},
     "output_type": "execute_result"
    }
   ],
   "source": [
    "# Viewing general statistics of our data\n",
    "df.describe()"
   ]
  },
  {
   "cell_type": "markdown",
   "metadata": {},
   "source": [
    "## Let's Start Plotting!"
   ]
  },
  {
   "cell_type": "markdown",
   "metadata": {},
   "source": [
    "### Plotting the indivdual variables\n",
    "\n",
    "#### Rating"
   ]
  },
  {
   "cell_type": "code",
   "execution_count": 198,
   "metadata": {},
   "outputs": [
    {
     "data": {
      "text/plain": [
       "<matplotlib.axes._subplots.AxesSubplot at 0x69865aa0b8>"
      ]
     },
     "execution_count": 198,
     "metadata": {},
     "output_type": "execute_result"
    },
    {
     "data": {
      "image/png": "[encoded data removed]",
      "text/plain": [
       "<Figure size 792x504 with 1 Axes>"
      ]
     },
     "metadata": {},
     "output_type": "display_data"
    }
   ],
   "source": [
    "# Plots 'Rating' (which is a value from 0 to 5) to see its distribution\n",
    "df['Rating'].plot.hist(bins = 25, figsize=(11,7))"
   ]
  },
  {
   "cell_type": "markdown",
   "metadata": {},
   "source": [
    "Ratings in the Google Play Store can only be values in the range between 0 and 5! There are some ratings that are past the maximum 5 stars, so we will remove those."
   ]
  },
  {
   "cell_type": "code",
   "execution_count": 199,
   "metadata": {},
   "outputs": [],
   "source": [
    "# Drops invalid ratings (greater than 5) \n",
    "df = df[df.Rating <= 5]"
   ]
  },
  {
   "cell_type": "code",
   "execution_count": 200,
   "metadata": {},
   "outputs": [
    {
     "data": {
      "text/plain": [
       "<matplotlib.axes._subplots.AxesSubplot at 0x698286b080>"
      ]
     },
     "execution_count": 200,
     "metadata": {},
     "output_type": "execute_result"
    },
    {
     "data": {
      "image/png": "[encoded data removed]",
      "text/plain": [
       "<Figure size 792x504 with 1 Axes>"
      ]
     },
     "metadata": {},
     "output_type": "display_data"
    }
   ],
   "source": [
    "# Plots 'Rating' of apps (which are values from 0 to 5) to see its distribution\n",
    "df['Rating'].plot.hist(bins = 25, figsize=(11,7))"
   ]
  },
  {
   "cell_type": "markdown",
   "metadata": {},
   "source": [
    "After removing the invalid values, we are able to get a better idea of the distribution of the ratings ranging from 0 to 5. The graph aboves shows us that there is a greater number of apps that are rated from 2.5-5 than 0-2.5. In other words, there is a negative skew."
   ]
  },
  {
   "cell_type": "code",
   "execution_count": 201,
   "metadata": {},
   "outputs": [
    {
     "name": "stdout",
     "output_type": "stream",
     "text": [
      " The mean is: 4.160623310089655 \n",
      " The median is: 4.3\n"
     ]
    }
   ],
   "source": [
    "# Calculate the mean of 'Rating'\n",
    "mean = df['Rating'].mean()\n",
    "median = df['Rating'].median()\n",
    "print(\" The mean is:\", mean, '\\n', \"The median is:\", median)"
   ]
  },
  {
   "cell_type": "markdown",
   "metadata": {},
   "source": [
    "From the above histogram, we can say that most apps have high ratings, (with a mean rating of ~4.17) probably due to peoples' rating tendencies. Distribution-wise, __ratings are skewed left__."
   ]
  },
  {
   "cell_type": "markdown",
   "metadata": {},
   "source": [
    "#### Word Count"
   ]
  },
  {
   "cell_type": "code",
   "execution_count": 202,
   "metadata": {
    "scrolled": true
   },
   "outputs": [
    {
     "data": {
      "text/plain": [
       "<matplotlib.axes._subplots.AxesSubplot at 0x6987b9a588>"
      ]
     },
     "execution_count": 202,
     "metadata": {},
     "output_type": "execute_result"
    },
    {
     "data": {
      "image/png": "[encoded data removed]",
      "text/plain": [
       "<Figure size 720x360 with 1 Axes>"
      ]
     },
     "metadata": {},
     "output_type": "display_data"
    }
   ],
   "source": [
    "# Plots 'Word Count' of app titles to see its distribution\n",
    "df['Word Count'].plot.hist(bins = 25, figsize=(10,5))"
   ]
  },
  {
   "cell_type": "markdown",
   "metadata": {},
   "source": [
    "The plot above has a lot of empty space probably due to the presence of outliers. Let's confirm this."
   ]
  },
  {
   "cell_type": "code",
   "execution_count": 203,
   "metadata": {},
   "outputs": [
    {
     "name": "stdout",
     "output_type": "stream",
     "text": [
      " The min is: 1 \n",
      " The max is: 26\n"
     ]
    }
   ],
   "source": [
    "# Print the max and min of 'Word Count'\n",
    "minValue = df['Word Count'].min()\n",
    "maxValue = df['Word Count'].max()\n",
    "print(\" The min is:\", minValue, '\\n', \"The max is:\", maxValue)"
   ]
  },
  {
   "cell_type": "markdown",
   "metadata": {},
   "source": [
    "There is a title with 26 words!\n",
    "\n",
    "Since it is generally accepted to do so, we will be removing all outliers 2 standard deviations away form the mean. By convention, values within two standard deviations of the mean (plus or minus) contain 95% of all the points."
   ]
  },
  {
   "cell_type": "code",
   "execution_count": 204,
   "metadata": {
    "scrolled": true
   },
   "outputs": [],
   "source": [
    "# We first store the values of the std and the mean.\n",
    "\n",
    "wordCountSD = df['Word Count'].std()\n",
    "wordCountMean = df['Word Count'].mean()\n",
    "\n",
    "# We then remove outliers\n",
    "df = df.drop(df[(df['Word Count'] < (wordCountMean - 2*wordCountSD)) | (df['Word Count'] > (wordCountMean + 2*wordCountSD))].index)\n"
   ]
  },
  {
   "cell_type": "code",
   "execution_count": 205,
   "metadata": {},
   "outputs": [
    {
     "data": {
      "text/plain": [
       "<matplotlib.axes._subplots.AxesSubplot at 0x6986666d68>"
      ]
     },
     "execution_count": 205,
     "metadata": {},
     "output_type": "execute_result"
    },
    {
     "data": {
      "image/png": "[encoded data removed]",
      "text/plain": [
       "<Figure size 360x360 with 1 Axes>"
      ]
     },
     "metadata": {},
     "output_type": "display_data"
    }
   ],
   "source": [
    "# Plots 'Word Count' of app titles to see its distribution\n",
    "df['Word Count'].plot.hist(bins = 7, figsize=(5,5))"
   ]
  },
  {
   "cell_type": "code",
   "execution_count": 206,
   "metadata": {},
   "outputs": [
    {
     "name": "stdout",
     "output_type": "stream",
     "text": [
      " The mean is: 3.7776302198612957 \n",
      " The median is: 3.0\n"
     ]
    }
   ],
   "source": [
    "# Calculate the mean and median of 'Word Count'\n",
    "mean = df['Word Count'].mean()\n",
    "median = df['Word Count'].median()\n",
    "print(\" The mean is:\", mean, '\\n', \"The median is:\", median)"
   ]
  },
  {
   "cell_type": "code",
   "execution_count": 207,
   "metadata": {},
   "outputs": [
    {
     "name": "stdout",
     "output_type": "stream",
     "text": [
      " The min is: 1 \n",
      " The max is: 8\n"
     ]
    }
   ],
   "source": [
    "# Print the max and min of 'Word Count'\n",
    "minValue = df['Word Count'].min()\n",
    "maxValue = df['Word Count'].max()\n",
    "print(\" The min is:\", minValue, '\\n', \"The max is:\", maxValue)"
   ]
  },
  {
   "cell_type": "markdown",
   "metadata": {},
   "source": [
    "From the above histogram, we can say that most apps have relatively low word count (with a mean of ~3.79). Word count is ___slightly_ skewed to the right__."
   ]
  },
  {
   "cell_type": "markdown",
   "metadata": {},
   "source": [
    "#### Char Count"
   ]
  },
  {
   "cell_type": "code",
   "execution_count": 208,
   "metadata": {
    "scrolled": false
   },
   "outputs": [
    {
     "data": {
      "text/plain": [
       "<matplotlib.axes._subplots.AxesSubplot at 0x69865478d0>"
      ]
     },
     "execution_count": 208,
     "metadata": {},
     "output_type": "execute_result"
    },
    {
     "data": {
      "image/png": "[encoded data removed]",
      "text/plain": [
       "<Figure size 792x504 with 1 Axes>"
      ]
     },
     "metadata": {},
     "output_type": "display_data"
    }
   ],
   "source": [
    "# Plots 'Char Count' app titles to see its distribution\n",
    "df['Char Count'].plot.hist(bins = 25, figsize=(11,7))"
   ]
  },
  {
   "cell_type": "code",
   "execution_count": 209,
   "metadata": {
    "scrolled": false
   },
   "outputs": [
    {
     "name": "stdout",
     "output_type": "stream",
     "text": [
      " The min is: 1 \n",
      " The max is: 52\n"
     ]
    }
   ],
   "source": [
    "# Print the max and min of 'Char Count'\n",
    "minValue = df['Char Count'].min()\n",
    "maxValue = df['Char Count'].max()\n",
    "print(\" The min is:\", minValue, '\\n', \"The max is:\", maxValue)"
   ]
  },
  {
   "cell_type": "code",
   "execution_count": 210,
   "metadata": {},
   "outputs": [
    {
     "name": "stdout",
     "output_type": "stream",
     "text": [
      " The mean is: 19.040283311199644 \n",
      " The median is: 18.0\n"
     ]
    }
   ],
   "source": [
    "# Calculate the mean and median of 'Char Count'\n",
    "mean = df['Char Count'].mean()\n",
    "median = df['Char Count'].median()\n",
    "print(\" The mean is:\", mean, '\\n', \"The median is:\", median)"
   ]
  },
  {
   "cell_type": "markdown",
   "metadata": {},
   "source": [
    "Char count has a mean of ~19.22.\n",
    "\n",
    "By the graph above, we can say that __char count is right skewed__."
   ]
  },
  {
   "cell_type": "markdown",
   "metadata": {},
   "source": [
    "#### Installs"
   ]
  },
  {
   "cell_type": "code",
   "execution_count": 211,
   "metadata": {
    "scrolled": false
   },
   "outputs": [
    {
     "data": {
      "text/plain": [
       "<matplotlib.axes._subplots.AxesSubplot at 0x6986598c50>"
      ]
     },
     "execution_count": 211,
     "metadata": {},
     "output_type": "execute_result"
    },
    {
     "data": {
      "image/png": "[encoded data removed]",
      "text/plain": [
       "<Figure size 792x504 with 1 Axes>"
      ]
     },
     "metadata": {},
     "output_type": "display_data"
    }
   ],
   "source": [
    "# Plots 'Installs' to see its distribution\n",
    "df['Installs'].plot.hist(bins = 25, figsize=(11,7))"
   ]
  },
  {
   "cell_type": "markdown",
   "metadata": {},
   "source": [
    "As we can see above, the graph has many spaces in between the different intervals on the x-axis. This may be due to the fact that our data does not provide a comprehensive number of installs, but instead categegorizes them as above a certain threshold, like 10,000+ or 50,000+, and so on. Therefore, we can see there are many apps in the beginning ranges of 0.0-0.1 1e8. As the range increases to 0.5 1e8 or even 1 1e8, the number of apps in that category begins to decrease."
   ]
  },
  {
   "cell_type": "code",
   "execution_count": 212,
   "metadata": {
    "scrolled": false
   },
   "outputs": [
    {
     "name": "stdout",
     "output_type": "stream",
     "text": [
      " The min is: 1.0 \n",
      " The max is: 1000000000.0\n"
     ]
    }
   ],
   "source": [
    "# Print the max and min of 'Installs'\n",
    "minValue = df['Installs'].min()\n",
    "maxValue = df['Installs'].max()\n",
    "print(\" The min is:\", minValue, '\\n', \"The max is:\", maxValue)"
   ]
  },
  {
   "cell_type": "code",
   "execution_count": 213,
   "metadata": {},
   "outputs": [
    {
     "data": {
      "text/plain": [
       "2"
      ]
     },
     "execution_count": 213,
     "metadata": {},
     "output_type": "execute_result"
    }
   ],
   "source": [
    "# Find out how mnay apps share the max value of 'Installs'\n",
    "dfMax = df.loc[ df['Installs'] == df['Installs'].max() ]\n",
    "dfMax.shape[0]"
   ]
  },
  {
   "cell_type": "markdown",
   "metadata": {},
   "source": [
    "(There are 20 applications that share the same number of installs, the maximum value of installs of our dataset)"
   ]
  },
  {
   "cell_type": "markdown",
   "metadata": {},
   "source": [
    "Unlike what we did with Word Count and Char Count, we decided __not__ to remove outliers for installs. This is largely due to the fact that, as explained above, our dataset gives us the number of installs for apps in \"plateus\". By removing outliers, we will be getting rid of the applications that are extremely successful and share the same number of installs in our dataset (such as Facebook, Snapchat, and Instagram). It is important to note that making this decision either way (deciding that we are getting rid of these outliers or keeping them) is inherently biased."
   ]
  },
  {
   "cell_type": "code",
   "execution_count": 214,
   "metadata": {},
   "outputs": [
    {
     "name": "stdout",
     "output_type": "stream",
     "text": [
      " The mean is: 4468160.721263096 \n",
      " The median is: 100000.0\n"
     ]
    }
   ],
   "source": [
    "# Calculate the mean and median of 'Installs'\n",
    "mean = df['Installs'].mean()\n",
    "median = df['Installs'].median()\n",
    "print(\" The mean is:\", mean, '\\n', \"The median is:\", median)"
   ]
  },
  {
   "cell_type": "markdown",
   "metadata": {},
   "source": [
    "Installs has a mean of ~9272736.74.\n",
    "\n",
    "From the above histogram, it looks like installs is strongly __skewed right__."
   ]
  },
  {
   "cell_type": "markdown",
   "metadata": {},
   "source": [
    "### Let's try to explore some relationships between our variables."
   ]
  },
  {
   "cell_type": "code",
   "execution_count": 215,
   "metadata": {},
   "outputs": [
    {
     "data": {
      "text/html": [
       "<div>\n",
       "<style scoped>\n",
       "    .dataframe tbody tr th:only-of-type {\n",
       "        vertical-align: middle;\n",
       "    }\n",
       "\n",
       "    .dataframe tbody tr th {\n",
       "        vertical-align: top;\n",
       "    }\n",
       "\n",
       "    .dataframe thead th {\n",
       "        text-align: right;\n",
       "    }\n",
       "</style>\n",
       "<table border=\"1\" class=\"dataframe\">\n",
       "  <thead>\n",
       "    <tr style=\"text-align: right;\">\n",
       "      <th></th>\n",
       "      <th>Rating</th>\n",
       "      <th>Installs</th>\n",
       "      <th>Price</th>\n",
       "      <th>Size</th>\n",
       "    </tr>\n",
       "  </thead>\n",
       "  <tbody>\n",
       "    <tr>\n",
       "      <th>Rating</th>\n",
       "      <td>1.00</td>\n",
       "      <td>0.05</td>\n",
       "      <td>-0.02</td>\n",
       "      <td>0.06</td>\n",
       "    </tr>\n",
       "    <tr>\n",
       "      <th>Installs</th>\n",
       "      <td>0.05</td>\n",
       "      <td>1.00</td>\n",
       "      <td>-0.01</td>\n",
       "      <td>0.13</td>\n",
       "    </tr>\n",
       "    <tr>\n",
       "      <th>Price</th>\n",
       "      <td>-0.02</td>\n",
       "      <td>-0.01</td>\n",
       "      <td>1.00</td>\n",
       "      <td>-0.03</td>\n",
       "    </tr>\n",
       "    <tr>\n",
       "      <th>Size</th>\n",
       "      <td>0.06</td>\n",
       "      <td>0.13</td>\n",
       "      <td>-0.03</td>\n",
       "      <td>1.00</td>\n",
       "    </tr>\n",
       "  </tbody>\n",
       "</table>\n",
       "</div>"
      ],
      "text/plain": [
       "          Rating  Installs  Price  Size\n",
       "Rating      1.00      0.05  -0.02  0.06\n",
       "Installs    0.05      1.00  -0.01  0.13\n",
       "Price      -0.02     -0.01   1.00 -0.03\n",
       "Size        0.06      0.13  -0.03  1.00"
      ]
     },
     "execution_count": 215,
     "metadata": {},
     "output_type": "execute_result"
    }
   ],
   "source": [
    "# Calculates Pearson correlation coefficient between variables with all observations\n",
    "df.iloc[:,1:5].corr()"
   ]
  },
  {
   "cell_type": "markdown",
   "metadata": {},
   "source": [
    "Save for the obvious relationship between word count and char count, there is little correlation between the variables based on Pearson's value."
   ]
  },
  {
   "cell_type": "markdown",
   "metadata": {},
   "source": [
    "#### Is there any relationship between _ratings_ and _installs_?"
   ]
  },
  {
   "cell_type": "code",
   "execution_count": 216,
   "metadata": {},
   "outputs": [
    {
     "data": {
      "text/plain": [
       "<matplotlib.collections.PathCollection at 0x69866aebe0>"
      ]
     },
     "execution_count": 216,
     "metadata": {},
     "output_type": "execute_result"
    },
    {
     "data": {
      "image/png": "[encoded data removed]",
      "text/plain": [
       "<Figure size 936x576 with 1 Axes>"
      ]
     },
     "metadata": {},
     "output_type": "display_data"
    }
   ],
   "source": [
    "x = df['Rating']\n",
    "y = df['Installs']\n",
    "fig = plt.figure(figsize=(13, 8))\n",
    "plt.scatter(x, y, c='blue')"
   ]
  },
  {
   "cell_type": "code",
   "execution_count": 217,
   "metadata": {},
   "outputs": [
    {
     "name": "stderr",
     "output_type": "stream",
     "text": [
      "E:\\Python\\lib\\site-packages\\scipy\\stats\\stats.py:1713: FutureWarning: Using a non-tuple sequence for multidimensional indexing is deprecated; use `arr[tuple(seq)]` instead of `arr[seq]`. In the future this will be interpreted as an array index, `arr[np.array(seq)]`, which will result either in an error or a different result.\n",
      "  return np.add.reduce(sorted[indexer] * weights, axis=axis) / sumval\n"
     ]
    },
    {
     "data": {
      "text/plain": [
       "<matplotlib.axes._subplots.AxesSubplot at 0x69880df2e8>"
      ]
     },
     "execution_count": 217,
     "metadata": {},
     "output_type": "execute_result"
    },
    {
     "data": {
      "image/png": "[encoded data removed]",
      "text/plain": [
       "<Figure size 936x576 with 1 Axes>"
      ]
     },
     "metadata": {},
     "output_type": "display_data"
    }
   ],
   "source": [
    "# Use jittering in order to better visualize the above scatter plot \n",
    "fig = plt.figure(figsize=(13, 8))\n",
    "sns.regplot(x='Rating', y='Installs', data=df, x_jitter=0.2, y_jitter=100000000)"
   ]
  },
  {
   "cell_type": "markdown",
   "metadata": {},
   "source": [
    "With installs on the y axis and ratings on the x axis, we can see that the graphs above present a trend. Although not a perfect negative skew, we can see that apps with ratings from 3-5 have a slightly higher number of installs than apps with ratings from 0-2.5. Similar to the installs graph, the flat lines are due to the way the number of installs was categorized into ranges/buckets of values above a certain threshold, like 10,000+ or 50,000+. Therefore, we can observe the lines at 0.5 1e8 and 1 1e8, which mean that some apps with ratings 3-5 had that number of installs."
   ]
  },
  {
   "cell_type": "code",
   "execution_count": 218,
   "metadata": {},
   "outputs": [
    {
     "data": {
      "text/plain": [
       "[<matplotlib.lines.Line2D at 0x6987638240>]"
      ]
     },
     "execution_count": 218,
     "metadata": {},
     "output_type": "execute_result"
    },
    {
     "data": {
      "image/png": "[encoded data removed]",
      "text/plain": [
       "<Figure size 936x432 with 1 Axes>"
      ]
     },
     "metadata": {},
     "output_type": "display_data"
    }
   ],
   "source": [
    "# Plots ratings on the x-axis and average number of installs on the y-axis\n",
    "df_RvsI = df.groupby('Rating').mean()\n",
    "x = df_RvsI.index\n",
    "y = df_RvsI['Installs']\n",
    "fig = plt.figure(figsize=(13, 6))\n",
    "plt.plot(x, y, c='blue')"
   ]
  },
  {
   "cell_type": "code",
   "execution_count": 219,
   "metadata": {
    "scrolled": true
   },
   "outputs": [
    {
     "data": {
      "image/png": "[encoded data removed]",
      "text/plain": [
       "<Figure size 1296x648 with 1 Axes>"
      ]
     },
     "metadata": {},
     "output_type": "display_data"
    }
   ],
   "source": [
    "# Box-plots ratings on the x-axis and log value of Installs on the y-axis\n",
    "fig = plt.figure(figsize=(18, 9))\n",
    "df['log_value'] = np.log(df['Installs'])\n",
    "sns.boxplot(x='Rating', y='log_value', data=df)\n",
    "ax = plt.gca()"
   ]
  },
  {
   "cell_type": "markdown",
   "metadata": {},
   "source": [
    "From the above four graphs, we can say that there is strong enough relationship between ratings and installs. As ratings increase, there is a general trend that installs also increases.\n",
    "\n",
    "Due to this relationship, and the fact that rating as a variable does not vary much (most ratings are between 4 to 5 as demonstrated earlier: with a mean of ~4.17 and a median of 4.3), we decided to utilize only installs as a measure of success for our project."
   ]
  },
  {
   "cell_type": "markdown",
   "metadata": {},
   "source": [
    "#### We want to see if there is any trend/correlation between _word count_ and _installs_."
   ]
  },
  {
   "cell_type": "code",
   "execution_count": 220,
   "metadata": {},
   "outputs": [
    {
     "data": {
      "text/html": [
       "<div>\n",
       "<style scoped>\n",
       "    .dataframe tbody tr th:only-of-type {\n",
       "        vertical-align: middle;\n",
       "    }\n",
       "\n",
       "    .dataframe tbody tr th {\n",
       "        vertical-align: top;\n",
       "    }\n",
       "\n",
       "    .dataframe thead th {\n",
       "        text-align: right;\n",
       "    }\n",
       "</style>\n",
       "<table border=\"1\" class=\"dataframe\">\n",
       "  <thead>\n",
       "    <tr style=\"text-align: right;\">\n",
       "      <th></th>\n",
       "      <th>Rating</th>\n",
       "      <th>Installs</th>\n",
       "      <th>Price</th>\n",
       "      <th>Size</th>\n",
       "      <th>...</th>\n",
       "      <th>zx</th>\n",
       "      <th>zy</th>\n",
       "      <th>zz</th>\n",
       "      <th>log_value</th>\n",
       "    </tr>\n",
       "    <tr>\n",
       "      <th>Word Count</th>\n",
       "      <th></th>\n",
       "      <th></th>\n",
       "      <th></th>\n",
       "      <th></th>\n",
       "      <th></th>\n",
       "      <th></th>\n",
       "      <th></th>\n",
       "      <th></th>\n",
       "      <th></th>\n",
       "    </tr>\n",
       "  </thead>\n",
       "  <tbody>\n",
       "    <tr>\n",
       "      <th>1</th>\n",
       "      <td>4.10</td>\n",
       "      <td>6.16e+06</td>\n",
       "      <td>0.18</td>\n",
       "      <td>19551.93</td>\n",
       "      <td>...</td>\n",
       "      <td>0.0</td>\n",
       "      <td>0.00e+00</td>\n",
       "      <td>0.00e+00</td>\n",
       "      <td>11.39</td>\n",
       "    </tr>\n",
       "    <tr>\n",
       "      <th>2</th>\n",
       "      <td>4.07</td>\n",
       "      <td>5.60e+06</td>\n",
       "      <td>0.24</td>\n",
       "      <td>21060.65</td>\n",
       "      <td>...</td>\n",
       "      <td>0.0</td>\n",
       "      <td>2.11e-03</td>\n",
       "      <td>8.42e-03</td>\n",
       "      <td>10.72</td>\n",
       "    </tr>\n",
       "    <tr>\n",
       "      <th>3</th>\n",
       "      <td>4.12</td>\n",
       "      <td>4.06e+06</td>\n",
       "      <td>2.04</td>\n",
       "      <td>21828.56</td>\n",
       "      <td>...</td>\n",
       "      <td>0.0</td>\n",
       "      <td>2.00e-03</td>\n",
       "      <td>2.66e-03</td>\n",
       "      <td>11.11</td>\n",
       "    </tr>\n",
       "    <tr>\n",
       "      <th>...</th>\n",
       "      <td>...</td>\n",
       "      <td>...</td>\n",
       "      <td>...</td>\n",
       "      <td>...</td>\n",
       "      <td>...</td>\n",
       "      <td>...</td>\n",
       "      <td>...</td>\n",
       "      <td>...</td>\n",
       "      <td>...</td>\n",
       "    </tr>\n",
       "    <tr>\n",
       "      <th>6</th>\n",
       "      <td>4.25</td>\n",
       "      <td>3.91e+06</td>\n",
       "      <td>0.87</td>\n",
       "      <td>24353.76</td>\n",
       "      <td>...</td>\n",
       "      <td>0.0</td>\n",
       "      <td>3.71e-03</td>\n",
       "      <td>1.48e-02</td>\n",
       "      <td>11.98</td>\n",
       "    </tr>\n",
       "    <tr>\n",
       "      <th>7</th>\n",
       "      <td>4.28</td>\n",
       "      <td>4.66e+06</td>\n",
       "      <td>0.24</td>\n",
       "      <td>23646.12</td>\n",
       "      <td>...</td>\n",
       "      <td>0.0</td>\n",
       "      <td>5.52e-03</td>\n",
       "      <td>1.66e-02</td>\n",
       "      <td>11.84</td>\n",
       "    </tr>\n",
       "    <tr>\n",
       "      <th>8</th>\n",
       "      <td>4.27</td>\n",
       "      <td>6.98e+06</td>\n",
       "      <td>0.27</td>\n",
       "      <td>23239.11</td>\n",
       "      <td>...</td>\n",
       "      <td>0.0</td>\n",
       "      <td>3.55e-03</td>\n",
       "      <td>7.09e-03</td>\n",
       "      <td>12.07</td>\n",
       "    </tr>\n",
       "  </tbody>\n",
       "</table>\n",
       "<p>8 rows × 157 columns</p>\n",
       "</div>"
      ],
      "text/plain": [
       "            Rating  Installs  Price      Size    ...       zx        zy  \\\n",
       "Word Count                                       ...                      \n",
       "1             4.10  6.16e+06   0.18  19551.93    ...      0.0  0.00e+00   \n",
       "2             4.07  5.60e+06   0.24  21060.65    ...      0.0  2.11e-03   \n",
       "3             4.12  4.06e+06   2.04  21828.56    ...      0.0  2.00e-03   \n",
       "...            ...       ...    ...       ...    ...      ...       ...   \n",
       "6             4.25  3.91e+06   0.87  24353.76    ...      0.0  3.71e-03   \n",
       "7             4.28  4.66e+06   0.24  23646.12    ...      0.0  5.52e-03   \n",
       "8             4.27  6.98e+06   0.27  23239.11    ...      0.0  3.55e-03   \n",
       "\n",
       "                  zz  log_value  \n",
       "Word Count                       \n",
       "1           0.00e+00      11.39  \n",
       "2           8.42e-03      10.72  \n",
       "3           2.66e-03      11.11  \n",
       "...              ...        ...  \n",
       "6           1.48e-02      11.98  \n",
       "7           1.66e-02      11.84  \n",
       "8           7.09e-03      12.07  \n",
       "\n",
       "[8 rows x 157 columns]"
      ]
     },
     "execution_count": 220,
     "metadata": {},
     "output_type": "execute_result"
    }
   ],
   "source": [
    "# Groups apps by the number of words they have, then gets the average number of installs and displays them\n",
    "df_new = df.groupby('Word Count').mean()\n",
    "df_new"
   ]
  },
  {
   "cell_type": "code",
   "execution_count": 221,
   "metadata": {},
   "outputs": [
    {
     "data": {
      "text/plain": [
       "<matplotlib.axes._subplots.AxesSubplot at 0x6989ce05c0>"
      ]
     },
     "execution_count": 221,
     "metadata": {},
     "output_type": "execute_result"
    },
    {
     "data": {
      "image/png": "[encoded data removed]",
      "text/plain": [
       "<Figure size 1296x648 with 2 Axes>"
      ]
     },
     "metadata": {},
     "output_type": "display_data"
    }
   ],
   "source": [
    "fig = plt.figure(figsize=(18, 9))\n",
    "fig.add_subplot(1, 2, 1)\n",
    "# Plots the average number of installs (y-axis) for apps of each word count (x-axis)\n",
    "x1 = df_new.index\n",
    "sns.barplot(x=x1, \n",
    "            y='Installs', \n",
    "            data=df_new);\n",
    "\n",
    "fig.add_subplot(1, 2, 2)\n",
    "\n"
   ]
  },
  {
   "cell_type": "code",
   "execution_count": 222,
   "metadata": {
    "scrolled": true
   },
   "outputs": [
    {
     "data": {
      "text/plain": [
       "<matplotlib.collections.PathCollection at 0x6989d49860>"
      ]
     },
     "execution_count": 222,
     "metadata": {},
     "output_type": "execute_result"
    },
    {
     "data": {
      "image/png": "[encoded data removed]",
      "text/plain": [
       "<Figure size 432x288 with 1 Axes>"
      ]
     },
     "metadata": {},
     "output_type": "display_data"
    }
   ],
   "source": [
    "x = df['Word Count']\n",
    "y = df['Installs']\n",
    "plt.scatter(x, y, c='blue')"
   ]
  },
  {
   "cell_type": "code",
   "execution_count": 223,
   "metadata": {},
   "outputs": [
    {
     "name": "stderr",
     "output_type": "stream",
     "text": [
      "E:\\Python\\lib\\site-packages\\scipy\\stats\\stats.py:1713: FutureWarning: Using a non-tuple sequence for multidimensional indexing is deprecated; use `arr[tuple(seq)]` instead of `arr[seq]`. In the future this will be interpreted as an array index, `arr[np.array(seq)]`, which will result either in an error or a different result.\n",
      "  return np.add.reduce(sorted[indexer] * weights, axis=axis) / sumval\n"
     ]
    },
    {
     "data": {
      "text/plain": [
       "<matplotlib.axes._subplots.AxesSubplot at 0x69866aef60>"
      ]
     },
     "execution_count": 223,
     "metadata": {},
     "output_type": "execute_result"
    },
    {
     "data": {
      "image/png": "[encoded data removed]",
      "text/plain": [
       "<Figure size 936x576 with 1 Axes>"
      ]
     },
     "metadata": {},
     "output_type": "display_data"
    }
   ],
   "source": [
    "fig = plt.figure(figsize=(13, 8))\n",
    "sns.regplot(x='Word Count', y='Installs', data=df, x_jitter=0.2, y_jitter=100000000)"
   ]
  },
  {
   "cell_type": "code",
   "execution_count": 224,
   "metadata": {},
   "outputs": [
    {
     "data": {
      "image/png": "[encoded data removed]",
      "text/plain": [
       "<Figure size 1296x648 with 1 Axes>"
      ]
     },
     "metadata": {},
     "output_type": "display_data"
    }
   ],
   "source": [
    "fig = plt.figure(figsize=(18, 9))\n",
    "sns.boxplot(x='Word Count', y='log_value', data=df)\n",
    "ax = plt.gca()"
   ]
  },
  {
   "cell_type": "markdown",
   "metadata": {},
   "source": [
    "#### Similarly, what about _char count_ and _installs_?"
   ]
  },
  {
   "cell_type": "code",
   "execution_count": 225,
   "metadata": {},
   "outputs": [
    {
     "data": {
      "text/html": [
       "<div>\n",
       "<style scoped>\n",
       "    .dataframe tbody tr th:only-of-type {\n",
       "        vertical-align: middle;\n",
       "    }\n",
       "\n",
       "    .dataframe tbody tr th {\n",
       "        vertical-align: top;\n",
       "    }\n",
       "\n",
       "    .dataframe thead th {\n",
       "        text-align: right;\n",
       "    }\n",
       "</style>\n",
       "<table border=\"1\" class=\"dataframe\">\n",
       "  <thead>\n",
       "    <tr style=\"text-align: right;\">\n",
       "      <th></th>\n",
       "      <th>Rating</th>\n",
       "      <th>Installs</th>\n",
       "      <th>Price</th>\n",
       "      <th>Size</th>\n",
       "      <th>...</th>\n",
       "      <th>zx</th>\n",
       "      <th>zy</th>\n",
       "      <th>zz</th>\n",
       "      <th>log_value</th>\n",
       "    </tr>\n",
       "    <tr>\n",
       "      <th>Char Count</th>\n",
       "      <th></th>\n",
       "      <th></th>\n",
       "      <th></th>\n",
       "      <th></th>\n",
       "      <th></th>\n",
       "      <th></th>\n",
       "      <th></th>\n",
       "      <th></th>\n",
       "      <th></th>\n",
       "    </tr>\n",
       "  </thead>\n",
       "  <tbody>\n",
       "    <tr>\n",
       "      <th>1</th>\n",
       "      <td>3.95</td>\n",
       "      <td>5.25e+05</td>\n",
       "      <td>0.00</td>\n",
       "      <td>46000.00</td>\n",
       "      <td>...</td>\n",
       "      <td>0.0</td>\n",
       "      <td>0.0</td>\n",
       "      <td>0.0</td>\n",
       "      <td>12.32</td>\n",
       "    </tr>\n",
       "    <tr>\n",
       "      <th>2</th>\n",
       "      <td>3.94</td>\n",
       "      <td>2.20e+06</td>\n",
       "      <td>0.04</td>\n",
       "      <td>9768.12</td>\n",
       "      <td>...</td>\n",
       "      <td>0.0</td>\n",
       "      <td>0.0</td>\n",
       "      <td>0.0</td>\n",
       "      <td>9.75</td>\n",
       "    </tr>\n",
       "    <tr>\n",
       "      <th>3</th>\n",
       "      <td>3.97</td>\n",
       "      <td>3.53e+07</td>\n",
       "      <td>0.00</td>\n",
       "      <td>21750.00</td>\n",
       "      <td>...</td>\n",
       "      <td>0.0</td>\n",
       "      <td>0.0</td>\n",
       "      <td>0.0</td>\n",
       "      <td>14.22</td>\n",
       "    </tr>\n",
       "    <tr>\n",
       "      <th>...</th>\n",
       "      <td>...</td>\n",
       "      <td>...</td>\n",
       "      <td>...</td>\n",
       "      <td>...</td>\n",
       "      <td>...</td>\n",
       "      <td>...</td>\n",
       "      <td>...</td>\n",
       "      <td>...</td>\n",
       "      <td>...</td>\n",
       "    </tr>\n",
       "    <tr>\n",
       "      <th>48</th>\n",
       "      <td>4.50</td>\n",
       "      <td>1.00e+05</td>\n",
       "      <td>0.00</td>\n",
       "      <td>13000.00</td>\n",
       "      <td>...</td>\n",
       "      <td>0.0</td>\n",
       "      <td>0.0</td>\n",
       "      <td>0.0</td>\n",
       "      <td>11.51</td>\n",
       "    </tr>\n",
       "    <tr>\n",
       "      <th>49</th>\n",
       "      <td>3.70</td>\n",
       "      <td>2.75e+06</td>\n",
       "      <td>0.00</td>\n",
       "      <td>10550.00</td>\n",
       "      <td>...</td>\n",
       "      <td>0.0</td>\n",
       "      <td>0.0</td>\n",
       "      <td>0.0</td>\n",
       "      <td>14.27</td>\n",
       "    </tr>\n",
       "    <tr>\n",
       "      <th>52</th>\n",
       "      <td>4.30</td>\n",
       "      <td>1.00e+06</td>\n",
       "      <td>0.00</td>\n",
       "      <td>8600.00</td>\n",
       "      <td>...</td>\n",
       "      <td>0.0</td>\n",
       "      <td>0.0</td>\n",
       "      <td>0.0</td>\n",
       "      <td>13.82</td>\n",
       "    </tr>\n",
       "  </tbody>\n",
       "</table>\n",
       "<p>50 rows × 157 columns</p>\n",
       "</div>"
      ],
      "text/plain": [
       "            Rating  Installs  Price      Size    ...       zx   zy   zz  \\\n",
       "Char Count                                       ...                      \n",
       "1             3.95  5.25e+05   0.00  46000.00    ...      0.0  0.0  0.0   \n",
       "2             3.94  2.20e+06   0.04   9768.12    ...      0.0  0.0  0.0   \n",
       "3             3.97  3.53e+07   0.00  21750.00    ...      0.0  0.0  0.0   \n",
       "...            ...       ...    ...       ...    ...      ...  ...  ...   \n",
       "48            4.50  1.00e+05   0.00  13000.00    ...      0.0  0.0  0.0   \n",
       "49            3.70  2.75e+06   0.00  10550.00    ...      0.0  0.0  0.0   \n",
       "52            4.30  1.00e+06   0.00   8600.00    ...      0.0  0.0  0.0   \n",
       "\n",
       "            log_value  \n",
       "Char Count             \n",
       "1               12.32  \n",
       "2                9.75  \n",
       "3               14.22  \n",
       "...               ...  \n",
       "48              11.51  \n",
       "49              14.27  \n",
       "52              13.82  \n",
       "\n",
       "[50 rows x 157 columns]"
      ]
     },
     "execution_count": 225,
     "metadata": {},
     "output_type": "execute_result"
    }
   ],
   "source": [
    "# Groups apps by the number of words they have, then gets the average number of installs and displays them\n",
    "df_new = df.groupby('Char Count').mean()\n",
    "df_new"
   ]
  },
  {
   "cell_type": "code",
   "execution_count": 226,
   "metadata": {},
   "outputs": [
    {
     "data": {
      "image/png": "[encoded data removed]",
      "text/plain": [
       "<Figure size 1080x595.44 with 1 Axes>"
      ]
     },
     "metadata": {},
     "output_type": "display_data"
    }
   ],
   "source": [
    "# Plots the average number of installs (y-axis) for apps of each word count (x-axis)\n",
    "x1 = df_new.index\n",
    "fig, ax = plt.subplots()\n",
    "fig.set_size_inches(15, 8.27)\n",
    "sns.barplot(x=x1, \n",
    "            y='Installs', \n",
    "            data=df_new,\n",
    "            ax = ax);"
   ]
  },
  {
   "cell_type": "code",
   "execution_count": 227,
   "metadata": {},
   "outputs": [
    {
     "data": {
      "text/plain": [
       "<matplotlib.collections.PathCollection at 0x698d744240>"
      ]
     },
     "execution_count": 227,
     "metadata": {},
     "output_type": "execute_result"
    },
    {
     "data": {
      "image/png": "[encoded data removed]",
      "text/plain": [
       "<Figure size 432x288 with 1 Axes>"
      ]
     },
     "metadata": {},
     "output_type": "display_data"
    }
   ],
   "source": [
    "x = df['Char Count']\n",
    "y = df['Installs']\n",
    "plt.scatter(x, y, c='blue')"
   ]
  },
  {
   "cell_type": "code",
   "execution_count": 228,
   "metadata": {},
   "outputs": [
    {
     "name": "stderr",
     "output_type": "stream",
     "text": [
      "E:\\Python\\lib\\site-packages\\scipy\\stats\\stats.py:1713: FutureWarning: Using a non-tuple sequence for multidimensional indexing is deprecated; use `arr[tuple(seq)]` instead of `arr[seq]`. In the future this will be interpreted as an array index, `arr[np.array(seq)]`, which will result either in an error or a different result.\n",
      "  return np.add.reduce(sorted[indexer] * weights, axis=axis) / sumval\n"
     ]
    },
    {
     "data": {
      "text/plain": [
       "<matplotlib.axes._subplots.AxesSubplot at 0x698d3be4a8>"
      ]
     },
     "execution_count": 228,
     "metadata": {},
     "output_type": "execute_result"
    },
    {
     "data": {
      "image/png": "[encoded data removed]",
      "text/plain": [
       "<Figure size 936x576 with 1 Axes>"
      ]
     },
     "metadata": {},
     "output_type": "display_data"
    }
   ],
   "source": [
    "# Use jitering to better visualize the above scatter plot\n",
    "fig = plt.figure(figsize=(13, 8))\n",
    "sns.regplot(x='Char Count', y='Installs', data=df, x_jitter=0.2, y_jitter=100000000)"
   ]
  },
  {
   "cell_type": "markdown",
   "metadata": {},
   "source": [
    "With installs on the y axis and char count on the x axis, we can see that the graph above presents a clear trend. Although not a perfect positive skew, we can see that apps with a char count from 0-50 have a higher number of installs than apps with char counts greater than 50. Similar to the installs graph, the flat lines are due to the way the number of installs was categorized into ranges/buckets of values above a certain threshold, like 10,000+ or 50,000+. Therefore, we can observe the lines at 0.5 1e8 and 1 1e8, which mean that some apps with a char count of 0-50 had that number of installs."
   ]
  },
  {
   "cell_type": "code",
   "execution_count": 229,
   "metadata": {},
   "outputs": [
    {
     "data": {
      "image/png": "[encoded data removed]",
      "text/plain": [
       "<Figure size 1296x648 with 1 Axes>"
      ]
     },
     "metadata": {},
     "output_type": "display_data"
    }
   ],
   "source": [
    "fig = plt.figure(figsize=(18, 9))\n",
    "sns.boxplot(x='Char Count', y='log_value', data=df)\n",
    "ax = plt.gca()"
   ]
  },
  {
   "cell_type": "markdown",
   "metadata": {},
   "source": [
    "Now that we found a trend between word count and installs, is there any relationship between rating and word count?"
   ]
  },
  {
   "cell_type": "markdown",
   "metadata": {},
   "source": [
    "# Data Analysis & Results"
   ]
  },
  {
   "cell_type": "markdown",
   "metadata": {},
   "source": [
    "Firstly, we will find by Wilcoxon rank sum test which of the letters/combinations of letters are not significant. Remember, we are doing so in order to decrease a chance of a potential multicollinearity problem in our main regression, because all these variables we will apply Wilcoxon test to are binary variables."
   ]
  },
  {
   "cell_type": "code",
   "execution_count": 230,
   "metadata": {},
   "outputs": [
    {
     "name": "stdout",
     "output_type": "stream",
     "text": [
      "['c', 'f', 'x', 'z', 'ac', 'ai', 'al', 'ap', 'at', 'ay', 'bi', 'ca', 'ce', 'ch', 'ci', 'co', 'ct', 'de', 'di', 'ec', 'ed', 'el', 'em', 'en', 'es', 'et', 'ew', 'fi', 'fo', 'ha', 'he', 'hi', 'ia', 'ic', 'id', 'ie', 'il', 'io', 'is', 'it', 'la', 'le', 'li', 'lo', 'ma', 'mi', 'na', 'nc', 'ni', 'ns', 'nt', 'ob', 'od', 'ol', 'on', 'or', 'ou', 'pa', 'pe', 'pp', 'ri', 'ro', 'rs', 'rt', 'ry', 'se', 'si', 'ss', 'st', 'ta', 'te', 'th', 'ti', 'tr', 'tt', 'tu', 'ty', 'ul', 'um', 'ur', 'us', 'ut', 'vi', 'zy', 'zz']\n"
     ]
    },
    {
     "name": "stderr",
     "output_type": "stream",
     "text": [
      "E:\\Python\\lib\\site-packages\\scipy\\stats\\stats.py:4971: RuntimeWarning: invalid value encountered in double_scalars\n",
      "  z = (s - expected) / np.sqrt(n1*n2*(n1+n2+1)/12.0)\n",
      "E:\\Python\\lib\\site-packages\\scipy\\stats\\_distn_infrastructure.py:879: RuntimeWarning: invalid value encountered in greater\n",
      "  return (self.a < x) & (x < self.b)\n",
      "E:\\Python\\lib\\site-packages\\scipy\\stats\\_distn_infrastructure.py:879: RuntimeWarning: invalid value encountered in less\n",
      "  return (self.a < x) & (x < self.b)\n",
      "E:\\Python\\lib\\site-packages\\scipy\\stats\\_distn_infrastructure.py:1821: RuntimeWarning: invalid value encountered in less_equal\n",
      "  cond2 = cond0 & (x <= self.a)\n"
     ]
    }
   ],
   "source": [
    "import scipy\n",
    "\n",
    "#First we need a list of insignificant variables that will be useless in our regression\n",
    "\n",
    "#vector that will contain insignificant columns concerning letters/combinations of letters\n",
    "insignificant_letters = []\n",
    "\n",
    "#following peace of code loops through every column from 'a' to 'zz'\n",
    "#and tests whether 'Reviews' where this letter is present comes \n",
    "#from the same distribution as distribution of 'Reviews' where this letter is absent \n",
    "for col_name in df.columns[9:159]:     \n",
    "    \n",
    "    presence_vector = df[df[col_name]==1]['Reviews']#reviews for which value of col_name is 1\n",
    "    absence_vector = df[df[col_name]==0]['Reviews']#reviews for which value of col_name is 0\n",
    "    \n",
    "    test_stat, pval = scipy.stats.ranksums(presence_vector,absence_vector)\n",
    "    \n",
    "    #appending insignificant_letters list if the current column is insignificant at 0.01 level\n",
    "    if pval > 0.01:\n",
    "        insignificant_letters.append(col_name)\n",
    "\n",
    "print(insignificant_letters)"
   ]
  },
  {
   "cell_type": "markdown",
   "metadata": {},
   "source": [
    "So, based on the findings in the previous cell we can deduce that columns, that are present in insignificant_letters list are insignificant in explaining success measured as total number of reviews of an app. This fact allows us not to include those variables into regression in order to avoid potential severe multicollinearity."
   ]
  },
  {
   "cell_type": "markdown",
   "metadata": {},
   "source": [
    "Thus, we can drop these columns from our dataset."
   ]
  },
  {
   "cell_type": "code",
   "execution_count": 231,
   "metadata": {},
   "outputs": [],
   "source": [
    "df.drop(insignificant_letters, axis = 1, inplace = True)"
   ]
  },
  {
   "cell_type": "markdown",
   "metadata": {},
   "source": [
    "Remember, that we will need to write huge amount of text inside __sm.OLS(_here_)__ . To avoid typing this long text with all variables we need, we will create one list that will caontain all information we need."
   ]
  },
  {
   "cell_type": "code",
   "execution_count": 232,
   "metadata": {},
   "outputs": [
    {
     "data": {
      "text/plain": [
       "Index(['App', 'Rating', 'Installs', 'Price', 'Size', 'Reviews', 'Category',\n",
       "       'Word Count', 'Char Count', 'a', 'b', 'd', 'e', 'g', 'h', 'i', 'k', 'l',\n",
       "       'm', 'n', 'o', 'p', 'r', 's', 't', 'u', 'v', 'w', 'y', 'ad', 'ag', 'am',\n",
       "       'an', 'ar', 'as', 'bo', 'ck', 'ds', 'ea', 'ee', 'eo', 'er', 'ge', 'ho',\n",
       "       'ig', 'im', 'in', 'ir', 'iv', 'ke', 'll', 'me', 'nd', 'ne', 'ng', 'oa',\n",
       "       'oc', 'ok', 'om', 'oo', 'op', 'os', 'ot', 'ow', 'ra', 'rd', 're', 'sh',\n",
       "       'to', 'ts', 'un', 've', 'zw', 'zx', 'log_value'],\n",
       "      dtype='object')"
      ]
     },
     "execution_count": 232,
     "metadata": {},
     "output_type": "execute_result"
    }
   ],
   "source": [
    "df.columns"
   ]
  },
  {
   "cell_type": "code",
   "execution_count": 241,
   "metadata": {},
   "outputs": [],
   "source": [
    "# reg_list will is final list of all regressors we need\n",
    "reg_list = list(df.columns[7:-1])\n",
    "reg_list.append('Price')\n",
    "reg_list.append('Size')"
   ]
  },
  {
   "cell_type": "markdown",
   "metadata": {},
   "source": [
    "Now, we are ready to perform OLS regression."
   ]
  },
  {
   "cell_type": "code",
   "execution_count": 242,
   "metadata": {},
   "outputs": [
    {
     "data": {
      "text/plain": [
       "Index(['App', 'Rating', 'Installs', 'Price', 'Size', 'Reviews', 'Category',\n",
       "       'Word Count', 'Char Count', 'a', 'b', 'd', 'e', 'g', 'h', 'i', 'k', 'l',\n",
       "       'm', 'n', 'o', 'p', 'r', 's', 't', 'u', 'v', 'w', 'y', 'ad', 'ag', 'am',\n",
       "       'an', 'ar', 'as', 'bo', 'ck', 'ds', 'ea', 'ee', 'eo', 'er', 'ge', 'ho',\n",
       "       'ig', 'im', 'in', 'ir', 'iv', 'ke', 'll', 'me', 'nd', 'ne', 'ng', 'oa',\n",
       "       'oc', 'ok', 'om', 'oo', 'op', 'os', 'ot', 'ow', 'ra', 'rd', 're', 'sh',\n",
       "       'to', 'ts', 'un', 've', 'zw', 'zx', 'log_value'],\n",
       "      dtype='object')"
      ]
     },
     "execution_count": 242,
     "metadata": {},
     "output_type": "execute_result"
    }
   ],
   "source": [
    "df.columns"
   ]
  },
  {
   "cell_type": "code",
   "execution_count": 243,
   "metadata": {
    "scrolled": true
   },
   "outputs": [
    {
     "name": "stdout",
     "output_type": "stream",
     "text": [
      "                            OLS Regression Results                            \n",
      "==============================================================================\n",
      "Dep. Variable:                Reviews   R-squared:                       0.055\n",
      "Model:                            OLS   Adj. R-squared:                  0.046\n",
      "Method:                 Least Squares   F-statistic:                     5.839\n",
      "Date:                Mon, 27 May 2019   Prob (F-statistic):           1.18e-45\n",
      "Time:                        18:22:12   Log-Likelihood:            -1.0323e+05\n",
      "No. Observations:                6777   AIC:                         2.066e+05\n",
      "Df Residuals:                    6709   BIC:                         2.071e+05\n",
      "Df Model:                          67                                         \n",
      "Covariance Type:            nonrobust                                         \n",
      "==============================================================================\n",
      "                 coef    std err          t      P>|t|      [0.025      0.975]\n",
      "------------------------------------------------------------------------------\n",
      "const       2.523e+04    3.8e+04      0.664      0.507   -4.93e+04    9.98e+04\n",
      "Word Count  5743.7622   1.35e+04      0.425      0.671   -2.08e+04    3.23e+04\n",
      "Char Count -2080.0461   3513.223     -0.592      0.554   -8967.078    4806.986\n",
      "a           5.941e+04   3.36e+04      1.769      0.077   -6411.992    1.25e+05\n",
      "b          -2.249e+04   3.83e+04     -0.587      0.557   -9.76e+04    5.27e+04\n",
      "d           2.474e+04   3.54e+04      0.698      0.485   -4.47e+04    9.42e+04\n",
      "e          -9.744e+04   3.61e+04     -2.699      0.007   -1.68e+05   -2.67e+04\n",
      "g           1.302e+04   5.12e+04      0.254      0.799   -8.74e+04    1.13e+05\n",
      "h           3.519e+04   3.33e+04      1.057      0.291   -3.01e+04       1e+05\n",
      "i          -5.226e+04   3.13e+04     -1.670      0.095   -1.14e+05    9078.478\n",
      "k          -3.256e+04   4.99e+04     -0.653      0.514    -1.3e+05    6.52e+04\n",
      "l           -841.1494   2.92e+04     -0.029      0.977   -5.81e+04    5.64e+04\n",
      "m           2.822e+04   4.04e+04      0.699      0.485    -5.1e+04    1.07e+05\n",
      "n            756.0866   3.39e+04      0.022      0.982   -6.57e+04    6.72e+04\n",
      "o           2.188e+04   3.15e+04      0.696      0.487   -3.98e+04    8.36e+04\n",
      "p          -4.247e+04   3.22e+04     -1.320      0.187   -1.06e+05    2.06e+04\n",
      "r          -3.942e+04   3.65e+04     -1.081      0.280   -1.11e+05    3.21e+04\n",
      "s           6022.4598   2.97e+04      0.203      0.839   -5.21e+04    6.42e+04\n",
      "t           -7.82e+04      3e+04     -2.606      0.009   -1.37e+05   -1.94e+04\n",
      "u          -7366.6940   2.98e+04     -0.247      0.805   -6.58e+04    5.11e+04\n",
      "v           7.639e+04   5.93e+04      1.287      0.198   -3.99e+04    1.93e+05\n",
      "w            5.36e+04   5.11e+04      1.050      0.294   -4.65e+04    1.54e+05\n",
      "y           3.206e+04   3.01e+04      1.066      0.287   -2.69e+04     9.1e+04\n",
      "ad         -1.679e+04    6.8e+04     -0.247      0.805    -1.5e+05    1.17e+05\n",
      "ag          1.796e+05   7.68e+04      2.338      0.019     2.9e+04     3.3e+05\n",
      "am         -9.508e+04   5.84e+04     -1.628      0.103    -2.1e+05    1.94e+04\n",
      "an          3.327e+04    4.2e+04      0.793      0.428    -4.9e+04    1.16e+05\n",
      "ar         -7.967e+04   4.09e+04     -1.946      0.052    -1.6e+05     585.812\n",
      "as          1.133e+05    5.2e+04      2.178      0.029    1.13e+04    2.15e+05\n",
      "bo          1.046e+05   9.17e+04      1.142      0.254    -7.5e+04    2.84e+05\n",
      "ck         -5405.8796   6.56e+04     -0.082      0.934   -1.34e+05    1.23e+05\n",
      "ds         -1.867e+04   8.09e+04     -0.231      0.817   -1.77e+05     1.4e+05\n",
      "ea         -4.233e+04   4.63e+04     -0.915      0.360   -1.33e+05    4.83e+04\n",
      "ee          4.777e+04   5.32e+04      0.899      0.369   -5.64e+04    1.52e+05\n",
      "eo          1.027e+05   8.42e+04      1.220      0.222   -6.23e+04    2.68e+05\n",
      "er           9.06e+04   3.43e+04      2.643      0.008    2.34e+04    1.58e+05\n",
      "ge         -7.389e+04   6.37e+04     -1.160      0.246   -1.99e+05    5.09e+04\n",
      "ho          3.477e+04   6.63e+04      0.524      0.600   -9.52e+04    1.65e+05\n",
      "ig         -5.033e+04   7.73e+04     -0.651      0.515   -2.02e+05    1.01e+05\n",
      "im         -6.967e+04   6.89e+04     -1.012      0.312   -2.05e+05    6.53e+04\n",
      "in         -4.895e+04   4.57e+04     -1.070      0.285   -1.39e+05    4.07e+04\n",
      "ir          1.066e+05   6.55e+04      1.627      0.104   -2.18e+04    2.35e+05\n",
      "iv          1.839e+05   7.44e+04      2.473      0.013    3.81e+04     3.3e+05\n",
      "ke         -1.642e+04   6.42e+04     -0.256      0.798   -1.42e+05    1.09e+05\n",
      "ll          8.684e+04   5.07e+04      1.711      0.087   -1.26e+04    1.86e+05\n",
      "me          -1.69e+04   5.18e+04     -0.326      0.744   -1.18e+05    8.46e+04\n",
      "nd         -6.122e+04   5.36e+04     -1.141      0.254   -1.66e+05    4.39e+04\n",
      "ne         -2890.7165   4.97e+04     -0.058      0.954      -1e+05    9.46e+04\n",
      "ng          2.484e+04    6.2e+04      0.401      0.689   -9.67e+04    1.46e+05\n",
      "oa         -1.197e+04   9.63e+04     -0.124      0.901   -2.01e+05    1.77e+05\n",
      "oc          9.091e+04   6.75e+04      1.347      0.178   -4.14e+04    2.23e+05\n",
      "ok          2.683e+04   9.66e+04      0.278      0.781   -1.62e+05    2.16e+05\n",
      "om         -4.316e+04   6.34e+04     -0.681      0.496   -1.67e+05    8.11e+04\n",
      "oo          2.902e+04   5.63e+04      0.516      0.606   -8.13e+04    1.39e+05\n",
      "op         -3.471e+04    8.1e+04     -0.428      0.668   -1.94e+05    1.24e+05\n",
      "os         -2.889e+04   7.31e+04     -0.395      0.693   -1.72e+05    1.14e+05\n",
      "ot          4915.9301   5.59e+04      0.088      0.930   -1.05e+05    1.14e+05\n",
      "ow         -7988.1618   8.66e+04     -0.092      0.926   -1.78e+05    1.62e+05\n",
      "ra         -3.627e+04   4.28e+04     -0.848      0.397    -1.2e+05    4.76e+04\n",
      "rd         -2.993e+04   7.68e+04     -0.390      0.697    -1.8e+05    1.21e+05\n",
      "re          2.978e+04   4.21e+04      0.707      0.479   -5.28e+04    1.12e+05\n",
      "sh           3.89e+05   7.13e+04      5.458      0.000    2.49e+05    5.29e+05\n",
      "to          2.332e+04    4.5e+04      0.518      0.604   -6.48e+04    1.11e+05\n",
      "ts          2.462e+04   6.08e+04      0.405      0.686   -9.46e+04    1.44e+05\n",
      "un          6.597e+04   5.96e+04      1.107      0.268   -5.09e+04    1.83e+05\n",
      "ve         -2.032e+05   7.31e+04     -2.779      0.005   -3.47e+05   -5.99e+04\n",
      "zw           2.35e-11   2.36e-11      0.995      0.320   -2.28e-11    6.98e-11\n",
      "zx                  0          0        nan        nan           0           0\n",
      "Price       -186.6633    670.693     -0.278      0.781   -1501.434    1128.108\n",
      "Size           8.6477      0.552     15.680      0.000       7.567       9.729\n",
      "==============================================================================\n",
      "Omnibus:                    15390.331   Durbin-Watson:                   1.648\n",
      "Prob(Omnibus):                  0.000   Jarque-Bera (JB):        140401035.377\n",
      "Skew:                          21.467   Prob(JB):                         0.00\n",
      "Kurtosis:                     706.826   Cond. No.                     1.39e+16\n",
      "==============================================================================\n",
      "\n",
      "Warnings:\n",
      "[1] Standard Errors assume that the covariance matrix of the errors is correctly specified.\n",
      "[2] The smallest eigenvalue is 3.47e-20. This might indicate that there are\n",
      "strong multicollinearity problems or that the design matrix is singular.\n"
     ]
    },
    {
     "name": "stderr",
     "output_type": "stream",
     "text": [
      "E:\\Python\\lib\\site-packages\\statsmodels\\base\\model.py:1100: RuntimeWarning: invalid value encountered in true_divide\n",
      "  return self.params / self.bse\n",
      "E:\\Python\\lib\\site-packages\\scipy\\stats\\_distn_infrastructure.py:879: RuntimeWarning: invalid value encountered in greater\n",
      "  return (self.a < x) & (x < self.b)\n",
      "E:\\Python\\lib\\site-packages\\scipy\\stats\\_distn_infrastructure.py:879: RuntimeWarning: invalid value encountered in less\n",
      "  return (self.a < x) & (x < self.b)\n",
      "E:\\Python\\lib\\site-packages\\scipy\\stats\\_distn_infrastructure.py:1821: RuntimeWarning: invalid value encountered in less_equal\n",
      "  cond2 = cond0 & (x <= self.a)\n"
     ]
    }
   ],
   "source": [
    "import statsmodels.api as sm\n",
    "\n",
    "\n",
    "model = sm.OLS(endog = df['Reviews'], exog = sm.add_constant(df[reg_list]))\n",
    "results = model.fit()\n",
    "print(results.summary())"
   ]
  },
  {
   "cell_type": "markdown",
   "metadata": {},
   "source": [
    "As we can see from Warnings in OLS summary, there is still a problem with multicollinearity. We will now build F-test for testing mutual insignificance of all letter regressors whose p-values are greater than 0.15 to see whether we can delete them from the set of the regressors."
   ]
  },
  {
   "cell_type": "code",
   "execution_count": 244,
   "metadata": {},
   "outputs": [
    {
     "name": "stdout",
     "output_type": "stream",
     "text": [
      "<F test: F=array([[0.62098706]]), p=0.9825682509276624, df_denom=6709, df_num=49>\n"
     ]
    },
    {
     "name": "stderr",
     "output_type": "stream",
     "text": [
      "E:\\Python\\lib\\site-packages\\statsmodels\\base\\model.py:1532: ValueWarning: covariance of constraints does not have full rank. The number of constraints is 50, but rank is 49\n",
      "  'rank is %d' % (J, J_), ValueWarning)\n"
     ]
    }
   ],
   "source": [
    "hypothesis = '(b = 0),(d = 0), (g = 0), (h = 0), (p = 0), (r = 0), (v = 0), (w = 0), (y = 0), (bo = 0), (eo = 0), (ge = 0), (in = 0), (nd = 0), (oc = 0), (un = 0), (k = 0), (l = 0), (m = 0), (n = 0),(o = 0),(s = 0),(u = 0),(ad = 0),(an = 0),(ck = 0),(ds = 0),(ea = 0),(ee = 0),(ho = 0),(ig = 0),(im = 0),(ke = 0),(me = 0),(ne = 0),(ng = 0),(oa = 0),(ok = 0),(om = 0),(oo = 0),(op = 0),(os = 0),(ot = 0),(ow = 0),(ra = 0),(rd = 0),(re = 0),(to = 0),(ts = 0),(zw = 0)'\n",
    "f_test = results.f_test(hypothesis)\n",
    "print(f_test)"
   ]
  },
  {
   "cell_type": "markdown",
   "metadata": {},
   "source": [
    "The p-value of F-test is nearly one, thus, we cannot reject the null hypothesis that the variables contained in _hypothesis_ in the cell above are mutually insignificant in our regression. So we can delete them from our regression without loss of main results.\n"
   ]
  },
  {
   "cell_type": "code",
   "execution_count": 245,
   "metadata": {},
   "outputs": [],
   "source": [
    "reg_list.remove('b')\n",
    "reg_list.remove('d')\n",
    "reg_list.remove('g')\n",
    "reg_list.remove('h')\n",
    "reg_list.remove('p')\n",
    "reg_list.remove('r')\n",
    "reg_list.remove('v')\n",
    "reg_list.remove('w')\n",
    "reg_list.remove('y')\n",
    "reg_list.remove('bo')\n",
    "reg_list.remove('eo')\n",
    "reg_list.remove('ge')\n",
    "reg_list.remove('in')\n",
    "reg_list.remove('nd')\n",
    "reg_list.remove('oc')\n",
    "reg_list.remove('un')\n",
    "reg_list.remove('k')\n",
    "reg_list.remove('l')\n",
    "reg_list.remove('m')\n",
    "reg_list.remove('n')\n",
    "reg_list.remove('o')\n",
    "reg_list.remove('s')\n",
    "reg_list.remove('u')\n",
    "reg_list.remove('ad')\n",
    "reg_list.remove('an')\n",
    "reg_list.remove('ck')\n",
    "reg_list.remove('ds')\n",
    "reg_list.remove('ea')\n",
    "reg_list.remove('ee')\n",
    "reg_list.remove('ho')\n",
    "reg_list.remove('ig')\n",
    "reg_list.remove('im')\n",
    "reg_list.remove('ke')\n",
    "reg_list.remove('me')\n",
    "reg_list.remove('ne')\n",
    "reg_list.remove('ng')\n",
    "reg_list.remove('oa')\n",
    "reg_list.remove('ok')\n",
    "reg_list.remove('om')\n",
    "reg_list.remove('oo')\n",
    "reg_list.remove('op')\n",
    "reg_list.remove('os')\n",
    "reg_list.remove('ot')\n",
    "reg_list.remove('ow')\n",
    "reg_list.remove('ra')\n",
    "reg_list.remove('rd')\n",
    "reg_list.remove('re')\n",
    "reg_list.remove('to')\n",
    "reg_list.remove('ts')\n",
    "reg_list.remove('zw')\n"
   ]
  },
  {
   "cell_type": "markdown",
   "metadata": {},
   "source": [
    "Now we are ready to run new regression with corrected list of independent variables to hope to avoid multicollinearity problem."
   ]
  },
  {
   "cell_type": "code",
   "execution_count": 246,
   "metadata": {},
   "outputs": [
    {
     "name": "stdout",
     "output_type": "stream",
     "text": [
      "                            OLS Regression Results                            \n",
      "==============================================================================\n",
      "Dep. Variable:                Reviews   R-squared:                       0.051\n",
      "Model:                            OLS   Adj. R-squared:                  0.048\n",
      "Method:                 Least Squares   F-statistic:                     20.10\n",
      "Date:                Mon, 27 May 2019   Prob (F-statistic):           5.83e-64\n",
      "Time:                        18:24:54   Log-Likelihood:            -1.0324e+05\n",
      "No. Observations:                6777   AIC:                         2.065e+05\n",
      "Df Residuals:                    6758   BIC:                         2.067e+05\n",
      "Df Model:                          18                                         \n",
      "Covariance Type:            nonrobust                                         \n",
      "==============================================================================\n",
      "                 coef    std err          t      P>|t|      [0.025      0.975]\n",
      "------------------------------------------------------------------------------\n",
      "const       3.001e+04   3.58e+04      0.837      0.403   -4.03e+04       1e+05\n",
      "Word Count  8207.2762   1.32e+04      0.623      0.533   -1.76e+04     3.4e+04\n",
      "Char Count -1089.0504   2951.722     -0.369      0.712   -6875.356    4697.256\n",
      "a           5.125e+04   3.06e+04      1.674      0.094   -8760.222    1.11e+05\n",
      "e          -9.199e+04   3.31e+04     -2.780      0.005   -1.57e+05   -2.71e+04\n",
      "i          -7.235e+04   2.84e+04     -2.549      0.011   -1.28e+05   -1.67e+04\n",
      "t          -7.259e+04   2.73e+04     -2.660      0.008   -1.26e+05   -1.91e+04\n",
      "ag          1.417e+05   6.41e+04      2.211      0.027    1.61e+04    2.67e+05\n",
      "am         -8.479e+04   4.71e+04     -1.800      0.072   -1.77e+05    7557.382\n",
      "ar         -9.718e+04   3.67e+04     -2.645      0.008   -1.69e+05   -2.52e+04\n",
      "as          1.072e+05   4.93e+04      2.175      0.030    1.06e+04    2.04e+05\n",
      "er          6.821e+04   2.96e+04      2.301      0.021    1.01e+04    1.26e+05\n",
      "ir           9.95e+04   6.31e+04      1.578      0.115   -2.41e+04    2.23e+05\n",
      "iv          2.192e+05   6.89e+04      3.180      0.001    8.41e+04    3.54e+05\n",
      "ll          8.004e+04   4.81e+04      1.663      0.096   -1.43e+04    1.74e+05\n",
      "sh          4.149e+05    6.6e+04      6.283      0.000    2.85e+05    5.44e+05\n",
      "ve         -1.403e+05   5.84e+04     -2.404      0.016   -2.55e+05   -2.59e+04\n",
      "zx          1.112e-10   1.17e-10      0.955      0.340   -1.17e-10     3.4e-10\n",
      "Price       -139.1973    661.973     -0.210      0.833   -1436.873    1158.478\n",
      "Size           8.5384      0.541     15.768      0.000       7.477       9.600\n",
      "==============================================================================\n",
      "Omnibus:                    15392.436   Durbin-Watson:                   1.647\n",
      "Prob(Omnibus):                  0.000   Jarque-Bera (JB):        139966590.882\n",
      "Skew:                          21.476   Prob(JB):                         0.00\n",
      "Kurtosis:                     705.731   Cond. No.                     2.36e+21\n",
      "==============================================================================\n",
      "\n",
      "Warnings:\n",
      "[1] Standard Errors assume that the covariance matrix of the errors is correctly specified.\n",
      "[2] The smallest eigenvalue is 1.2e-30. This might indicate that there are\n",
      "strong multicollinearity problems or that the design matrix is singular.\n"
     ]
    }
   ],
   "source": [
    "model = sm.OLS(endog = df['Reviews'], exog = sm.add_constant(df[reg_list]))\n",
    "results = model.fit()\n",
    "print(results.summary())"
   ]
  },
  {
   "cell_type": "markdown",
   "metadata": {},
   "source": [
    "As we can see again from Warnings in OLS summary, there is still a problem with multicollinearity. We will now again build F-test for testing mutual insignificance of all remaining letter regressors whose p-values are greater than 0.05 to see whether we can delete them from the set of the regressors."
   ]
  },
  {
   "cell_type": "code",
   "execution_count": 249,
   "metadata": {},
   "outputs": [
    {
     "name": "stdout",
     "output_type": "stream",
     "text": [
      "<F test: F=array([[2.84324049]]), p=0.022753334212775374, df_denom=6758, df_num=4>\n"
     ]
    },
    {
     "name": "stderr",
     "output_type": "stream",
     "text": [
      "E:\\Python\\lib\\site-packages\\statsmodels\\base\\model.py:1532: ValueWarning: covariance of constraints does not have full rank. The number of constraints is 5, but rank is 4\n",
      "  'rank is %d' % (J, J_), ValueWarning)\n"
     ]
    }
   ],
   "source": [
    "hypothesis = '(a = 0),(am = 0), (ir = 0), (ll = 0), (zx = 0)'\n",
    "f_test = results.f_test(hypothesis)\n",
    "print(f_test)"
   ]
  },
  {
   "cell_type": "markdown",
   "metadata": {},
   "source": [
    "As we can see from the results of the F-test, low p-value (lower than 0.025) allows us to reject the null hypothesis that 'a','am,'ir','ll','zx' are mutually insignificant. Now we find such a subset from these variables that they will be mutually independent."
   ]
  },
  {
   "cell_type": "code",
   "execution_count": 252,
   "metadata": {},
   "outputs": [
    {
     "name": "stdout",
     "output_type": "stream",
     "text": [
      "<F test: F=array([[2.59691545]]), p=0.07457737972784234, df_denom=6758, df_num=2>\n"
     ]
    },
    {
     "name": "stderr",
     "output_type": "stream",
     "text": [
      "E:\\Python\\lib\\site-packages\\statsmodels\\base\\model.py:1532: ValueWarning: covariance of constraints does not have full rank. The number of constraints is 3, but rank is 2\n",
      "  'rank is %d' % (J, J_), ValueWarning)\n"
     ]
    }
   ],
   "source": [
    "hypothesis = '(ll = 0),(ir = 0), (zx = 0)'\n",
    "f_test = results.f_test(hypothesis)\n",
    "print(f_test)"
   ]
  },
  {
   "cell_type": "markdown",
   "metadata": {},
   "source": [
    "By the results of another F-test, we are allowed to drop 'll', 'ir','zx' from list of regressors."
   ]
  },
  {
   "cell_type": "code",
   "execution_count": 253,
   "metadata": {},
   "outputs": [],
   "source": [
    "reg_list.remove('ll')\n",
    "reg_list.remove('ir')\n",
    "reg_list.remove('zx')"
   ]
  },
  {
   "cell_type": "code",
   "execution_count": 254,
   "metadata": {},
   "outputs": [
    {
     "name": "stdout",
     "output_type": "stream",
     "text": [
      "                            OLS Regression Results                            \n",
      "==============================================================================\n",
      "Dep. Variable:                Reviews   R-squared:                       0.050\n",
      "Model:                            OLS   Adj. R-squared:                  0.048\n",
      "Method:                 Least Squares   F-statistic:                     22.28\n",
      "Date:                Mon, 27 May 2019   Prob (F-statistic):           3.11e-64\n",
      "Time:                        18:42:01   Log-Likelihood:            -1.0324e+05\n",
      "No. Observations:                6777   AIC:                         2.065e+05\n",
      "Df Residuals:                    6760   BIC:                         2.066e+05\n",
      "Df Model:                          16                                         \n",
      "Covariance Type:            nonrobust                                         \n",
      "==============================================================================\n",
      "                 coef    std err          t      P>|t|      [0.025      0.975]\n",
      "------------------------------------------------------------------------------\n",
      "const       2.863e+04   3.58e+04      0.799      0.424   -4.16e+04    9.89e+04\n",
      "Word Count  7648.3347   1.32e+04      0.581      0.561   -1.82e+04    3.35e+04\n",
      "Char Count  -694.8832   2945.671     -0.236      0.814   -6469.326    5079.559\n",
      "a           5.737e+04   3.05e+04      1.884      0.060   -2338.370    1.17e+05\n",
      "e          -8.981e+04   3.31e+04     -2.715      0.007   -1.55e+05    -2.5e+04\n",
      "i          -6.943e+04   2.81e+04     -2.469      0.014   -1.25e+05   -1.43e+04\n",
      "t          -7.401e+04   2.73e+04     -2.714      0.007   -1.27e+05   -2.06e+04\n",
      "ag          1.403e+05    6.4e+04      2.191      0.028    1.48e+04    2.66e+05\n",
      "am         -9.007e+04    4.7e+04     -1.915      0.056   -1.82e+05    2136.198\n",
      "ar         -1.017e+05   3.67e+04     -2.772      0.006   -1.74e+05   -2.98e+04\n",
      "as          1.026e+05   4.93e+04      2.083      0.037    6047.759    1.99e+05\n",
      "er          6.894e+04   2.96e+04      2.330      0.020    1.09e+04    1.27e+05\n",
      "iv          2.221e+05   6.89e+04      3.223      0.001     8.7e+04    3.57e+05\n",
      "sh           4.14e+05   6.61e+04      6.267      0.000    2.84e+05    5.43e+05\n",
      "ve         -1.404e+05   5.84e+04     -2.405      0.016   -2.55e+05    -2.6e+04\n",
      "Price       -158.0424    662.049     -0.239      0.811   -1455.866    1139.781\n",
      "Size           8.5331      0.541     15.771      0.000       7.472       9.594\n",
      "==============================================================================\n",
      "Omnibus:                    15385.476   Durbin-Watson:                   1.646\n",
      "Prob(Omnibus):                  0.000   Jarque-Bera (JB):        139459093.534\n",
      "Skew:                          21.453   Prob(JB):                         0.00\n",
      "Kurtosis:                     704.454   Cond. No.                     2.05e+05\n",
      "==============================================================================\n",
      "\n",
      "Warnings:\n",
      "[1] Standard Errors assume that the covariance matrix of the errors is correctly specified.\n",
      "[2] The condition number is large, 2.05e+05. This might indicate that there are\n",
      "strong multicollinearity or other numerical problems.\n"
     ]
    }
   ],
   "source": [
    "model = sm.OLS(endog = df['Reviews'], exog = sm.add_constant(df[reg_list]))\n",
    "results = model.fit()\n",
    "print(results.summary())"
   ]
  },
  {
   "cell_type": "markdown",
   "metadata": {},
   "source": [
    "As it can be seen fron Warnings of the regression, there is still a multicollinearity problem. We have made good efforts to avoid it, but it is still present. We will continue our analysis having in mind this problem."
   ]
  },
  {
   "cell_type": "markdown",
   "metadata": {},
   "source": [
    "Now let's test another OLS assumption, i.e. homoscedasticity of errors. To do so, we will buils a Breusch-Pagan test. The null hypothesis is that the variance of errors of regression is homoscedastic."
   ]
  },
  {
   "cell_type": "code",
   "execution_count": 257,
   "metadata": {},
   "outputs": [
    {
     "name": "stdout",
     "output_type": "stream",
     "text": [
      "(119.71856011324856, 6.221598855052344e-18, 7.597859892897666, 4.1921780770804325e-18)\n"
     ]
    }
   ],
   "source": [
    "import statsmodels\n",
    "br_pagan_results = statsmodels.stats.diagnostic.het_breuschpagan(results.resid,sm_non_formula.add_constant(df[reg_list]))\n",
    "print(br_pagan_results)"
   ]
  },
  {
   "cell_type": "markdown",
   "metadata": {},
   "source": [
    "The number we need to take into account is the second number from the list above. This is the p-value of Breusch-Pagan test that indicates that the null hypothesis of homoscedasticity in errors can be rejected(p_value is almost zero). Thus, we need to build another regression with standard errors robust to heteroscedasticity."
   ]
  },
  {
   "cell_type": "code",
   "execution_count": 258,
   "metadata": {},
   "outputs": [
    {
     "name": "stdout",
     "output_type": "stream",
     "text": [
      "                            OLS Regression Results                            \n",
      "==============================================================================\n",
      "Dep. Variable:                Reviews   R-squared:                       0.050\n",
      "Model:                            OLS   Adj. R-squared:                  0.048\n",
      "Method:                 Least Squares   F-statistic:                     5.424\n",
      "Date:                Mon, 27 May 2019   Prob (F-statistic):           1.18e-11\n",
      "Time:                        18:57:53   Log-Likelihood:            -1.0324e+05\n",
      "No. Observations:                6777   AIC:                         2.065e+05\n",
      "Df Residuals:                    6760   BIC:                         2.066e+05\n",
      "Df Model:                          16                                         \n",
      "Covariance Type:                  HC3                                         \n",
      "==============================================================================\n",
      "                 coef    std err          z      P>|z|      [0.025      0.975]\n",
      "------------------------------------------------------------------------------\n",
      "const       2.863e+04    2.7e+04      1.059      0.290   -2.44e+04    8.16e+04\n",
      "Word Count  7648.3347   9739.345      0.785      0.432   -1.14e+04    2.67e+04\n",
      "Char Count  -694.8832   2422.722     -0.287      0.774   -5443.332    4053.565\n",
      "a           5.737e+04   2.84e+04      2.024      0.043    1804.874    1.13e+05\n",
      "e          -8.981e+04   3.98e+04     -2.254      0.024   -1.68e+05   -1.17e+04\n",
      "i          -6.943e+04   3.18e+04     -2.186      0.029   -1.32e+05   -7190.478\n",
      "t          -7.401e+04   2.46e+04     -3.005      0.003   -1.22e+05   -2.57e+04\n",
      "ag          1.403e+05   1.04e+05      1.350      0.177   -6.33e+04    3.44e+05\n",
      "am         -9.007e+04   3.51e+04     -2.566      0.010   -1.59e+05   -2.13e+04\n",
      "ar         -1.017e+05   3.49e+04     -2.914      0.004    -1.7e+05   -3.33e+04\n",
      "as          1.026e+05   8.28e+04      1.240      0.215   -5.96e+04    2.65e+05\n",
      "er          6.894e+04    2.4e+04      2.873      0.004    2.19e+04    1.16e+05\n",
      "iv          2.221e+05   1.02e+05      2.171      0.030    2.16e+04    4.23e+05\n",
      "sh           4.14e+05   2.01e+05      2.061      0.039    2.03e+04    8.08e+05\n",
      "ve         -1.404e+05   5.94e+04     -2.363      0.018   -2.57e+05   -2.39e+04\n",
      "Price       -158.0424    131.942     -1.198      0.231    -416.644     100.559\n",
      "Size           8.5331      1.413      6.039      0.000       5.764      11.302\n",
      "==============================================================================\n",
      "Omnibus:                    15385.476   Durbin-Watson:                   1.646\n",
      "Prob(Omnibus):                  0.000   Jarque-Bera (JB):        139459093.534\n",
      "Skew:                          21.453   Prob(JB):                         0.00\n",
      "Kurtosis:                     704.454   Cond. No.                     2.05e+05\n",
      "==============================================================================\n",
      "\n",
      "Warnings:\n",
      "[1] Standard Errors are heteroscedasticity robust (HC3)\n",
      "[2] The condition number is large, 2.05e+05. This might indicate that there are\n",
      "strong multicollinearity or other numerical problems.\n"
     ]
    }
   ],
   "source": [
    "model = sm.OLS(endog = df['Reviews'], exog = sm.add_constant(df[reg_list]))\n",
    "results = model.fit(cov_type = 'HC3', use_t = None)\n",
    "print(results.summary())"
   ]
  },
  {
   "cell_type": "markdown",
   "metadata": {},
   "source": [
    "Regression above is the final version of regressio; unfortunately we were unable to avoid multicollinearity problem, but still our results are valid.\n",
    "Here we discuss partially our main findings:\n",
    "(we assume significance level to be 0.05)\n",
    "\n",
    "1) variables that are not connected with title(i.e. Size and Price): Size appears to be significant explanator of apps success measured as total number of reviews for the app, whereas Price is not significant.\n",
    "\n",
    "2) length of title(either Char count or Word count) appears to be completely insignificant in explaining apps success(both Word count and Char count have extremely large p-values)\n",
    "\n",
    "3) concerning specific letters/combinations of letter:     \n",
    "   The following variables are insignificant: 'as', 'ag';\n",
    "   The following variables tend to be present in less successful apps(their coefficients are negative): 've', 'ar', 'am', 't',\n",
    "   'i', 'e';\n",
    "   The following variables tend to be present in more successful apps(their coefficients are positive): 'sh', 'iv', 'er', 'a';"
   ]
  },
  {
   "cell_type": "markdown",
   "metadata": {},
   "source": [
    "# Ethics & Privacy"
   ]
  },
  {
   "cell_type": "markdown",
   "metadata": {},
   "source": [
    "# Conclusion & Discussion"
   ]
  },
  {
   "cell_type": "code",
   "execution_count": 50,
   "metadata": {},
   "outputs": [
    {
     "data": {
      "text/plain": [
       "<matplotlib.axes._subplots.AxesSubplot at 0x1a1dedb0f0>"
      ]
     },
     "execution_count": 50,
     "metadata": {},
     "output_type": "execute_result"
    },
    {
     "data": {
      "image/png": "[encoded data removed]",
      "text/plain": [
       "<Figure size 432x288 with 1 Axes>"
      ]
     },
     "metadata": {},
     "output_type": "display_data"
    }
   ],
   "source": [
    "# Make a bar plot where each bar shows the number of app titles each letter appears in\n",
    "\n",
    "num= []\n",
    "letter = []\n",
    "for index in range(5,29):\n",
    "    pos = (df.iloc[: , index] == 1).sum()\n",
    "    columnSeriesObj = df.iloc[: , index]\n",
    "    num.append(pos)\n",
    "    letter.append(df.iloc[: , index].name)\n",
    "sns.barplot(letter,num)"
   ]
  }
 ],
 "metadata": {
  "kernelspec": {
   "display_name": "Python 3",
   "language": "python",
   "name": "python3"
  },
  "language_info": {
   "codemirror_mode": {
    "name": "ipython",
    "version": 3
   },
   "file_extension": ".py",
   "mimetype": "text/x-python",
   "name": "python",
   "nbconvert_exporter": "python",
   "pygments_lexer": "ipython3",
   "version": "3.7.0"
  }
 },
 "nbformat": 4,
 "nbformat_minor": 2
}
