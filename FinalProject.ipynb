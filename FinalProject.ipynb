{
 "cells": [
  {
   "cell_type": "markdown",
   "metadata": {},
   "source": [
    "# COGS 108 - Final Project "
   ]
  },
  {
   "cell_type": "markdown",
   "metadata": {},
   "source": [
    "# Overview"
   ]
  },
  {
   "cell_type": "markdown",
   "metadata": {},
   "source": [
    "Nowadays, due to the huge variety of moblie applications, the competition inside the market is extremely high. Every application that wants to be successful has to utilize all available data in order to improve its quality and to avoid possible decisions that could detriment its success. Thus, correct analysis of different phenomena related to applications and discovery of any hidden patterns inside relevant data are essential in helping applications achieve these goals.\n",
    "\n",
    "Our team came up with the idea that an application's name could be an influential indicator of its success, and we hope to explore upon this idea in our project."
   ]
  },
  {
   "cell_type": "markdown",
   "metadata": {},
   "source": [
    "## Names\n",
    "\n",
    "- Aliaksandr Samushchyk\n",
    "- Jiayi Zhang\n",
    "- Soumya Agrawal\n",
    "- Richard Duong\n",
    "- Titan Ngo\n",
    "- Yaman El-Jandali\n",
    "\n",
    "## Group Members IDs\n",
    "\n",
    "- A15672156\n",
    "- A14533542\n",
    "- A14402679\n",
    "- A15196673\n",
    "- A15525832\n",
    "- A15753076"
   ]
  },
  {
   "cell_type": "markdown",
   "metadata": {},
   "source": [
    "# Research Question"
   ]
  },
  {
   "cell_type": "markdown",
   "metadata": {},
   "source": [
    "__1) Is the length of an app’s name significant in explaining its success?__\n",
    "\n",
    "__2) Are there any letters/combinations of letters that tend to be present in successful applications?__"
   ]
  },
  {
   "cell_type": "markdown",
   "metadata": {},
   "source": [
    "# Background and Prior Work"
   ]
  },
  {
   "cell_type": "markdown",
   "metadata": {},
   "source": [
    "The dataset that we found presents a lot of interesting insights about user\n",
    "preferences, and we want to explore the effects of certain user preferences on app\n",
    "rating and popularity.\n",
    "There is not a lot of background knowledge that we know about user preferences\n",
    "affecting app popularity other than the obvious correlations between app\n",
    "rating/popularity, so we would like to use the data to try and find more subtle biases\n",
    "that might affect it such as title/title length, etc.\n",
    "\n",
    "References:\n",
    "- 1)\n",
    "“A Statistical Analysis of the Apple App Store” by Colin Eberhardt\n",
    "Did a statistical analysis of prices of apps in the Apple App store. Did not do much\n",
    "other than basic statistical analysis, such as looking at the genre distribution of apps\n",
    "and the price differences across genres. Found a positive correlation between price\n",
    "and app rating.\n",
    "Source: https://blog.scottlogic.com/2014/03/20/app-store-analysis.html\n",
    "- 2)\n",
    "Did a statistical analysis of various factors that contribute to the success of an app in\n",
    "the Google Play Store. Found that most free apps are monetized by advertisements.\n",
    "Learned that ~80% of apps on the playstore have been downloaded less than 50k\n",
    "times. Found that a small amount of users who install actually take the time to write\n",
    "a review.\n",
    "Source:\n",
    "https://nycdatascience.com/blog/student-works/web-scraping/analysis-of-apps-in-the-google-play-store/\n",
    "\n",
    "The scope of our project is a bit beyond the analysis that these projects present, but\n",
    "in a similar vein. While these projects analyzed the more basic factors that weigh in\n",
    "the success of an app, we will be focusing more on subtle user preferences that are\n",
    "not as obvious to correlate to success."
   ]
  },
  {
   "cell_type": "markdown",
   "metadata": {},
   "source": [
    "# Hypothesis"
   ]
  },
  {
   "cell_type": "markdown",
   "metadata": {},
   "source": [
    "We will measure the success of an application using a few metrics such as the number of installations, the rating of an application, and the number of reviews for the app combined with sentiment analysis of the content of these reviews. We expect that thetitle has an influence on the\n",
    "applications’ success. In particular, we expect the length of\n",
    "titles to be a significant explanatory variable; from our point of view, the more time you spend to read the names of anything the less interest you keep. \n",
    "\n",
    "__TODO: add hypothesis about letters__"
   ]
  },
  {
   "cell_type": "markdown",
   "metadata": {},
   "source": [
    "# Dataset"
   ]
  },
  {
   "cell_type": "markdown",
   "metadata": {},
   "source": [
    "- Dataset Name: Google Play Store Apps\n",
    "- Link to the dataset: https://www.kaggle.com/lava18/google-play-store-apps?fbclid=IwAR0I6EIgxdnc3LWhwVVg85gZ9RokprTW6xDo47EQxwDu5Qkce24ZC2MbIBs#googleplaystore_user_reviews.csv\n",
    "- Number of observations: 64.3k\n",
    "\n",
    "__TODO - take out sentiment, also talk about combos of letters__\n",
    "\n",
    "This dataset provides up with a zipped folder containing two files. The first file has around 64.3k observations, with 5 variables. These include the app name, translated review, sentiment, sentiment polarity, and sentiment subject. Most of these variables have been preprocessed already, such as the translated review and sentiment. Many observations in this file (or the reviews), are for the same app. As for the second file, there are around 10.8k observations with 13 variables. The variables include app name, category of the app, the overall user rating, number of reviews, size of the app, number of installs, whether the app is paid or free, the price of the app, the content rating, the genres, when the data was last updated, the current version of the app available on the app store, and the minimum required Android version for the app. With these different features of the app, we will be able to ask our main question, which centers around the popularity of an app, and what makes it popular. Using the sentiment analysis on the reviews and analysis on the title (popular keywords in titles, length of the titles), we can determine factors other than the rating or number of installs to determine an app's popularity."
   ]
  },
  {
   "cell_type": "markdown",
   "metadata": {},
   "source": [
    "# Setup"
   ]
  },
  {
   "cell_type": "code",
   "execution_count": 1,
   "metadata": {},
   "outputs": [],
   "source": [
    "#importing libraries \n",
    "import numpy as np\n",
    "import pandas as pd\n",
    "import matplotlib.pyplot as plt\n",
    "import seaborn as sns\\\n",
    "\n",
    "# Display plots directly in the notebook instead of in a new window\n",
    "%matplotlib inline"
   ]
  },
  {
   "cell_type": "code",
   "execution_count": 2,
   "metadata": {},
   "outputs": [],
   "source": [
    "# We decided to configure out settings exactly like we did for A2\n",
    "\n",
    "# Configure libraries\n",
    "# The seaborn library makes plots look nicer\n",
    "sns.set()\n",
    "sns.set_context('talk')\n",
    "\n",
    "# Don't display too many rows/cols of DataFrames\n",
    "pd.options.display.max_rows = 7\n",
    "pd.options.display.max_columns = 8\n",
    "\n",
    "# Round decimals when displaying DataFrames\n",
    "pd.set_option('precision', 2)"
   ]
  },
  {
   "cell_type": "markdown",
   "metadata": {},
   "source": [
    "# Data Wrangling"
   ]
  },
  {
   "cell_type": "markdown",
   "metadata": {},
   "source": [
    "We have two main files in our data set: googleplaystore.csv and googleplaystore_user_reviews.csv.\n",
    "\n",
    "For an analysis of app names, we can focus on just the first data set. The second data set gives us reviews of each app, which is not needed for this project."
   ]
  },
  {
   "cell_type": "code",
   "execution_count": 3,
   "metadata": {},
   "outputs": [],
   "source": [
    "df = pd.read_csv(\"google_play_dataset/googleplaystore.csv\")"
   ]
  },
  {
   "cell_type": "code",
   "execution_count": 4,
   "metadata": {},
   "outputs": [
    {
     "data": {
      "text/html": [
       "<div>\n",
       "<style scoped>\n",
       "    .dataframe tbody tr th:only-of-type {\n",
       "        vertical-align: middle;\n",
       "    }\n",
       "\n",
       "    .dataframe tbody tr th {\n",
       "        vertical-align: top;\n",
       "    }\n",
       "\n",
       "    .dataframe thead th {\n",
       "        text-align: right;\n",
       "    }\n",
       "</style>\n",
       "<table border=\"1\" class=\"dataframe\">\n",
       "  <thead>\n",
       "    <tr style=\"text-align: right;\">\n",
       "      <th></th>\n",
       "      <th>App</th>\n",
       "      <th>Category</th>\n",
       "      <th>Rating</th>\n",
       "      <th>Reviews</th>\n",
       "      <th>...</th>\n",
       "      <th>Genres</th>\n",
       "      <th>Last Updated</th>\n",
       "      <th>Current Ver</th>\n",
       "      <th>Android Ver</th>\n",
       "    </tr>\n",
       "  </thead>\n",
       "  <tbody>\n",
       "    <tr>\n",
       "      <th>0</th>\n",
       "      <td>Photo Editor &amp; Candy Camera &amp; Grid &amp; ScrapBook</td>\n",
       "      <td>ART_AND_DESIGN</td>\n",
       "      <td>4.1</td>\n",
       "      <td>159</td>\n",
       "      <td>...</td>\n",
       "      <td>Art &amp; Design</td>\n",
       "      <td>January 7, 2018</td>\n",
       "      <td>1.0.0</td>\n",
       "      <td>4.0.3 and up</td>\n",
       "    </tr>\n",
       "    <tr>\n",
       "      <th>1</th>\n",
       "      <td>Coloring book moana</td>\n",
       "      <td>ART_AND_DESIGN</td>\n",
       "      <td>3.9</td>\n",
       "      <td>967</td>\n",
       "      <td>...</td>\n",
       "      <td>Art &amp; Design;Pretend Play</td>\n",
       "      <td>January 15, 2018</td>\n",
       "      <td>2.0.0</td>\n",
       "      <td>4.0.3 and up</td>\n",
       "    </tr>\n",
       "    <tr>\n",
       "      <th>2</th>\n",
       "      <td>U Launcher Lite – FREE Live Cool Themes, Hide ...</td>\n",
       "      <td>ART_AND_DESIGN</td>\n",
       "      <td>4.7</td>\n",
       "      <td>87510</td>\n",
       "      <td>...</td>\n",
       "      <td>Art &amp; Design</td>\n",
       "      <td>August 1, 2018</td>\n",
       "      <td>1.2.4</td>\n",
       "      <td>4.0.3 and up</td>\n",
       "    </tr>\n",
       "    <tr>\n",
       "      <th>...</th>\n",
       "      <td>...</td>\n",
       "      <td>...</td>\n",
       "      <td>...</td>\n",
       "      <td>...</td>\n",
       "      <td>...</td>\n",
       "      <td>...</td>\n",
       "      <td>...</td>\n",
       "      <td>...</td>\n",
       "      <td>...</td>\n",
       "    </tr>\n",
       "    <tr>\n",
       "      <th>10838</th>\n",
       "      <td>Parkinson Exercices FR</td>\n",
       "      <td>MEDICAL</td>\n",
       "      <td>NaN</td>\n",
       "      <td>3</td>\n",
       "      <td>...</td>\n",
       "      <td>Medical</td>\n",
       "      <td>January 20, 2017</td>\n",
       "      <td>1.0</td>\n",
       "      <td>2.2 and up</td>\n",
       "    </tr>\n",
       "    <tr>\n",
       "      <th>10839</th>\n",
       "      <td>The SCP Foundation DB fr nn5n</td>\n",
       "      <td>BOOKS_AND_REFERENCE</td>\n",
       "      <td>4.5</td>\n",
       "      <td>114</td>\n",
       "      <td>...</td>\n",
       "      <td>Books &amp; Reference</td>\n",
       "      <td>January 19, 2015</td>\n",
       "      <td>Varies with device</td>\n",
       "      <td>Varies with device</td>\n",
       "    </tr>\n",
       "    <tr>\n",
       "      <th>10840</th>\n",
       "      <td>iHoroscope - 2018 Daily Horoscope &amp; Astrology</td>\n",
       "      <td>LIFESTYLE</td>\n",
       "      <td>4.5</td>\n",
       "      <td>398307</td>\n",
       "      <td>...</td>\n",
       "      <td>Lifestyle</td>\n",
       "      <td>July 25, 2018</td>\n",
       "      <td>Varies with device</td>\n",
       "      <td>Varies with device</td>\n",
       "    </tr>\n",
       "  </tbody>\n",
       "</table>\n",
       "<p>10841 rows × 13 columns</p>\n",
       "</div>"
      ],
      "text/plain": [
       "                                                     App             Category  \\\n",
       "0         Photo Editor & Candy Camera & Grid & ScrapBook       ART_AND_DESIGN   \n",
       "1                                    Coloring book moana       ART_AND_DESIGN   \n",
       "2      U Launcher Lite – FREE Live Cool Themes, Hide ...       ART_AND_DESIGN   \n",
       "...                                                  ...                  ...   \n",
       "10838                             Parkinson Exercices FR              MEDICAL   \n",
       "10839                      The SCP Foundation DB fr nn5n  BOOKS_AND_REFERENCE   \n",
       "10840      iHoroscope - 2018 Daily Horoscope & Astrology            LIFESTYLE   \n",
       "\n",
       "       Rating Reviews         ...                             Genres  \\\n",
       "0         4.1     159         ...                       Art & Design   \n",
       "1         3.9     967         ...          Art & Design;Pretend Play   \n",
       "2         4.7   87510         ...                       Art & Design   \n",
       "...       ...     ...         ...                                ...   \n",
       "10838     NaN       3         ...                            Medical   \n",
       "10839     4.5     114         ...                  Books & Reference   \n",
       "10840     4.5  398307         ...                          Lifestyle   \n",
       "\n",
       "           Last Updated         Current Ver         Android Ver  \n",
       "0       January 7, 2018               1.0.0        4.0.3 and up  \n",
       "1      January 15, 2018               2.0.0        4.0.3 and up  \n",
       "2        August 1, 2018               1.2.4        4.0.3 and up  \n",
       "...                 ...                 ...                 ...  \n",
       "10838  January 20, 2017                 1.0          2.2 and up  \n",
       "10839  January 19, 2015  Varies with device  Varies with device  \n",
       "10840     July 25, 2018  Varies with device  Varies with device  \n",
       "\n",
       "[10841 rows x 13 columns]"
      ]
     },
     "execution_count": 4,
     "metadata": {},
     "output_type": "execute_result"
    }
   ],
   "source": [
    "# Preview dataset and get a grasp on its size\n",
    "df"
   ]
  },
  {
   "cell_type": "code",
   "execution_count": 5,
   "metadata": {},
   "outputs": [
    {
     "name": "stdout",
     "output_type": "stream",
     "text": [
      "['App', 'Category', 'Rating', 'Reviews', 'Size', 'Installs', 'Type', 'Price', 'Content Rating', 'Genres', 'Last Updated', 'Current Ver', 'Android Ver']\n"
     ]
    }
   ],
   "source": [
    "# Show the headers of the different columns\n",
    "print(list(df.columns.values))"
   ]
  },
  {
   "cell_type": "code",
   "execution_count": 6,
   "metadata": {},
   "outputs": [],
   "source": [
    "# Remove any duplicate applications\n",
    "# We only want to account for each app once \n",
    "df.drop_duplicates(['App'], inplace = True)"
   ]
  },
  {
   "cell_type": "code",
   "execution_count": 7,
   "metadata": {},
   "outputs": [],
   "source": [
    "# We decided that we only need the app names, ratings, and number of installations. \n",
    "df = df[['App', 'Rating', 'Installs']]"
   ]
  },
  {
   "cell_type": "markdown",
   "metadata": {},
   "source": [
    "After previewing our dataset, we realized that it has a lot of data we do not need.\n",
    "\n",
    "The __'Size'__ of apps, the __'Type'__ (either free or paid), __'Price'__, __'Content Rating'__ (as in the rating for the suggested age group), the date of when they were __'Last Updated'__, the __'Genres'__ and __'Category'__, and the versions (__'Current Ver'__ and __'Android Ver'__) have little to do with our analysis of specific characterisitcs of the length of title strings, so those columns were dropped.\n",
    "\n",
    "Our project seeks to see any relationship between characteristics of apps' titles with their success. However, we do not have any direct measure of this ___\"Success\"___. We decided to keep the __'Rating'__ and __'Installs'__ columns to determine ___\"Success\"___, but we still want to look at the distributions/correlations of these variables before committing to a specific method of calculation."
   ]
  },
  {
   "cell_type": "code",
   "execution_count": 8,
   "metadata": {},
   "outputs": [
    {
     "name": "stdout",
     "output_type": "stream",
     "text": [
      "app_nans: 0 \n",
      "rating_nans: 1463 \n",
      "installs_nans: 0\n"
     ]
    }
   ],
   "source": [
    "# Count amount of missing values in the dataset \n",
    "app_nans = df['App'].isna().sum()\n",
    "rating_nans = df['Rating'].isna().sum()\n",
    "installs_nans = df['Installs'].isna().sum()\n",
    "print(\"app_nans:\", app_nans,\"\\nrating_nans:\", rating_nans,\"\\ninstalls_nans:\", installs_nans)"
   ]
  },
  {
   "cell_type": "markdown",
   "metadata": {},
   "source": [
    "There seems to be a considerable amount of observations with missing values. However, the only column in our current dataset that has missing values is __'Ratings'__. Since we absolutely need ratings values for every observation that we have, we will drop all of the observations without them."
   ]
  },
  {
   "cell_type": "code",
   "execution_count": 9,
   "metadata": {},
   "outputs": [
    {
     "data": {
      "text/html": [
       "<div>\n",
       "<style scoped>\n",
       "    .dataframe tbody tr th:only-of-type {\n",
       "        vertical-align: middle;\n",
       "    }\n",
       "\n",
       "    .dataframe tbody tr th {\n",
       "        vertical-align: top;\n",
       "    }\n",
       "\n",
       "    .dataframe thead th {\n",
       "        text-align: right;\n",
       "    }\n",
       "</style>\n",
       "<table border=\"1\" class=\"dataframe\">\n",
       "  <thead>\n",
       "    <tr style=\"text-align: right;\">\n",
       "      <th></th>\n",
       "      <th>App</th>\n",
       "      <th>Rating</th>\n",
       "      <th>Installs</th>\n",
       "    </tr>\n",
       "  </thead>\n",
       "  <tbody>\n",
       "    <tr>\n",
       "      <th>0</th>\n",
       "      <td>Photo Editor &amp; Candy Camera &amp; Grid &amp; ScrapBook</td>\n",
       "      <td>4.1</td>\n",
       "      <td>10,000+</td>\n",
       "    </tr>\n",
       "    <tr>\n",
       "      <th>1</th>\n",
       "      <td>Coloring book moana</td>\n",
       "      <td>3.9</td>\n",
       "      <td>500,000+</td>\n",
       "    </tr>\n",
       "    <tr>\n",
       "      <th>2</th>\n",
       "      <td>U Launcher Lite – FREE Live Cool Themes, Hide ...</td>\n",
       "      <td>4.7</td>\n",
       "      <td>5,000,000+</td>\n",
       "    </tr>\n",
       "    <tr>\n",
       "      <th>...</th>\n",
       "      <td>...</td>\n",
       "      <td>...</td>\n",
       "      <td>...</td>\n",
       "    </tr>\n",
       "    <tr>\n",
       "      <th>10837</th>\n",
       "      <td>Fr. Mike Schmitz Audio Teachings</td>\n",
       "      <td>5.0</td>\n",
       "      <td>100+</td>\n",
       "    </tr>\n",
       "    <tr>\n",
       "      <th>10839</th>\n",
       "      <td>The SCP Foundation DB fr nn5n</td>\n",
       "      <td>4.5</td>\n",
       "      <td>1,000+</td>\n",
       "    </tr>\n",
       "    <tr>\n",
       "      <th>10840</th>\n",
       "      <td>iHoroscope - 2018 Daily Horoscope &amp; Astrology</td>\n",
       "      <td>4.5</td>\n",
       "      <td>10,000,000+</td>\n",
       "    </tr>\n",
       "  </tbody>\n",
       "</table>\n",
       "<p>8197 rows × 3 columns</p>\n",
       "</div>"
      ],
      "text/plain": [
       "                                                     App  Rating     Installs\n",
       "0         Photo Editor & Candy Camera & Grid & ScrapBook     4.1      10,000+\n",
       "1                                    Coloring book moana     3.9     500,000+\n",
       "2      U Launcher Lite – FREE Live Cool Themes, Hide ...     4.7   5,000,000+\n",
       "...                                                  ...     ...          ...\n",
       "10837                   Fr. Mike Schmitz Audio Teachings     5.0         100+\n",
       "10839                      The SCP Foundation DB fr nn5n     4.5       1,000+\n",
       "10840      iHoroscope - 2018 Daily Horoscope & Astrology     4.5  10,000,000+\n",
       "\n",
       "[8197 rows x 3 columns]"
      ]
     },
     "execution_count": 9,
     "metadata": {},
     "output_type": "execute_result"
    }
   ],
   "source": [
    "# Drops observations missing 'Ratings' data\n",
    "df = df.dropna()\n",
    "\n",
    "# Preview the dataframe\n",
    "df"
   ]
  },
  {
   "cell_type": "markdown",
   "metadata": {},
   "source": [
    "# Data Pre-Processing & Exploratory Data Analysis"
   ]
  },
  {
   "cell_type": "markdown",
   "metadata": {},
   "source": [
    "It turns out that the 'Installs' column is a column of strings instead of numbers. We want to convert these strings into numeric values so that we can plot them."
   ]
  },
  {
   "cell_type": "code",
   "execution_count": 10,
   "metadata": {},
   "outputs": [
    {
     "data": {
      "text/html": [
       "<div>\n",
       "<style scoped>\n",
       "    .dataframe tbody tr th:only-of-type {\n",
       "        vertical-align: middle;\n",
       "    }\n",
       "\n",
       "    .dataframe tbody tr th {\n",
       "        vertical-align: top;\n",
       "    }\n",
       "\n",
       "    .dataframe thead th {\n",
       "        text-align: right;\n",
       "    }\n",
       "</style>\n",
       "<table border=\"1\" class=\"dataframe\">\n",
       "  <thead>\n",
       "    <tr style=\"text-align: right;\">\n",
       "      <th></th>\n",
       "      <th>App</th>\n",
       "      <th>Rating</th>\n",
       "      <th>Installs</th>\n",
       "    </tr>\n",
       "  </thead>\n",
       "  <tbody>\n",
       "    <tr>\n",
       "      <th>0</th>\n",
       "      <td>Photo Editor &amp; Candy Camera &amp; Grid &amp; ScrapBook</td>\n",
       "      <td>4.1</td>\n",
       "      <td>1.00e+04</td>\n",
       "    </tr>\n",
       "    <tr>\n",
       "      <th>1</th>\n",
       "      <td>Coloring book moana</td>\n",
       "      <td>3.9</td>\n",
       "      <td>5.00e+05</td>\n",
       "    </tr>\n",
       "    <tr>\n",
       "      <th>2</th>\n",
       "      <td>U Launcher Lite – FREE Live Cool Themes, Hide ...</td>\n",
       "      <td>4.7</td>\n",
       "      <td>5.00e+06</td>\n",
       "    </tr>\n",
       "    <tr>\n",
       "      <th>...</th>\n",
       "      <td>...</td>\n",
       "      <td>...</td>\n",
       "      <td>...</td>\n",
       "    </tr>\n",
       "    <tr>\n",
       "      <th>10837</th>\n",
       "      <td>Fr. Mike Schmitz Audio Teachings</td>\n",
       "      <td>5.0</td>\n",
       "      <td>1.00e+02</td>\n",
       "    </tr>\n",
       "    <tr>\n",
       "      <th>10839</th>\n",
       "      <td>The SCP Foundation DB fr nn5n</td>\n",
       "      <td>4.5</td>\n",
       "      <td>1.00e+03</td>\n",
       "    </tr>\n",
       "    <tr>\n",
       "      <th>10840</th>\n",
       "      <td>iHoroscope - 2018 Daily Horoscope &amp; Astrology</td>\n",
       "      <td>4.5</td>\n",
       "      <td>1.00e+07</td>\n",
       "    </tr>\n",
       "  </tbody>\n",
       "</table>\n",
       "<p>8197 rows × 3 columns</p>\n",
       "</div>"
      ],
      "text/plain": [
       "                                                     App  Rating  Installs\n",
       "0         Photo Editor & Candy Camera & Grid & ScrapBook     4.1  1.00e+04\n",
       "1                                    Coloring book moana     3.9  5.00e+05\n",
       "2      U Launcher Lite – FREE Live Cool Themes, Hide ...     4.7  5.00e+06\n",
       "...                                                  ...     ...       ...\n",
       "10837                   Fr. Mike Schmitz Audio Teachings     5.0  1.00e+02\n",
       "10839                      The SCP Foundation DB fr nn5n     4.5  1.00e+03\n",
       "10840      iHoroscope - 2018 Daily Horoscope & Astrology     4.5  1.00e+07\n",
       "\n",
       "[8197 rows x 3 columns]"
      ]
     },
     "execution_count": 10,
     "metadata": {},
     "output_type": "execute_result"
    }
   ],
   "source": [
    "# Delete the '+' chars that are in these strings in 'Installs'\n",
    "df['Installs'] = df['Installs'].str.replace('+', '')\n",
    "# Delete the ',' chars that are in these strings in 'Installs'\n",
    "df['Installs'] = df['Installs'].str.replace(',', '')\n",
    "\n",
    "# Type cast these strings into integers\n",
    "\n",
    "df['Installs'] = pd.to_numeric(df['Installs'], errors='coerce')\n",
    "\n",
    "#TODO : Remove NaN produced here, explain why coerce is a valid method of removing values\n",
    "\n",
    "# Preview the dataframe\n",
    "# Values in 'Installs' should be numeric\n",
    "df"
   ]
  },
  {
   "cell_type": "markdown",
   "metadata": {},
   "source": [
    "Since we need some measures of title length, we will create two columns: __'Word Count'__ (counts the number of words in the title) and __'Char Count'__ (counts the number of characters in the title)."
   ]
  },
  {
   "cell_type": "code",
   "execution_count": 11,
   "metadata": {},
   "outputs": [],
   "source": [
    "# Create the word count column \n",
    "df['Word Count'] = df['App'].str.split().str.len()"
   ]
  },
  {
   "cell_type": "code",
   "execution_count": 12,
   "metadata": {},
   "outputs": [],
   "source": [
    "# Create the char count column \n",
    "df['Char Count'] = df['App'].str.len() - df['App'].str.count(' ')"
   ]
  },
  {
   "cell_type": "code",
   "execution_count": 13,
   "metadata": {},
   "outputs": [
    {
     "data": {
      "text/html": [
       "<div>\n",
       "<style scoped>\n",
       "    .dataframe tbody tr th:only-of-type {\n",
       "        vertical-align: middle;\n",
       "    }\n",
       "\n",
       "    .dataframe tbody tr th {\n",
       "        vertical-align: top;\n",
       "    }\n",
       "\n",
       "    .dataframe thead th {\n",
       "        text-align: right;\n",
       "    }\n",
       "</style>\n",
       "<table border=\"1\" class=\"dataframe\">\n",
       "  <thead>\n",
       "    <tr style=\"text-align: right;\">\n",
       "      <th></th>\n",
       "      <th>App</th>\n",
       "      <th>Rating</th>\n",
       "      <th>Installs</th>\n",
       "      <th>Word Count</th>\n",
       "      <th>Char Count</th>\n",
       "    </tr>\n",
       "  </thead>\n",
       "  <tbody>\n",
       "    <tr>\n",
       "      <th>0</th>\n",
       "      <td>Photo Editor &amp; Candy Camera &amp; Grid &amp; ScrapBook</td>\n",
       "      <td>4.1</td>\n",
       "      <td>1.00e+04</td>\n",
       "      <td>9</td>\n",
       "      <td>38</td>\n",
       "    </tr>\n",
       "    <tr>\n",
       "      <th>1</th>\n",
       "      <td>Coloring book moana</td>\n",
       "      <td>3.9</td>\n",
       "      <td>5.00e+05</td>\n",
       "      <td>3</td>\n",
       "      <td>17</td>\n",
       "    </tr>\n",
       "    <tr>\n",
       "      <th>2</th>\n",
       "      <td>U Launcher Lite – FREE Live Cool Themes, Hide ...</td>\n",
       "      <td>4.7</td>\n",
       "      <td>5.00e+06</td>\n",
       "      <td>10</td>\n",
       "      <td>41</td>\n",
       "    </tr>\n",
       "    <tr>\n",
       "      <th>...</th>\n",
       "      <td>...</td>\n",
       "      <td>...</td>\n",
       "      <td>...</td>\n",
       "      <td>...</td>\n",
       "      <td>...</td>\n",
       "    </tr>\n",
       "    <tr>\n",
       "      <th>10837</th>\n",
       "      <td>Fr. Mike Schmitz Audio Teachings</td>\n",
       "      <td>5.0</td>\n",
       "      <td>1.00e+02</td>\n",
       "      <td>5</td>\n",
       "      <td>28</td>\n",
       "    </tr>\n",
       "    <tr>\n",
       "      <th>10839</th>\n",
       "      <td>The SCP Foundation DB fr nn5n</td>\n",
       "      <td>4.5</td>\n",
       "      <td>1.00e+03</td>\n",
       "      <td>6</td>\n",
       "      <td>24</td>\n",
       "    </tr>\n",
       "    <tr>\n",
       "      <th>10840</th>\n",
       "      <td>iHoroscope - 2018 Daily Horoscope &amp; Astrology</td>\n",
       "      <td>4.5</td>\n",
       "      <td>1.00e+07</td>\n",
       "      <td>7</td>\n",
       "      <td>39</td>\n",
       "    </tr>\n",
       "  </tbody>\n",
       "</table>\n",
       "<p>8197 rows × 5 columns</p>\n",
       "</div>"
      ],
      "text/plain": [
       "                                                     App  Rating  Installs  \\\n",
       "0         Photo Editor & Candy Camera & Grid & ScrapBook     4.1  1.00e+04   \n",
       "1                                    Coloring book moana     3.9  5.00e+05   \n",
       "2      U Launcher Lite – FREE Live Cool Themes, Hide ...     4.7  5.00e+06   \n",
       "...                                                  ...     ...       ...   \n",
       "10837                   Fr. Mike Schmitz Audio Teachings     5.0  1.00e+02   \n",
       "10839                      The SCP Foundation DB fr nn5n     4.5  1.00e+03   \n",
       "10840      iHoroscope - 2018 Daily Horoscope & Astrology     4.5  1.00e+07   \n",
       "\n",
       "       Word Count  Char Count  \n",
       "0               9          38  \n",
       "1               3          17  \n",
       "2              10          41  \n",
       "...           ...         ...  \n",
       "10837           5          28  \n",
       "10839           6          24  \n",
       "10840           7          39  \n",
       "\n",
       "[8197 rows x 5 columns]"
      ]
     },
     "execution_count": 13,
     "metadata": {},
     "output_type": "execute_result"
    }
   ],
   "source": [
    "# Preview table again to check for these columns\n",
    "df"
   ]
  },
  {
   "cell_type": "markdown",
   "metadata": {},
   "source": [
    "We also want to add columns regarding the frequency of certain letters and letter pairs.\n",
    "\n",
    "The code below creates many columns with binary variables depending on the presence of letters and letter pairs. For example, values in column 'a' are equal to 1 if 'a' is contained in apps name and 0 otherwise, and values in column 'wq' are equal to 1 if 'wq' is contained in apps name and 0 otherwise.\n",
    "\n",
    "Then, we count how many ones are in each of the created columns to assess if the column is useful. If there are not a lot of ones in a column (less than 0.025 * (# of rows) for example) or too many (more than 0.975 * (# of rows) for example), we remove such columns. This is done because, for example, there are not a lot of titles with 'wq' inside them so 'wq' column is not useful for our analysis"
   ]
  },
  {
   "cell_type": "code",
   "execution_count": 14,
   "metadata": {},
   "outputs": [],
   "source": [
    "import string\n",
    "alphabet = list(string.ascii_lowercase)\n",
    "\n",
    "for k in alphabet:\n",
    "    q1 = []\n",
    "    for i in df['App']:\n",
    "        if k in i:\n",
    "            q1.append(1)\n",
    "        else:\n",
    "            q1.append(0)\n",
    "    df[k] = q1\n",
    "\n",
    "alphabet1 = []\n",
    "for i in alphabet:\n",
    "    for k in alphabet:\n",
    "        alphabet1.append(i + k)\n",
    "        \n",
    "for k in alphabet1:\n",
    "    q2 = []\n",
    "    for i in df['App']:\n",
    "        if k in i:\n",
    "            q2.append(1)\n",
    "        else:\n",
    "            q2.append(0)\n",
    "    df[k] = q2\n",
    "\n",
    "\n",
    "rem_list = []                           ##here 13 and 715 are indexes of first and last created columns  \n",
    "for i in range(13,707):                 ##it is possible when you will try to execute code you will need to insert proper values \n",
    "    if sum(df[df.columns[i]]) < 0.025*df.shape[0] or sum(df[df.columns[i]]) > 0.975*df.shape[0]:\n",
    "        rem_list.append(i)\n",
    "\n",
    "\n",
    "s = 0\n",
    "for i in rem_list:\n",
    "    i = i - s\n",
    "    del df[df.columns[i]]\n",
    "    s += 1"
   ]
  },
  {
   "cell_type": "code",
   "execution_count": 15,
   "metadata": {
    "scrolled": true
   },
   "outputs": [
    {
     "data": {
      "text/html": [
       "<div>\n",
       "<style scoped>\n",
       "    .dataframe tbody tr th:only-of-type {\n",
       "        vertical-align: middle;\n",
       "    }\n",
       "\n",
       "    .dataframe tbody tr th {\n",
       "        vertical-align: top;\n",
       "    }\n",
       "\n",
       "    .dataframe thead th {\n",
       "        text-align: right;\n",
       "    }\n",
       "</style>\n",
       "<table border=\"1\" class=\"dataframe\">\n",
       "  <thead>\n",
       "    <tr style=\"text-align: right;\">\n",
       "      <th></th>\n",
       "      <th>App</th>\n",
       "      <th>Rating</th>\n",
       "      <th>Installs</th>\n",
       "      <th>Word Count</th>\n",
       "      <th>...</th>\n",
       "      <th>us</th>\n",
       "      <th>ut</th>\n",
       "      <th>ve</th>\n",
       "      <th>vi</th>\n",
       "    </tr>\n",
       "  </thead>\n",
       "  <tbody>\n",
       "    <tr>\n",
       "      <th>0</th>\n",
       "      <td>Photo Editor &amp; Candy Camera &amp; Grid &amp; ScrapBook</td>\n",
       "      <td>4.1</td>\n",
       "      <td>1.00e+04</td>\n",
       "      <td>9</td>\n",
       "      <td>...</td>\n",
       "      <td>0</td>\n",
       "      <td>0</td>\n",
       "      <td>0</td>\n",
       "      <td>0</td>\n",
       "    </tr>\n",
       "    <tr>\n",
       "      <th>1</th>\n",
       "      <td>Coloring book moana</td>\n",
       "      <td>3.9</td>\n",
       "      <td>5.00e+05</td>\n",
       "      <td>3</td>\n",
       "      <td>...</td>\n",
       "      <td>0</td>\n",
       "      <td>0</td>\n",
       "      <td>0</td>\n",
       "      <td>0</td>\n",
       "    </tr>\n",
       "    <tr>\n",
       "      <th>2</th>\n",
       "      <td>U Launcher Lite – FREE Live Cool Themes, Hide ...</td>\n",
       "      <td>4.7</td>\n",
       "      <td>5.00e+06</td>\n",
       "      <td>10</td>\n",
       "      <td>...</td>\n",
       "      <td>0</td>\n",
       "      <td>0</td>\n",
       "      <td>1</td>\n",
       "      <td>0</td>\n",
       "    </tr>\n",
       "    <tr>\n",
       "      <th>...</th>\n",
       "      <td>...</td>\n",
       "      <td>...</td>\n",
       "      <td>...</td>\n",
       "      <td>...</td>\n",
       "      <td>...</td>\n",
       "      <td>...</td>\n",
       "      <td>...</td>\n",
       "      <td>...</td>\n",
       "      <td>...</td>\n",
       "    </tr>\n",
       "    <tr>\n",
       "      <th>10837</th>\n",
       "      <td>Fr. Mike Schmitz Audio Teachings</td>\n",
       "      <td>5.0</td>\n",
       "      <td>1.00e+02</td>\n",
       "      <td>5</td>\n",
       "      <td>...</td>\n",
       "      <td>0</td>\n",
       "      <td>0</td>\n",
       "      <td>0</td>\n",
       "      <td>0</td>\n",
       "    </tr>\n",
       "    <tr>\n",
       "      <th>10839</th>\n",
       "      <td>The SCP Foundation DB fr nn5n</td>\n",
       "      <td>4.5</td>\n",
       "      <td>1.00e+03</td>\n",
       "      <td>6</td>\n",
       "      <td>...</td>\n",
       "      <td>0</td>\n",
       "      <td>0</td>\n",
       "      <td>0</td>\n",
       "      <td>0</td>\n",
       "    </tr>\n",
       "    <tr>\n",
       "      <th>10840</th>\n",
       "      <td>iHoroscope - 2018 Daily Horoscope &amp; Astrology</td>\n",
       "      <td>4.5</td>\n",
       "      <td>1.00e+07</td>\n",
       "      <td>7</td>\n",
       "      <td>...</td>\n",
       "      <td>0</td>\n",
       "      <td>0</td>\n",
       "      <td>0</td>\n",
       "      <td>0</td>\n",
       "    </tr>\n",
       "  </tbody>\n",
       "</table>\n",
       "<p>8197 rows × 152 columns</p>\n",
       "</div>"
      ],
      "text/plain": [
       "                                                     App  Rating  Installs  \\\n",
       "0         Photo Editor & Candy Camera & Grid & ScrapBook     4.1  1.00e+04   \n",
       "1                                    Coloring book moana     3.9  5.00e+05   \n",
       "2      U Launcher Lite – FREE Live Cool Themes, Hide ...     4.7  5.00e+06   \n",
       "...                                                  ...     ...       ...   \n",
       "10837                   Fr. Mike Schmitz Audio Teachings     5.0  1.00e+02   \n",
       "10839                      The SCP Foundation DB fr nn5n     4.5  1.00e+03   \n",
       "10840      iHoroscope - 2018 Daily Horoscope & Astrology     4.5  1.00e+07   \n",
       "\n",
       "       Word Count ...  us  ut  ve  vi  \n",
       "0               9 ...   0   0   0   0  \n",
       "1               3 ...   0   0   0   0  \n",
       "2              10 ...   0   0   1   0  \n",
       "...           ... ...  ..  ..  ..  ..  \n",
       "10837           5 ...   0   0   0   0  \n",
       "10839           6 ...   0   0   0   0  \n",
       "10840           7 ...   0   0   0   0  \n",
       "\n",
       "[8197 rows x 152 columns]"
      ]
     },
     "execution_count": 15,
     "metadata": {},
     "output_type": "execute_result"
    }
   ],
   "source": [
    "# Preview new dataset\n",
    "df"
   ]
  },
  {
   "cell_type": "code",
   "execution_count": 16,
   "metadata": {},
   "outputs": [
    {
     "data": {
      "text/html": [
       "<div>\n",
       "<style scoped>\n",
       "    .dataframe tbody tr th:only-of-type {\n",
       "        vertical-align: middle;\n",
       "    }\n",
       "\n",
       "    .dataframe tbody tr th {\n",
       "        vertical-align: top;\n",
       "    }\n",
       "\n",
       "    .dataframe thead th {\n",
       "        text-align: right;\n",
       "    }\n",
       "</style>\n",
       "<table border=\"1\" class=\"dataframe\">\n",
       "  <thead>\n",
       "    <tr style=\"text-align: right;\">\n",
       "      <th></th>\n",
       "      <th>a</th>\n",
       "      <th>b</th>\n",
       "      <th>c</th>\n",
       "    </tr>\n",
       "  </thead>\n",
       "  <tbody>\n",
       "    <tr>\n",
       "      <th>0</th>\n",
       "      <td>1</td>\n",
       "      <td>0</td>\n",
       "      <td>1</td>\n",
       "    </tr>\n",
       "    <tr>\n",
       "      <th>1</th>\n",
       "      <td>1</td>\n",
       "      <td>1</td>\n",
       "      <td>0</td>\n",
       "    </tr>\n",
       "    <tr>\n",
       "      <th>2</th>\n",
       "      <td>1</td>\n",
       "      <td>0</td>\n",
       "      <td>1</td>\n",
       "    </tr>\n",
       "    <tr>\n",
       "      <th>...</th>\n",
       "      <td>...</td>\n",
       "      <td>...</td>\n",
       "      <td>...</td>\n",
       "    </tr>\n",
       "    <tr>\n",
       "      <th>10837</th>\n",
       "      <td>1</td>\n",
       "      <td>0</td>\n",
       "      <td>1</td>\n",
       "    </tr>\n",
       "    <tr>\n",
       "      <th>10839</th>\n",
       "      <td>1</td>\n",
       "      <td>0</td>\n",
       "      <td>0</td>\n",
       "    </tr>\n",
       "    <tr>\n",
       "      <th>10840</th>\n",
       "      <td>1</td>\n",
       "      <td>0</td>\n",
       "      <td>1</td>\n",
       "    </tr>\n",
       "  </tbody>\n",
       "</table>\n",
       "<p>8197 rows × 3 columns</p>\n",
       "</div>"
      ],
      "text/plain": [
       "       a  b  c\n",
       "0      1  0  1\n",
       "1      1  1  0\n",
       "2      1  0  1\n",
       "...   .. .. ..\n",
       "10837  1  0  1\n",
       "10839  1  0  0\n",
       "10840  1  0  1\n",
       "\n",
       "[8197 rows x 3 columns]"
      ]
     },
     "execution_count": 16,
     "metadata": {},
     "output_type": "execute_result"
    }
   ],
   "source": [
    "# Preview the columns of some example letters\n",
    "df[['a','b','c']]"
   ]
  },
  {
   "cell_type": "code",
   "execution_count": 17,
   "metadata": {},
   "outputs": [
    {
     "data": {
      "text/html": [
       "<div>\n",
       "<style scoped>\n",
       "    .dataframe tbody tr th:only-of-type {\n",
       "        vertical-align: middle;\n",
       "    }\n",
       "\n",
       "    .dataframe tbody tr th {\n",
       "        vertical-align: top;\n",
       "    }\n",
       "\n",
       "    .dataframe thead th {\n",
       "        text-align: right;\n",
       "    }\n",
       "</style>\n",
       "<table border=\"1\" class=\"dataframe\">\n",
       "  <thead>\n",
       "    <tr style=\"text-align: right;\">\n",
       "      <th></th>\n",
       "      <th>Rating</th>\n",
       "      <th>Installs</th>\n",
       "      <th>Word Count</th>\n",
       "      <th>Char Count</th>\n",
       "      <th>...</th>\n",
       "      <th>us</th>\n",
       "      <th>ut</th>\n",
       "      <th>ve</th>\n",
       "      <th>vi</th>\n",
       "    </tr>\n",
       "  </thead>\n",
       "  <tbody>\n",
       "    <tr>\n",
       "      <th>count</th>\n",
       "      <td>8197.00</td>\n",
       "      <td>8.20e+03</td>\n",
       "      <td>8197.00</td>\n",
       "      <td>8197.00</td>\n",
       "      <td>...</td>\n",
       "      <td>8197.00</td>\n",
       "      <td>8197.00</td>\n",
       "      <td>8197.00</td>\n",
       "      <td>8197.00</td>\n",
       "    </tr>\n",
       "    <tr>\n",
       "      <th>mean</th>\n",
       "      <td>4.18</td>\n",
       "      <td>9.17e+06</td>\n",
       "      <td>4.01</td>\n",
       "      <td>20.05</td>\n",
       "      <td>...</td>\n",
       "      <td>0.04</td>\n",
       "      <td>0.04</td>\n",
       "      <td>0.07</td>\n",
       "      <td>0.04</td>\n",
       "    </tr>\n",
       "    <tr>\n",
       "      <th>std</th>\n",
       "      <td>0.56</td>\n",
       "      <td>5.83e+07</td>\n",
       "      <td>2.15</td>\n",
       "      <td>10.35</td>\n",
       "      <td>...</td>\n",
       "      <td>0.20</td>\n",
       "      <td>0.19</td>\n",
       "      <td>0.26</td>\n",
       "      <td>0.19</td>\n",
       "    </tr>\n",
       "    <tr>\n",
       "      <th>...</th>\n",
       "      <td>...</td>\n",
       "      <td>...</td>\n",
       "      <td>...</td>\n",
       "      <td>...</td>\n",
       "      <td>...</td>\n",
       "      <td>...</td>\n",
       "      <td>...</td>\n",
       "      <td>...</td>\n",
       "      <td>...</td>\n",
       "    </tr>\n",
       "    <tr>\n",
       "      <th>50%</th>\n",
       "      <td>4.30</td>\n",
       "      <td>1.00e+05</td>\n",
       "      <td>4.00</td>\n",
       "      <td>19.00</td>\n",
       "      <td>...</td>\n",
       "      <td>0.00</td>\n",
       "      <td>0.00</td>\n",
       "      <td>0.00</td>\n",
       "      <td>0.00</td>\n",
       "    </tr>\n",
       "    <tr>\n",
       "      <th>75%</th>\n",
       "      <td>4.50</td>\n",
       "      <td>1.00e+06</td>\n",
       "      <td>5.00</td>\n",
       "      <td>25.00</td>\n",
       "      <td>...</td>\n",
       "      <td>0.00</td>\n",
       "      <td>0.00</td>\n",
       "      <td>0.00</td>\n",
       "      <td>0.00</td>\n",
       "    </tr>\n",
       "    <tr>\n",
       "      <th>max</th>\n",
       "      <td>19.00</td>\n",
       "      <td>1.00e+09</td>\n",
       "      <td>26.00</td>\n",
       "      <td>169.00</td>\n",
       "      <td>...</td>\n",
       "      <td>1.00</td>\n",
       "      <td>1.00</td>\n",
       "      <td>1.00</td>\n",
       "      <td>1.00</td>\n",
       "    </tr>\n",
       "  </tbody>\n",
       "</table>\n",
       "<p>8 rows × 151 columns</p>\n",
       "</div>"
      ],
      "text/plain": [
       "        Rating  Installs  Word Count  Char Count   ...          us       ut  \\\n",
       "count  8197.00  8.20e+03     8197.00     8197.00   ...     8197.00  8197.00   \n",
       "mean      4.18  9.17e+06        4.01       20.05   ...        0.04     0.04   \n",
       "std       0.56  5.83e+07        2.15       10.35   ...        0.20     0.19   \n",
       "...        ...       ...         ...         ...   ...         ...      ...   \n",
       "50%       4.30  1.00e+05        4.00       19.00   ...        0.00     0.00   \n",
       "75%       4.50  1.00e+06        5.00       25.00   ...        0.00     0.00   \n",
       "max      19.00  1.00e+09       26.00      169.00   ...        1.00     1.00   \n",
       "\n",
       "            ve       vi  \n",
       "count  8197.00  8197.00  \n",
       "mean      0.07     0.04  \n",
       "std       0.26     0.19  \n",
       "...        ...      ...  \n",
       "50%       0.00     0.00  \n",
       "75%       0.00     0.00  \n",
       "max       1.00     1.00  \n",
       "\n",
       "[8 rows x 151 columns]"
      ]
     },
     "execution_count": 17,
     "metadata": {},
     "output_type": "execute_result"
    }
   ],
   "source": [
    "# Viewing general statistics of our data\n",
    "df.describe()"
   ]
  },
  {
   "cell_type": "markdown",
   "metadata": {},
   "source": [
    "## Let's Start Plotting!"
   ]
  },
  {
   "cell_type": "markdown",
   "metadata": {},
   "source": [
    "### Plotting the indivdual variables\n",
    "\n",
    "#### Rating"
   ]
  },
  {
   "cell_type": "code",
   "execution_count": 18,
   "metadata": {},
   "outputs": [
    {
     "data": {
      "text/plain": [
       "<matplotlib.axes._subplots.AxesSubplot at 0x115a54c50>"
      ]
     },
     "execution_count": 18,
     "metadata": {},
     "output_type": "execute_result"
    },
    {
     "data": {
      "image/png": "[encoded data removed]",
      "text/plain": [
       "<Figure size 432x288 with 1 Axes>"
      ]
     },
     "metadata": {},
     "output_type": "display_data"
    }
   ],
   "source": [
    "# Plots 'Rating' (which is a value from 0 to 5) to see its distribution\n",
    "df['Rating'].plot.hist(bins = 25)"
   ]
  },
  {
   "cell_type": "markdown",
   "metadata": {},
   "source": [
    "Ratings in the Google Play Store can only be values in the range between 0 and 5! There are some ratings that are past the maximum 5 stars, so we will remove those."
   ]
  },
  {
   "cell_type": "code",
   "execution_count": 19,
   "metadata": {},
   "outputs": [],
   "source": [
    "# Drops invalid ratings (greater than 5) \n",
    "df = df[df.Rating <= 5]"
   ]
  },
  {
   "cell_type": "code",
   "execution_count": 20,
   "metadata": {},
   "outputs": [
    {
     "data": {
      "text/plain": [
       "<matplotlib.axes._subplots.AxesSubplot at 0x1159efef0>"
      ]
     },
     "execution_count": 20,
     "metadata": {},
     "output_type": "execute_result"
    },
    {
     "data": {
      "image/png": "[encoded data removed]",
      "text/plain": [
       "<Figure size 432x288 with 1 Axes>"
      ]
     },
     "metadata": {},
     "output_type": "display_data"
    }
   ],
   "source": [
    "# Plots 'Rating' of apps (which are values from 0 to 5) to see its distribution\n",
    "df['Rating'].plot.hist(bins = 25)"
   ]
  },
  {
   "cell_type": "markdown",
   "metadata": {},
   "source": [
    "After removing the invalid values, we are able to get a better idea of the distribution of the ratings ranging from 0 to 5. The graph aboves shows us that there is a greater number of apps that are rated from 2.5-5 than 0-2.5. In other words, there is a negative skew."
   ]
  },
  {
   "cell_type": "code",
   "execution_count": 21,
   "metadata": {},
   "outputs": [
    {
     "name": "stdout",
     "output_type": "stream",
     "text": [
      " The mean is: 4.173243045387998 \n",
      " The median is: 4.3\n"
     ]
    }
   ],
   "source": [
    "# Calculate the mean of 'Rating'\n",
    "mean = df['Rating'].mean()\n",
    "median = df['Rating'].median()\n",
    "print(\" The mean is:\", mean, '\\n', \"The median is:\", median)"
   ]
  },
  {
   "cell_type": "markdown",
   "metadata": {},
   "source": [
    "From the above histogram, we can say that most apps have high ratings, (with a mean rating of ~4.17) probably due to peoples' rating tendencies. Distribution-wise, __ratings are skewed left__."
   ]
  },
  {
   "cell_type": "markdown",
   "metadata": {},
   "source": [
    "#### Word Count"
   ]
  },
  {
   "cell_type": "code",
   "execution_count": 22,
   "metadata": {
    "scrolled": true
   },
   "outputs": [
    {
     "data": {
      "text/plain": [
       "<matplotlib.axes._subplots.AxesSubplot at 0x10f473438>"
      ]
     },
     "execution_count": 22,
     "metadata": {},
     "output_type": "execute_result"
    },
    {
     "data": {
      "image/png": "[encoded data removed]",
      "text/plain": [
       "<Figure size 432x288 with 1 Axes>"
      ]
     },
     "metadata": {},
     "output_type": "display_data"
    }
   ],
   "source": [
    "# Plots 'Word Count' of app titles to see its distribution\n",
    "df['Word Count'].plot.hist(bins = 25)"
   ]
  },
  {
   "cell_type": "markdown",
   "metadata": {},
   "source": [
    "The plot above has a lot of empty space probably due to the presence of outliers. Let's confirm this."
   ]
  },
  {
   "cell_type": "code",
   "execution_count": 23,
   "metadata": {},
   "outputs": [
    {
     "name": "stdout",
     "output_type": "stream",
     "text": [
      " The min is: 1 \n",
      " The max is: 26\n"
     ]
    }
   ],
   "source": [
    "# Print the max and min of 'Word Count'\n",
    "minValue = df['Word Count'].min()\n",
    "maxValue = df['Word Count'].max()\n",
    "print(\" The min is:\", minValue, '\\n', \"The max is:\", maxValue)"
   ]
  },
  {
   "cell_type": "markdown",
   "metadata": {},
   "source": [
    "There is a title with 26 words!\n",
    "\n",
    "Since it is generally accepted to do so, we will be removing all outliers 2 standard deviations away form the mean. By convention, values within two standard deviations of the mean (plus or minus) contain 95% of all the points."
   ]
  },
  {
   "cell_type": "code",
   "execution_count": 24,
   "metadata": {
    "scrolled": true
   },
   "outputs": [],
   "source": [
    "# We first store the values of the std and the mean.\n",
    "\n",
    "wordCountSD = df['Word Count'].std()\n",
    "wordCountMean = df['Word Count'].mean()\n",
    "\n",
    "# We then remove outliers\n",
    "df = df.drop(df[(df['Word Count'] < (wordCountMean - 2*wordCountSD)) | (df['Word Count'] > (wordCountMean + 2*wordCountSD))].index)\n"
   ]
  },
  {
   "cell_type": "code",
   "execution_count": 25,
   "metadata": {},
   "outputs": [
    {
     "data": {
      "text/plain": [
       "<matplotlib.axes._subplots.AxesSubplot at 0x11302c208>"
      ]
     },
     "execution_count": 25,
     "metadata": {},
     "output_type": "execute_result"
    },
    {
     "data": {
      "image/png": "[encoded data removed]",
      "text/plain": [
       "<Figure size 432x288 with 1 Axes>"
      ]
     },
     "metadata": {},
     "output_type": "display_data"
    }
   ],
   "source": [
    "# Plots 'Word Count' of app titles to see its distribution\n",
    "df['Word Count'].plot.hist(bins = 7)"
   ]
  },
  {
   "cell_type": "code",
   "execution_count": 26,
   "metadata": {},
   "outputs": [
    {
     "name": "stdout",
     "output_type": "stream",
     "text": [
      " The mean is: 3.7905798936439603 \n",
      " The median is: 3.0\n"
     ]
    }
   ],
   "source": [
    "# Calculate the mean and median of 'Word Count'\n",
    "mean = df['Word Count'].mean()\n",
    "median = df['Word Count'].median()\n",
    "print(\" The mean is:\", mean, '\\n', \"The median is:\", median)"
   ]
  },
  {
   "cell_type": "code",
   "execution_count": 27,
   "metadata": {},
   "outputs": [
    {
     "name": "stdout",
     "output_type": "stream",
     "text": [
      " The min is: 1 \n",
      " The max is: 8\n"
     ]
    }
   ],
   "source": [
    "# Print the max and min of 'Word Count'\n",
    "minValue = df['Word Count'].min()\n",
    "maxValue = df['Word Count'].max()\n",
    "print(\" The min is:\", minValue, '\\n', \"The max is:\", maxValue)"
   ]
  },
  {
   "cell_type": "markdown",
   "metadata": {},
   "source": [
    "From the above histogram, we can say that most apps have relatively low word count (with a mean of ~3.79). Word count is ___slightly_ skewed to the right__."
   ]
  },
  {
   "cell_type": "markdown",
   "metadata": {},
   "source": [
    "#### Char Count"
   ]
  },
  {
   "cell_type": "code",
   "execution_count": 28,
   "metadata": {
    "scrolled": false
   },
   "outputs": [
    {
     "data": {
      "text/plain": [
       "<matplotlib.axes._subplots.AxesSubplot at 0x113094dd8>"
      ]
     },
     "execution_count": 28,
     "metadata": {},
     "output_type": "execute_result"
    },
    {
     "data": {
      "image/png": "[encoded data removed]",
      "text/plain": [
       "<Figure size 432x288 with 1 Axes>"
      ]
     },
     "metadata": {},
     "output_type": "display_data"
    }
   ],
   "source": [
    "# Plots 'Char Count' app titles to see its distribution\n",
    "df['Char Count'].plot.hist(bins = 25)"
   ]
  },
  {
   "cell_type": "code",
   "execution_count": 29,
   "metadata": {
    "scrolled": false
   },
   "outputs": [
    {
     "name": "stdout",
     "output_type": "stream",
     "text": [
      " The min is: 1 \n",
      " The max is: 52\n"
     ]
    }
   ],
   "source": [
    "# Print the max and min of 'Char Count'\n",
    "minValue = df['Char Count'].min()\n",
    "maxValue = df['Char Count'].max()\n",
    "print(\" The min is:\", minValue, '\\n', \"The max is:\", maxValue)"
   ]
  },
  {
   "cell_type": "markdown",
   "metadata": {},
   "source": [
    "Since we took out the outliers for Word Count, it'd be only be fair for us to do the same with Char Count, a similar measure as Word Count."
   ]
  },
  {
   "cell_type": "code",
   "execution_count": 30,
   "metadata": {
    "scrolled": true
   },
   "outputs": [],
   "source": [
    "# We first store the values of the std and the mean.\n",
    "\n",
    "charCountSD = df['Char Count'].std()\n",
    "charCountMean = df['Char Count'].mean()\n",
    "\n",
    "# We then remove outliers\n",
    "df = df.drop(df[(df['Char Count'] < (charCountMean - 2*charCountSD)) | (df['Char Count'] > (charCountMean + 2*charCountSD))].index)\n"
   ]
  },
  {
   "cell_type": "code",
   "execution_count": 31,
   "metadata": {
    "scrolled": false
   },
   "outputs": [
    {
     "data": {
      "text/plain": [
       "<matplotlib.axes._subplots.AxesSubplot at 0x11315aef0>"
      ]
     },
     "execution_count": 31,
     "metadata": {},
     "output_type": "execute_result"
    },
    {
     "data": {
      "image/png": "[encoded data removed]",
      "text/plain": [
       "<Figure size 432x288 with 1 Axes>"
      ]
     },
     "metadata": {},
     "output_type": "display_data"
    }
   ],
   "source": [
    "# Plots 'Char Count' app titles to see its distribution\n",
    "df['Char Count'].plot.hist(bins = 18)"
   ]
  },
  {
   "cell_type": "code",
   "execution_count": 32,
   "metadata": {},
   "outputs": [
    {
     "name": "stdout",
     "output_type": "stream",
     "text": [
      " The min is: 1 \n",
      " The max is: 37\n"
     ]
    }
   ],
   "source": [
    "# Print the max and min of 'Word Count'\n",
    "minValue = df['Char Count'].min()\n",
    "maxValue = df['Char Count'].max()\n",
    "print(\" The min is:\", minValue, '\\n', \"The max is:\", maxValue)"
   ]
  },
  {
   "cell_type": "code",
   "execution_count": 33,
   "metadata": {},
   "outputs": [
    {
     "name": "stdout",
     "output_type": "stream",
     "text": [
      " The mean is: 17.772715017524938 \n",
      " The median is: 18.0\n"
     ]
    }
   ],
   "source": [
    "# Calculate the mean and median of 'Char Count'\n",
    "mean = df['Char Count'].mean()\n",
    "median = df['Char Count'].median()\n",
    "print(\" The mean is:\", mean, '\\n', \"The median is:\", median)"
   ]
  },
  {
   "cell_type": "markdown",
   "metadata": {},
   "source": [
    "Char count has a mean of ~17.77.\n",
    "\n",
    "Although the graph shows much variability, the changes in the frequency for the char count are consistent for some values. In other words, when taking the median, we see that it comes out to be 18, which is around the middle of the x-axis (since the max is 37). This puts 50% of the values on each half of the x -axis. \n",
    "\n",
    "In short, we can say that __char count has a _slight_ normal distribution__."
   ]
  },
  {
   "cell_type": "markdown",
   "metadata": {},
   "source": [
    "#### Installs"
   ]
  },
  {
   "cell_type": "code",
   "execution_count": 34,
   "metadata": {
    "scrolled": false
   },
   "outputs": [
    {
     "data": {
      "text/plain": [
       "<matplotlib.axes._subplots.AxesSubplot at 0x11515fdd8>"
      ]
     },
     "execution_count": 34,
     "metadata": {},
     "output_type": "execute_result"
    },
    {
     "data": {
      "image/png": "[encoded data removed]",
      "text/plain": [
       "<Figure size 432x288 with 1 Axes>"
      ]
     },
     "metadata": {},
     "output_type": "display_data"
    }
   ],
   "source": [
    "# Plots 'Installs' to see its distribution\n",
    "df['Installs'].plot.hist(bins = 25)"
   ]
  },
  {
   "cell_type": "markdown",
   "metadata": {},
   "source": [
    "As we can see above, the graph has many spaces in between the different intervals on the x-axis. This may be due to the fact that our data does not provide a comprehensive number of installs, but instead categegorizes them as above a certain threshold, like 10,000+ or 50,000+, and so on. Therefore, we can see there are many apps in the beginning ranges of 0.0-0.1 1e8. As the range increases to 0.5 1e8 or even 1 1e8, the number of apps in that category begins to decrease."
   ]
  },
  {
   "cell_type": "code",
   "execution_count": 35,
   "metadata": {
    "scrolled": false
   },
   "outputs": [
    {
     "name": "stdout",
     "output_type": "stream",
     "text": [
      " The min is: 1.0 \n",
      " The max is: 1000000000.0\n"
     ]
    }
   ],
   "source": [
    "# Print the max and min of 'Installs'\n",
    "minValue = df['Installs'].min()\n",
    "maxValue = df['Installs'].max()\n",
    "print(\" The min is:\", minValue, '\\n', \"The max is:\", maxValue)"
   ]
  },
  {
   "cell_type": "code",
   "execution_count": 36,
   "metadata": {},
   "outputs": [
    {
     "data": {
      "text/plain": [
       "20"
      ]
     },
     "execution_count": 36,
     "metadata": {},
     "output_type": "execute_result"
    }
   ],
   "source": [
    "# Find out how mnay apps share the max value of 'Installs'\n",
    "dfMax = df.loc[ df['Installs'] == df['Installs'].max() ]\n",
    "dfMax.shape[0]"
   ]
  },
  {
   "cell_type": "markdown",
   "metadata": {},
   "source": [
    "(There are 20 applications that share the same number of installs, the maximum value of installs of our dataset)"
   ]
  },
  {
   "cell_type": "markdown",
   "metadata": {},
   "source": [
    "Unlike what we did with Word Count and Char Count, we decided __not__ to remove outliers for installs. This is largely due to the fact that, as explained above, our dataset gives us the number of installs for apps in \"plateus\". By removing outliers, we will be getting rid of the applications that are extremely successful and share the same number of installs in our dataset (such as Facebook, Snapchat, and Instagram). It is important to note that making this decision either way (deciding that we are getting rid of these outliers or keeping them) is inherently biased."
   ]
  },
  {
   "cell_type": "code",
   "execution_count": 37,
   "metadata": {},
   "outputs": [
    {
     "name": "stdout",
     "output_type": "stream",
     "text": [
      " The mean is: 9272736.735373417 \n",
      " The median is: 100000.0\n"
     ]
    }
   ],
   "source": [
    "# Calculate the mean and median of 'Installs'\n",
    "mean = df['Installs'].mean()\n",
    "median = df['Installs'].median()\n",
    "print(\" The mean is:\", mean, '\\n', \"The median is:\", median)"
   ]
  },
  {
   "cell_type": "markdown",
   "metadata": {},
   "source": [
    "Installs has a mean of ~9272736.74.\n",
    "\n",
    "From the above histogram, it looks like installs is strongly __skewed right__."
   ]
  },
  {
   "cell_type": "markdown",
   "metadata": {},
   "source": [
    "### Let's try to explore some relationships between our variables."
   ]
  },
  {
   "cell_type": "code",
   "execution_count": 38,
   "metadata": {},
   "outputs": [
    {
     "data": {
      "text/html": [
       "<div>\n",
       "<style scoped>\n",
       "    .dataframe tbody tr th:only-of-type {\n",
       "        vertical-align: middle;\n",
       "    }\n",
       "\n",
       "    .dataframe tbody tr th {\n",
       "        vertical-align: top;\n",
       "    }\n",
       "\n",
       "    .dataframe thead th {\n",
       "        text-align: right;\n",
       "    }\n",
       "</style>\n",
       "<table border=\"1\" class=\"dataframe\">\n",
       "  <thead>\n",
       "    <tr style=\"text-align: right;\">\n",
       "      <th></th>\n",
       "      <th>Rating</th>\n",
       "      <th>Installs</th>\n",
       "      <th>Word Count</th>\n",
       "      <th>Char Count</th>\n",
       "    </tr>\n",
       "  </thead>\n",
       "  <tbody>\n",
       "    <tr>\n",
       "      <th>Rating</th>\n",
       "      <td>1.00</td>\n",
       "      <td>0.04</td>\n",
       "      <td>0.11</td>\n",
       "      <td>0.13</td>\n",
       "    </tr>\n",
       "    <tr>\n",
       "      <th>Installs</th>\n",
       "      <td>0.04</td>\n",
       "      <td>1.00</td>\n",
       "      <td>-0.03</td>\n",
       "      <td>-0.03</td>\n",
       "    </tr>\n",
       "    <tr>\n",
       "      <th>Word Count</th>\n",
       "      <td>0.11</td>\n",
       "      <td>-0.03</td>\n",
       "      <td>1.00</td>\n",
       "      <td>0.83</td>\n",
       "    </tr>\n",
       "    <tr>\n",
       "      <th>Char Count</th>\n",
       "      <td>0.13</td>\n",
       "      <td>-0.03</td>\n",
       "      <td>0.83</td>\n",
       "      <td>1.00</td>\n",
       "    </tr>\n",
       "  </tbody>\n",
       "</table>\n",
       "</div>"
      ],
      "text/plain": [
       "            Rating  Installs  Word Count  Char Count\n",
       "Rating        1.00      0.04        0.11        0.13\n",
       "Installs      0.04      1.00       -0.03       -0.03\n",
       "Word Count    0.11     -0.03        1.00        0.83\n",
       "Char Count    0.13     -0.03        0.83        1.00"
      ]
     },
     "execution_count": 38,
     "metadata": {},
     "output_type": "execute_result"
    }
   ],
   "source": [
    "# Calculates Pearson correlation coefficient between variables with all observations\n",
    "df.iloc[:,1:5].corr()"
   ]
  },
  {
   "cell_type": "markdown",
   "metadata": {},
   "source": [
    "Save for the obvious relationship between word count and char count, there is little correlation between the variables based on Pearson's value."
   ]
  },
  {
   "cell_type": "markdown",
   "metadata": {},
   "source": [
    "#### Is there any relationship between _ratings_ and _installs_?"
   ]
  },
  {
   "cell_type": "code",
   "execution_count": 39,
   "metadata": {},
   "outputs": [
    {
     "data": {
      "text/plain": [
       "<matplotlib.collections.PathCollection at 0x115328438>"
      ]
     },
     "execution_count": 39,
     "metadata": {},
     "output_type": "execute_result"
    },
    {
     "data": {
      "image/png": "[encoded data removed]",
      "text/plain": [
       "<Figure size 432x288 with 1 Axes>"
      ]
     },
     "metadata": {},
     "output_type": "display_data"
    }
   ],
   "source": [
    "x = df['Rating']\n",
    "y = df['Installs']\n",
    "plt.scatter(x, y, c='blue')"
   ]
  },
  {
   "cell_type": "markdown",
   "metadata": {},
   "source": [
    "With installs on the y axis and ratings on the x axis, we can see that the graph above presents a clear trend. Although not a perfect negative skew, we can see that apps with ratings from 3-5 have a higher number of installs than apps with ratings from 0-2.5. Similar to the installs graph, the flat lines are due to the way the number of installs was categorized into ranges/buckets of values above a certain threshold, like 10,000+ or 50,000+. Therefore, we can observe the lines at 0.5 1e8 and 1 1e8, which mean that some apps with ratings 3-5 had that number of installs."
   ]
  },
  {
   "cell_type": "code",
   "execution_count": 40,
   "metadata": {},
   "outputs": [
    {
     "data": {
      "text/plain": [
       "[<matplotlib.lines.Line2D at 0x115ab1588>]"
      ]
     },
     "execution_count": 40,
     "metadata": {},
     "output_type": "execute_result"
    },
    {
     "data": {
      "image/png": "[encoded data removed]",
      "text/plain": [
       "<Figure size 432x288 with 1 Axes>"
      ]
     },
     "metadata": {},
     "output_type": "display_data"
    }
   ],
   "source": [
    "# Plots ratings on the x-axis and installs on the y-axis\n",
    "df_RvsI = df.groupby('Rating').mean()\n",
    "x = df_RvsI.index\n",
    "y = df_RvsI['Installs']\n",
    "plt.plot(x, y, c='blue')"
   ]
  },
  {
   "cell_type": "markdown",
   "metadata": {},
   "source": [
    "From the above two graphs, we can say that there is strong enough relationship between ratings and installs. As ratings increase, there is a general trend that installs also increases.\n",
    "\n",
    "Due to this relationship, and the fact that rating as a variable does not vary much (most ratings are between 4 to 5 as demonstrated earlier: with a mean of ~4.17 and a median of 4.3), we decided to utilize only installs as a measure of success for our project."
   ]
  },
  {
   "cell_type": "code",
   "execution_count": 41,
   "metadata": {},
   "outputs": [
    {
     "data": {
      "image/png": "[encoded data removed]",
      "text/plain": [
       "<Figure size 1296x648 with 1 Axes>"
      ]
     },
     "metadata": {},
     "output_type": "display_data"
    }
   ],
   "source": [
    "fig = plt.figure(figsize=(18, 9))\n",
    "df['log_value'] = np.log(df['Installs'])\n",
    "sns.boxplot(x='Rating', y='log_value', data=df)\n",
    "ax = plt.gca()"
   ]
  },
  {
   "cell_type": "markdown",
   "metadata": {},
   "source": [
    "#### We want to see if there is any trend/correlation with _word count_ and _installs_."
   ]
  },
  {
   "cell_type": "code",
   "execution_count": 42,
   "metadata": {},
   "outputs": [
    {
     "data": {
      "text/html": [
       "<div>\n",
       "<style scoped>\n",
       "    .dataframe tbody tr th:only-of-type {\n",
       "        vertical-align: middle;\n",
       "    }\n",
       "\n",
       "    .dataframe tbody tr th {\n",
       "        vertical-align: top;\n",
       "    }\n",
       "\n",
       "    .dataframe thead th {\n",
       "        text-align: right;\n",
       "    }\n",
       "</style>\n",
       "<table border=\"1\" class=\"dataframe\">\n",
       "  <thead>\n",
       "    <tr style=\"text-align: right;\">\n",
       "      <th></th>\n",
       "      <th>Rating</th>\n",
       "      <th>Installs</th>\n",
       "      <th>Char Count</th>\n",
       "      <th>a</th>\n",
       "      <th>...</th>\n",
       "      <th>ut</th>\n",
       "      <th>ve</th>\n",
       "      <th>vi</th>\n",
       "      <th>log_value</th>\n",
       "    </tr>\n",
       "    <tr>\n",
       "      <th>Word Count</th>\n",
       "      <th></th>\n",
       "      <th></th>\n",
       "      <th></th>\n",
       "      <th></th>\n",
       "      <th></th>\n",
       "      <th></th>\n",
       "      <th></th>\n",
       "      <th></th>\n",
       "      <th></th>\n",
       "    </tr>\n",
       "  </thead>\n",
       "  <tbody>\n",
       "    <tr>\n",
       "      <th>1</th>\n",
       "      <td>4.11</td>\n",
       "      <td>2.29e+07</td>\n",
       "      <td>7.46</td>\n",
       "      <td>0.39</td>\n",
       "      <td>...</td>\n",
       "      <td>0.01</td>\n",
       "      <td>0.02</td>\n",
       "      <td>0.01</td>\n",
       "      <td>12.21</td>\n",
       "    </tr>\n",
       "    <tr>\n",
       "      <th>2</th>\n",
       "      <td>4.08</td>\n",
       "      <td>1.08e+07</td>\n",
       "      <td>10.81</td>\n",
       "      <td>0.52</td>\n",
       "      <td>...</td>\n",
       "      <td>0.02</td>\n",
       "      <td>0.04</td>\n",
       "      <td>0.02</td>\n",
       "      <td>11.23</td>\n",
       "    </tr>\n",
       "    <tr>\n",
       "      <th>3</th>\n",
       "      <td>4.13</td>\n",
       "      <td>7.26e+06</td>\n",
       "      <td>16.08</td>\n",
       "      <td>0.68</td>\n",
       "      <td>...</td>\n",
       "      <td>0.03</td>\n",
       "      <td>0.05</td>\n",
       "      <td>0.03</td>\n",
       "      <td>11.52</td>\n",
       "    </tr>\n",
       "    <tr>\n",
       "      <th>...</th>\n",
       "      <td>...</td>\n",
       "      <td>...</td>\n",
       "      <td>...</td>\n",
       "      <td>...</td>\n",
       "      <td>...</td>\n",
       "      <td>...</td>\n",
       "      <td>...</td>\n",
       "      <td>...</td>\n",
       "      <td>...</td>\n",
       "    </tr>\n",
       "    <tr>\n",
       "      <th>6</th>\n",
       "      <td>4.25</td>\n",
       "      <td>6.80e+06</td>\n",
       "      <td>25.71</td>\n",
       "      <td>0.85</td>\n",
       "      <td>...</td>\n",
       "      <td>0.04</td>\n",
       "      <td>0.06</td>\n",
       "      <td>0.06</td>\n",
       "      <td>12.48</td>\n",
       "    </tr>\n",
       "    <tr>\n",
       "      <th>7</th>\n",
       "      <td>4.28</td>\n",
       "      <td>1.12e+07</td>\n",
       "      <td>29.24</td>\n",
       "      <td>0.87</td>\n",
       "      <td>...</td>\n",
       "      <td>0.06</td>\n",
       "      <td>0.11</td>\n",
       "      <td>0.07</td>\n",
       "      <td>12.01</td>\n",
       "    </tr>\n",
       "    <tr>\n",
       "      <th>8</th>\n",
       "      <td>4.29</td>\n",
       "      <td>1.76e+07</td>\n",
       "      <td>32.40</td>\n",
       "      <td>0.83</td>\n",
       "      <td>...</td>\n",
       "      <td>0.07</td>\n",
       "      <td>0.17</td>\n",
       "      <td>0.07</td>\n",
       "      <td>12.05</td>\n",
       "    </tr>\n",
       "  </tbody>\n",
       "</table>\n",
       "<p>8 rows × 151 columns</p>\n",
       "</div>"
      ],
      "text/plain": [
       "            Rating  Installs  Char Count     a    ...        ut    ve    vi  \\\n",
       "Word Count                                        ...                         \n",
       "1             4.11  2.29e+07        7.46  0.39    ...      0.01  0.02  0.01   \n",
       "2             4.08  1.08e+07       10.81  0.52    ...      0.02  0.04  0.02   \n",
       "3             4.13  7.26e+06       16.08  0.68    ...      0.03  0.05  0.03   \n",
       "...            ...       ...         ...   ...    ...       ...   ...   ...   \n",
       "6             4.25  6.80e+06       25.71  0.85    ...      0.04  0.06  0.06   \n",
       "7             4.28  1.12e+07       29.24  0.87    ...      0.06  0.11  0.07   \n",
       "8             4.29  1.76e+07       32.40  0.83    ...      0.07  0.17  0.07   \n",
       "\n",
       "            log_value  \n",
       "Word Count             \n",
       "1               12.21  \n",
       "2               11.23  \n",
       "3               11.52  \n",
       "...               ...  \n",
       "6               12.48  \n",
       "7               12.01  \n",
       "8               12.05  \n",
       "\n",
       "[8 rows x 151 columns]"
      ]
     },
     "execution_count": 42,
     "metadata": {},
     "output_type": "execute_result"
    }
   ],
   "source": [
    "# Groups apps by the number of words they have, then gets the average number of installs and displays them\n",
    "df_new = df.groupby('Word Count').mean()\n",
    "df_new"
   ]
  },
  {
   "cell_type": "code",
   "execution_count": 43,
   "metadata": {},
   "outputs": [
    {
     "data": {
      "text/plain": [
       "<matplotlib.axes._subplots.AxesSubplot at 0x11ca3cba8>"
      ]
     },
     "execution_count": 43,
     "metadata": {},
     "output_type": "execute_result"
    },
    {
     "data": {
      "image/png": "[encoded data removed]",
      "text/plain": [
       "<Figure size 1296x648 with 2 Axes>"
      ]
     },
     "metadata": {},
     "output_type": "display_data"
    }
   ],
   "source": [
    "fig = plt.figure(figsize=(18, 9))\n",
    "fig.add_subplot(1, 2, 1)\n",
    "# Plots the average number of installs (y-axis) for apps of each word count (x-axis)\n",
    "x1 = df_new.index\n",
    "sns.barplot(x=x1, \n",
    "            y='Installs', \n",
    "            data=df_new);\n",
    "\n",
    "fig.add_subplot(1, 2, 2)\n",
    "\n"
   ]
  },
  {
   "cell_type": "code",
   "execution_count": 44,
   "metadata": {
    "scrolled": true
   },
   "outputs": [
    {
     "data": {
      "text/plain": [
       "<matplotlib.collections.PathCollection at 0x11cb0e198>"
      ]
     },
     "execution_count": 44,
     "metadata": {},
     "output_type": "execute_result"
    },
    {
     "data": {
      "image/png": "[encoded data removed]",
      "text/plain": [
       "<Figure size 432x288 with 1 Axes>"
      ]
     },
     "metadata": {},
     "output_type": "display_data"
    }
   ],
   "source": [
    "x = df['Word Count']\n",
    "y = df['Installs']\n",
    "plt.scatter(x, y, c='blue')"
   ]
  },
  {
   "cell_type": "code",
   "execution_count": 45,
   "metadata": {},
   "outputs": [
    {
     "data": {
      "image/png": "[encoded data removed]",
      "text/plain": [
       "<Figure size 1296x648 with 1 Axes>"
      ]
     },
     "metadata": {},
     "output_type": "display_data"
    }
   ],
   "source": [
    "fig = plt.figure(figsize=(18, 9))\n",
    "sns.boxplot(x='Word Count', y='log_value', data=df)\n",
    "ax = plt.gca()"
   ]
  },
  {
   "cell_type": "markdown",
   "metadata": {},
   "source": [
    "#### Similarly, what about _char count_ and _installs_?"
   ]
  },
  {
   "cell_type": "code",
   "execution_count": 46,
   "metadata": {},
   "outputs": [
    {
     "data": {
      "text/html": [
       "<div>\n",
       "<style scoped>\n",
       "    .dataframe tbody tr th:only-of-type {\n",
       "        vertical-align: middle;\n",
       "    }\n",
       "\n",
       "    .dataframe tbody tr th {\n",
       "        vertical-align: top;\n",
       "    }\n",
       "\n",
       "    .dataframe thead th {\n",
       "        text-align: right;\n",
       "    }\n",
       "</style>\n",
       "<table border=\"1\" class=\"dataframe\">\n",
       "  <thead>\n",
       "    <tr style=\"text-align: right;\">\n",
       "      <th></th>\n",
       "      <th>Rating</th>\n",
       "      <th>Installs</th>\n",
       "      <th>Word Count</th>\n",
       "      <th>a</th>\n",
       "      <th>...</th>\n",
       "      <th>ut</th>\n",
       "      <th>ve</th>\n",
       "      <th>vi</th>\n",
       "      <th>log_value</th>\n",
       "    </tr>\n",
       "    <tr>\n",
       "      <th>Char Count</th>\n",
       "      <th></th>\n",
       "      <th></th>\n",
       "      <th></th>\n",
       "      <th></th>\n",
       "      <th></th>\n",
       "      <th></th>\n",
       "      <th></th>\n",
       "      <th></th>\n",
       "      <th></th>\n",
       "    </tr>\n",
       "  </thead>\n",
       "  <tbody>\n",
       "    <tr>\n",
       "      <th>1</th>\n",
       "      <td>3.95</td>\n",
       "      <td>5.25e+05</td>\n",
       "      <td>1.00</td>\n",
       "      <td>0.00</td>\n",
       "      <td>...</td>\n",
       "      <td>0.00</td>\n",
       "      <td>0.00</td>\n",
       "      <td>0.00</td>\n",
       "      <td>12.32</td>\n",
       "    </tr>\n",
       "    <tr>\n",
       "      <th>2</th>\n",
       "      <td>3.93</td>\n",
       "      <td>5.78e+06</td>\n",
       "      <td>1.00</td>\n",
       "      <td>0.19</td>\n",
       "      <td>...</td>\n",
       "      <td>0.00</td>\n",
       "      <td>0.00</td>\n",
       "      <td>0.00</td>\n",
       "      <td>10.22</td>\n",
       "    </tr>\n",
       "    <tr>\n",
       "      <th>3</th>\n",
       "      <td>3.98</td>\n",
       "      <td>3.67e+07</td>\n",
       "      <td>1.04</td>\n",
       "      <td>0.00</td>\n",
       "      <td>...</td>\n",
       "      <td>0.00</td>\n",
       "      <td>0.00</td>\n",
       "      <td>0.00</td>\n",
       "      <td>14.76</td>\n",
       "    </tr>\n",
       "    <tr>\n",
       "      <th>...</th>\n",
       "      <td>...</td>\n",
       "      <td>...</td>\n",
       "      <td>...</td>\n",
       "      <td>...</td>\n",
       "      <td>...</td>\n",
       "      <td>...</td>\n",
       "      <td>...</td>\n",
       "      <td>...</td>\n",
       "      <td>...</td>\n",
       "    </tr>\n",
       "    <tr>\n",
       "      <th>35</th>\n",
       "      <td>4.32</td>\n",
       "      <td>9.98e+06</td>\n",
       "      <td>6.83</td>\n",
       "      <td>0.87</td>\n",
       "      <td>...</td>\n",
       "      <td>0.10</td>\n",
       "      <td>0.15</td>\n",
       "      <td>0.08</td>\n",
       "      <td>12.38</td>\n",
       "    </tr>\n",
       "    <tr>\n",
       "      <th>36</th>\n",
       "      <td>4.32</td>\n",
       "      <td>1.87e+07</td>\n",
       "      <td>7.05</td>\n",
       "      <td>0.93</td>\n",
       "      <td>...</td>\n",
       "      <td>0.07</td>\n",
       "      <td>0.15</td>\n",
       "      <td>0.03</td>\n",
       "      <td>12.19</td>\n",
       "    </tr>\n",
       "    <tr>\n",
       "      <th>37</th>\n",
       "      <td>4.23</td>\n",
       "      <td>8.28e+06</td>\n",
       "      <td>6.88</td>\n",
       "      <td>0.91</td>\n",
       "      <td>...</td>\n",
       "      <td>0.11</td>\n",
       "      <td>0.23</td>\n",
       "      <td>0.09</td>\n",
       "      <td>12.50</td>\n",
       "    </tr>\n",
       "  </tbody>\n",
       "</table>\n",
       "<p>37 rows × 151 columns</p>\n",
       "</div>"
      ],
      "text/plain": [
       "            Rating  Installs  Word Count     a    ...        ut    ve    vi  \\\n",
       "Char Count                                        ...                         \n",
       "1             3.95  5.25e+05        1.00  0.00    ...      0.00  0.00  0.00   \n",
       "2             3.93  5.78e+06        1.00  0.19    ...      0.00  0.00  0.00   \n",
       "3             3.98  3.67e+07        1.04  0.00    ...      0.00  0.00  0.00   \n",
       "...            ...       ...         ...   ...    ...       ...   ...   ...   \n",
       "35            4.32  9.98e+06        6.83  0.87    ...      0.10  0.15  0.08   \n",
       "36            4.32  1.87e+07        7.05  0.93    ...      0.07  0.15  0.03   \n",
       "37            4.23  8.28e+06        6.88  0.91    ...      0.11  0.23  0.09   \n",
       "\n",
       "            log_value  \n",
       "Char Count             \n",
       "1               12.32  \n",
       "2               10.22  \n",
       "3               14.76  \n",
       "...               ...  \n",
       "35              12.38  \n",
       "36              12.19  \n",
       "37              12.50  \n",
       "\n",
       "[37 rows x 151 columns]"
      ]
     },
     "execution_count": 46,
     "metadata": {},
     "output_type": "execute_result"
    }
   ],
   "source": [
    "# Groups apps by the number of words they have, then gets the average number of installs and displays them\n",
    "df_new = df.groupby('Char Count').mean()\n",
    "df_new"
   ]
  },
  {
   "cell_type": "code",
   "execution_count": 47,
   "metadata": {},
   "outputs": [
    {
     "data": {
      "image/png": "[encoded data removed]",
      "text/plain": [
       "<Figure size 1080x595.44 with 1 Axes>"
      ]
     },
     "metadata": {},
     "output_type": "display_data"
    }
   ],
   "source": [
    "# Plots the average number of installs (y-axis) for apps of each word count (x-axis)\n",
    "x1 = df_new.index\n",
    "fig, ax = plt.subplots()\n",
    "fig.set_size_inches(15, 8.27)\n",
    "sns.barplot(x=x1, \n",
    "            y='Installs', \n",
    "            data=df_new,\n",
    "            ax = ax);"
   ]
  },
  {
   "cell_type": "code",
   "execution_count": 48,
   "metadata": {},
   "outputs": [
    {
     "data": {
      "text/plain": [
       "<matplotlib.collections.PathCollection at 0x1a29f72550>"
      ]
     },
     "execution_count": 48,
     "metadata": {},
     "output_type": "execute_result"
    },
    {
     "data": {
      "image/png": "[encoded data removed]",
      "text/plain": [
       "<Figure size 432x288 with 1 Axes>"
      ]
     },
     "metadata": {},
     "output_type": "display_data"
    }
   ],
   "source": [
    "x = df['Char Count']\n",
    "y = df['Installs']\n",
    "plt.scatter(x, y, c='blue')"
   ]
  },
  {
   "cell_type": "markdown",
   "metadata": {},
   "source": [
    "With installs on the y axis and char count on the x axis, we can see that the graph above presents a clear trend. Although not a perfect positive skew, we can see that apps with a char count from 0-50 have a higher number of installs than apps with char counts greater than 50. Similar to the installs graph, the flat lines are due to the way the number of installs was categorized into ranges/buckets of values above a certain threshold, like 10,000+ or 50,000+. Therefore, we can observe the lines at 0.5 1e8 and 1 1e8, which mean that some apps with a char count of 0-50 had that number of installs."
   ]
  },
  {
   "cell_type": "code",
   "execution_count": 49,
   "metadata": {},
   "outputs": [
    {
     "data": {
      "image/png": "[encoded data removed]",
      "text/plain": [
       "<Figure size 1296x648 with 1 Axes>"
      ]
     },
     "metadata": {},
     "output_type": "display_data"
    }
   ],
   "source": [
    "fig = plt.figure(figsize=(18, 9))\n",
    "sns.boxplot(x='Char Count', y='log_value', data=df)\n",
    "ax = plt.gca()"
   ]
  },
  {
   "cell_type": "markdown",
   "metadata": {},
   "source": [
    "Now that we found a trend between word count and installs, is there any relationship between rating and word count?"
   ]
  },
  {
   "cell_type": "code",
   "execution_count": 50,
   "metadata": {},
   "outputs": [
    {
     "data": {
      "image/png": "[encoded data removed]",
      "text/plain": [
       "<Figure size 1080x595.44 with 1 Axes>"
      ]
     },
     "metadata": {},
     "output_type": "display_data"
    }
   ],
   "source": [
    "# Plots the average number of installs (y-axis) for apps of each word count (x-axis)\n",
    "x1 = df_new.index\n",
    "fig, ax = plt.subplots()\n",
    "fig.set_size_inches(15, 8.27)\n",
    "sns.barplot(x=x1, \n",
    "            y='Rating', \n",
    "            data=df_new,\n",
    "            ax = ax);"
   ]
  },
  {
   "cell_type": "markdown",
   "metadata": {},
   "source": [
    "# Data Analysis & Results"
   ]
  },
  {
   "cell_type": "markdown",
   "metadata": {},
   "source": [
    "# Ethics & Privacy"
   ]
  },
  {
   "cell_type": "markdown",
   "metadata": {},
   "source": [
    "# Conclusion & Discussion"
   ]
  },
  {
   "cell_type": "code",
   "execution_count": 51,
   "metadata": {},
   "outputs": [
    {
     "data": {
      "text/plain": [
       "<matplotlib.axes._subplots.AxesSubplot at 0x115813be0>"
      ]
     },
     "execution_count": 51,
     "metadata": {},
     "output_type": "execute_result"
    },
    {
     "data": {
      "image/png": "[encoded data removed]",
      "text/plain": [
       "<Figure size 432x288 with 1 Axes>"
      ]
     },
     "metadata": {},
     "output_type": "display_data"
    }
   ],
   "source": [
    "# Make a bar plot where each bar shows the number of app titles each letter appears in\n",
    "\n",
    "num= []\n",
    "letter = []\n",
    "for index in range(5,29):\n",
    "    pos = (df.iloc[: , index] == 1).sum()\n",
    "    columnSeriesObj = df.iloc[: , index]\n",
    "    num.append(pos)\n",
    "    letter.append(df.iloc[: , index].name)\n",
    "sns.barplot(letter,num)"
   ]
  },
  {
   "cell_type": "code",
   "execution_count": 52,
   "metadata": {},
   "outputs": [
    {
     "data": {
      "text/plain": [
       "<matplotlib.legend.Legend at 0x1a264d5f28>"
      ]
     },
     "execution_count": 52,
     "metadata": {},
     "output_type": "execute_result"
    },
    {
     "data": {
      "image/png": "[encoded data removed]",
      "text/plain": [
       "<Figure size 432x288 with 1 Axes>"
      ]
     },
     "metadata": {},
     "output_type": "display_data"
    }
   ],
   "source": [
    "# Create a new figure\n",
    "fig = plt.figure()\n",
    "# Add an axes to our figureax = plt.axes()\n",
    "ax = plt.axes()\n",
    "\n",
    "x = df['Word Count']\n",
    "y1 = df['Installs']\n",
    "y2 = df['Rating']\n",
    "\n",
    "# Plot the data again\n",
    "ax.scatter(x, y1, c='cyan', alpha=0.6, label='Group 1', s=50)\n",
    "plt.plot(linewidth=2)\n",
    "ax.scatter(x, y2, c='purple', alpha=0.6, label='Group 2', s=50)\n",
    "# Here we've added some more optional arguments. \n",
    "# alpha - sets the transparency of the data points\n",
    "# label - makes a label for the data we've plotted, which can be used in the legend\n",
    "# s - size. Changes the size of the dots we plot\n",
    "\n",
    "# Add a title to our graph\n",
    "plt.title('Title', fontsize=18, fontweight='bold')\n",
    "\n",
    "# Add data labels\n",
    "plt.xlabel('X Data Label', fontsize=16, fontweight='bold')\n",
    "plt.ylabel('Y Data Label', fontsize=16, fontweight='bold')\n",
    "\n",
    "# Set the ranges to plot of the x and y variables\n",
    "plt.xlim([-0.1, 1.1])\n",
    "plt.ylim([-0.1, 1.1])\n",
    "\n",
    "# Set the tick labels\n",
    "ax.set_xticks(np.array([5,10,15,20,25,30]))\n",
    "ax.set_yticks(np.array([1,2,3,4,5]))\n",
    "\n",
    "# hide grid lines\n",
    "ax.grid(False)\n",
    "\n",
    "# Turn the top and right side lines off\n",
    "ax.spines['right'].set_visible(False)\n",
    "ax.spines['top'].set_visible(False)\n",
    "\n",
    "# Set the tick marks to only be on the bottom and the left. \n",
    "ax.xaxis.set_ticks_position('bottom')\n",
    "ax.yaxis.set_ticks_position('left')\n",
    "\n",
    "# Set linewidth of remaining spines\n",
    "ax.spines['left'].set_linewidth(2)\n",
    "ax.spines['bottom'].set_linewidth(2)\n",
    "\n",
    "# Add a legend. This will use the labels you defined when you set the data.\n",
    "plt.legend(loc='upper left', scatterpoints=1, frameon=False)\n",
    "# Legend doesn't require any arguments. \n",
    "# Here we optionally specify where to put the legend ('loc'), how many points to use \n",
    "#  in the legend ('scatterpoints'), and wether to have a box around the legend ('frameon')"
   ]
  }
 ],
 "metadata": {
  "kernelspec": {
   "display_name": "Python 3",
   "language": "python",
   "name": "python3"
  },
  "language_info": {
   "codemirror_mode": {
    "name": "ipython",
    "version": 3
   },
   "file_extension": ".py",
   "mimetype": "text/x-python",
   "name": "python",
   "nbconvert_exporter": "python",
   "pygments_lexer": "ipython3",
   "version": "3.6.5"
  }
 },
 "nbformat": 4,
 "nbformat_minor": 2
}
